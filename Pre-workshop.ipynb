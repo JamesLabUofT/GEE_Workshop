{
  "nbformat": 4,
  "nbformat_minor": 0,
  "metadata": {
    "colab": {
      "provenance": [],
      "authorship_tag": "ABX9TyOSe5l4UVLheI5/EW7xtyLf"
    },
    "kernelspec": {
      "name": "python3",
      "display_name": "Python 3"
    },
    "language_info": {
      "name": "python"
    }
  },
  "cells": [
    {
      "cell_type": "markdown",
      "source": [
        "# Pre-Workshop Preparation: Getting Started with Google Earth Engine and Python in Google Colab\n",
        "\n",
        "To get the most out of the upcoming workshop, please complete the following setup steps ahead of time. This will ensure you're ready to dive into hands-on exercises using Google Earth Engine (GEE) and Python via Google Colab.\n",
        "\n",
        "1. Sign Up for Google Earth Engine\n",
        "Google Earth Engine is a cloud-based platform for large-scale geospatial analysis. To use it:\n",
        "\n",
        "* Visit the Google Earth Engine sign-up page: https://earthengine.google.com/\n",
        "**Sign in with your Google account and request access (approval usually takes 1–2 days)**\n",
        "\n",
        "  *Once approved, you can explore the Code Editor at code.earthengine.google.com*\n",
        "\n",
        "2. Familiarize Yourself with the Earth Engine Code Editor\n",
        "While we’ll be using Python in the workshop, the Code Editor (which uses JavaScript) is a great way to explore datasets and understand GEE’s structure. Take a few minutes to explore:\n",
        "\n",
        "* The Script Panel (for writing code)\n",
        "* The Map Panel (for visualizing results)\n",
        "* The Inspector Tool (to examine pixel values)\n",
        "* The Docs tab (for dataset and function references)\n",
        "\n",
        "3. Set Up Google Colab for Earth Engine\n",
        "We’ll be using Google Colab, a free, cloud-based Jupyter notebook environment that runs in your browser—no installation required.\n",
        "\n",
        "**Before the workshop:**\n",
        "\n",
        "Open Google Colab\n",
        "Run the following code in a new notebook to install and authenticate Earth Engine:\n"
      ],
      "metadata": {
        "id": "rZz1kkvpBV0Q"
      }
    },
    {
      "cell_type": "code",
      "source": [
        "\n",
        "!pip install earthengine-api geemap\n",
        "import ee\n",
        "ee.Authenticate()\n",
        "ee.Initialize()\n"
      ],
      "metadata": {
        "id": "b-cmLbzmIXMd"
      },
      "execution_count": null,
      "outputs": []
    },
    {
      "cell_type": "markdown",
      "source": [
        "\n",
        "⚠️ You’ll be prompted to log in with your Google account and paste an authentication code—this step is required only once per session.\n",
        "\n",
        "4. Optional: Explore geemap\n",
        "geemap is a Python package that integrates Earth Engine with interactive maps in Colab. It simplifies visualization and spatial analysis."
      ],
      "metadata": {
        "id": "ZDnv--lvBccw"
      }
    },
    {
      "cell_type": "code",
      "source": [
        "# EXAMPLE - Visualize trends in precipitation In algonquin over the last 10 years\n",
        "\n",
        "# Install required packages\n",
        "!pip install earthengine-api geemap\n",
        "\n",
        "import ee\n",
        "import geemap\n",
        "import pandas as pd\n",
        "import matplotlib.pyplot as plt\n",
        "\n",
        "# Authenticate and initialize Earth Engine\n",
        "ee.Authenticate()\n",
        "ee.Initialize()\n",
        "\n",
        "# Define the region of interest: Algonquin Provincial Park (approximate bounding box)\n",
        "algonquin = ee.Geometry.Rectangle([-79.0, 45.2, -77.5, 46.2])\n",
        "\n",
        "# Define the time range\n",
        "start_date = '2015-01-01'\n",
        "end_date = '2025-01-01'\n",
        "\n",
        "# Load ERA5 monthly precipitation data\n",
        "era5 = ee.ImageCollection('ECMWF/ERA5_LAND/MONTHLY') \\\n",
        "    .filterDate(start_date, end_date) \\\n",
        "    .select('total_precipitation')\n",
        "\n",
        "# Function to calculate mean precipitation over the region\n",
        "def extract_precipitation(image):\n",
        "    date = image.date().format('YYYY-MM')\n",
        "    mean_dict = image.reduceRegion(\n",
        "        reducer=ee.Reducer.mean(),\n",
        "        geometry=algonquin,\n",
        "        scale=10000,\n",
        "        maxPixels=1e9\n",
        "    )\n",
        "    return ee.Feature(None, {\n",
        "        'date': date,\n",
        "        'precip_mm': ee.Number(mean_dict.get('total_precipitation')).multiply(1000)  # Convert from meters to mm\n",
        "    })\n",
        "\n",
        "# Apply the function to each image\n",
        "precipitation_features = era5.map(extract_precipitation).filter(ee.Filter.notNull(['precip_mm']))\n",
        "\n",
        "# Extract data to Python\n",
        "dates = precipitation_features.aggregate_array('date').getInfo()\n",
        "values = precipitation_features.aggregate_array('precip_mm').getInfo()\n",
        "\n",
        "# Create a DataFrame\n",
        "df = pd.DataFrame({\n",
        "    'Date': pd.to_datetime(dates),\n",
        "    'Precipitation (mm)': values\n",
        "}).sort_values('Date')\n",
        "\n",
        "# Plot the time series\n",
        "plt.figure(figsize=(12, 6))\n",
        "plt.plot(df['Date'], df['Precipitation (mm)'], marker='o', linestyle='-')\n",
        "plt.title('Monthly Precipitation in Algonquin Provincial Park (2015–2025)')\n",
        "plt.xlabel('Date')\n",
        "plt.ylabel('Precipitation (mm)')\n",
        "plt.grid(True)\n",
        "plt.xticks(rotation=45)\n",
        "plt.tight_layout()\n",
        "plt.show()\n"
      ],
      "metadata": {
        "id": "L00AJvKECtU0"
      },
      "execution_count": null,
      "outputs": []
    }
  ]
}