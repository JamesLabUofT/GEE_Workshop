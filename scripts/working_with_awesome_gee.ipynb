{
  "nbformat": 4,
  "nbformat_minor": 0,
  "metadata": {
    "colab": {
      "provenance": [],
      "authorship_tag": "ABX9TyPfAn245EapbEaZ1skEZJN3",
      "include_colab_link": true
    },
    "kernelspec": {
      "name": "python3",
      "display_name": "Python 3"
    },
    "language_info": {
      "name": "python"
    }
  },
  "cells": [
    {
      "cell_type": "markdown",
      "metadata": {
        "id": "view-in-github",
        "colab_type": "text"
      },
      "source": [
        "<a href=\"https://colab.research.google.com/github/JamesLabUofT/GEE_Workshop/blob/main/scripts/working_with_awesome_gee.ipynb\" target=\"_parent\"><img src=\"https://colab.research.google.com/assets/colab-badge.svg\" alt=\"Open In Colab\"/></a>"
      ]
    },
    {
      "cell_type": "markdown",
      "source": [
        "# Extracting and Processing data from Awesome GEE Community Catalog\n",
        "\n",
        "\n",
        "## Module Overview\n",
        "\n",
        "This module introduces participants to accessing, analyzing, and visualizing forest-related geospatial datasets from the Awesome GEE Community Data Catalog using Google Earth Engine (GEE) and Python. Through hands-on exercises in Google Colab, participants will explore forest disturbance, land cover, and species composition across Canada using high-resolution datasets.\n",
        "\n",
        "## Learning Objectives:\n",
        "By the end of this module, participants will be able to:\n",
        "\n",
        "* Understand the structure and content of selected forest datasets in the Awesome GEE Catalog\n",
        "* Use Python and the Earth Engine API to access, filter, and visualize geospatial data\n",
        "* Work with both raster (ImageCollections) and vector (FeatureCollections) datasets\n",
        "* Perform spatial and temporal analysis on forest disturbance and land cover\n",
        "Export processed data for further analysis or reporting\n",
        "\n",
        "## Topics Covered:\n",
        "**Introduction to the Awesome GEE Community Catalog**\n",
        "\n",
        "* Overview of the catalog and its purpose\n",
        "* Navigating the catalog and locating datasets\n",
        "\n",
        "**Working with FeatureCollections: NBAC Dataset\n",
        "Dataset: National Burned Area Composite (NBAC)**\n",
        "\n",
        "* Understanding vector data in GEE\n",
        "* Loading and filtering NBAC by year and region\n",
        "* Visualizing burned areas on interactive maps\n",
        "* Calculating burned area statistics\n",
        "* Exporting filtered data to CSV or Google Drive\n",
        "\n",
        "**Using the NBAC perimeters, lets explore some forest cover**\n",
        "\n",
        "**Exploring Raster Datasets**\n",
        "\n",
        "a. High-Resolution Annual Forest Land Cover (1984–2022)\n",
        "* Getting annual forest cover per class prior to fire\n",
        "* Detecting forest cover change over time - how did the forest change in the from 2000-2022\n",
        "\n",
        "\n",
        "b. Canada Long-Term Tree Species (1984–2022)\n",
        "* Mapping tree species\n",
        "* Can we get the percentage of black spruce within each fire?\n",
        "\n",
        "\n",
        "c. Canada Landsat-Derived Forest Harvest Disturbance (1985–2020)\n",
        "* Mapping harvest disturbances - were there any harvest disturbances detected within fire perimeters between 1985 and 2020?\n",
        "* Comparing harvest vs. fire impacts (not covered today)\n",
        "* Temporal analysis of disturbance trends (not covered today)\n",
        "\n",
        "\n",
        "\n",
        "**Data Extraction and Visualization**\n",
        "\n",
        "* Reducing data over custom regions (e.g., provinces, ecozones)\n",
        "* Exporting time-series data to Pandas DataFrames\n",
        "* Creating charts and maps using matplotlib and geemap\n",
        "* Exporting results for use in reports or further analysis\n",
        "\n"
      ],
      "metadata": {
        "id": "zNiSpUskHMHc"
      }
    },
    {
      "cell_type": "markdown",
      "source": [
        "## Introduction to the Awesome GEE Community Catalog\n",
        "\n",
        "\n",
        "✅ Expand access to valuable datasets not included in the official GEE catalog\n",
        "🌍 Support reproducible science by sharing preprocessed, ready-to-use data\n",
        "🧑‍🤝‍🧑 Foster collaboration across the global geospatial community\n",
        "📈 Accelerate research in climate, ecology, forestry, urban studies, and more\n",
        "\n",
        "https://gee-community-catalog.org/"
      ],
      "metadata": {
        "id": "NXDxvW-nCLpa"
      }
    },
    {
      "cell_type": "markdown",
      "source": [
        "**environment setup**"
      ],
      "metadata": {
        "id": "2K7EcPN1CW7z"
      }
    },
    {
      "cell_type": "code",
      "source": [
        "import ee\n",
        "import geemap\n",
        "import geopandas as gpd\n",
        "import pandas as pd\n",
        "import matplotlib.pyplot as plt\n",
        "import numpy as np\n",
        "import ipyleaflet"
      ],
      "metadata": {
        "id": "fDaUxcGQCWq2"
      },
      "execution_count": 5,
      "outputs": []
    },
    {
      "cell_type": "markdown",
      "source": [
        "Authenticate and intialize ee"
      ],
      "metadata": {
        "id": "Jt3QF0yHCnEU"
      }
    },
    {
      "cell_type": "code",
      "source": [
        "from google.colab import userdata\n",
        "ee.Authenticate()\n",
        "id = userdata.get('user_id')\n",
        "ee.Initialize(project=id) # project='ee-userid'"
      ],
      "metadata": {
        "colab": {
          "base_uri": "https://localhost:8080/",
          "height": 17
        },
        "id": "V5l9meEuCmuc",
        "outputId": "c78a2495-6c93-4a73-8ada-903eb8308b10"
      },
      "execution_count": 7,
      "outputs": [
        {
          "output_type": "display_data",
          "data": {
            "text/plain": [
              "<IPython.core.display.HTML object>"
            ],
            "text/html": [
              "\n",
              "            <style>\n",
              "                .geemap-dark {\n",
              "                    --jp-widgets-color: white;\n",
              "                    --jp-widgets-label-color: white;\n",
              "                    --jp-ui-font-color1: white;\n",
              "                    --jp-layout-color2: #454545;\n",
              "                    background-color: #383838;\n",
              "                }\n",
              "\n",
              "                .geemap-dark .jupyter-button {\n",
              "                    --jp-layout-color3: #383838;\n",
              "                }\n",
              "\n",
              "                .geemap-colab {\n",
              "                    background-color: var(--colab-primary-surface-color, white);\n",
              "                }\n",
              "\n",
              "                .geemap-colab .jupyter-button {\n",
              "                    --jp-layout-color3: var(--colab-primary-surface-color, white);\n",
              "                }\n",
              "            </style>\n",
              "            "
            ]
          },
          "metadata": {}
        }
      ]
    },
    {
      "cell_type": "markdown",
      "source": [
        "# Working with Feature Collections: NBAC"
      ],
      "metadata": {
        "id": "0ZmLDv1KHaN4"
      }
    },
    {
      "cell_type": "markdown",
      "source": [
        "In this section, participants will explore how to work with vector data in Google Earth Engine using the NBAC dataset, which maps burned areas across Canada. This hands-on module introduces the concept of FeatureCollections, a core data structure in GEE used to represent geographic features like points, lines, and polygons.\n",
        "\n",
        "FeatureCollections are the vector equivalent of ImageCollections in Earth Engine. They store geographic features—such as fire perimeters, forest plots, or administrative boundaries—along with associated attributes (e.g., year, area, cause). In this session, we’ll use the National Burned Area Composite (NBAC) to:\n",
        "\n",
        "* Load and explore a FeatureCollection\n",
        "* Filter features by year and region\n",
        "* Visualize fire perimeters on an interactive map\n",
        "* Calculate statistics like total burned area\n",
        "* Export selected features for further analysis\n",
        "\n",
        "We'll start with loading in the NBAC from https://gee-community-catalog.org/projects/nbac/#citation"
      ],
      "metadata": {
        "id": "swOs_tSAH4Ba"
      }
    },
    {
      "cell_type": "code",
      "source": [
        "nbac = ee.FeatureCollection(\"projects/sat-io/open-datasets/CA_FOREST/NBAC/nbac_1972_2023_20240530\")\n"
      ],
      "metadata": {
        "id": "BGm06PxRCGNg",
        "colab": {
          "base_uri": "https://localhost:8080/",
          "height": 17
        },
        "outputId": "b9985c52-b981-42c9-bce2-d7d6b48e6048"
      },
      "execution_count": 8,
      "outputs": [
        {
          "output_type": "display_data",
          "data": {
            "text/plain": [
              "<IPython.core.display.HTML object>"
            ],
            "text/html": [
              "\n",
              "            <style>\n",
              "                .geemap-dark {\n",
              "                    --jp-widgets-color: white;\n",
              "                    --jp-widgets-label-color: white;\n",
              "                    --jp-ui-font-color1: white;\n",
              "                    --jp-layout-color2: #454545;\n",
              "                    background-color: #383838;\n",
              "                }\n",
              "\n",
              "                .geemap-dark .jupyter-button {\n",
              "                    --jp-layout-color3: #383838;\n",
              "                }\n",
              "\n",
              "                .geemap-colab {\n",
              "                    background-color: var(--colab-primary-surface-color, white);\n",
              "                }\n",
              "\n",
              "                .geemap-colab .jupyter-button {\n",
              "                    --jp-layout-color3: var(--colab-primary-surface-color, white);\n",
              "                }\n",
              "            </style>\n",
              "            "
            ]
          },
          "metadata": {}
        }
      ]
    },
    {
      "cell_type": "markdown",
      "source": [
        "Lets look at the data"
      ],
      "metadata": {
        "id": "JuZ7WCGITLBA"
      }
    },
    {
      "cell_type": "code",
      "source": [
        "print(nbac.size().getInfo(), nbac.first().propertyNames().getInfo())"
      ],
      "metadata": {
        "id": "6chIHEl2TPNM"
      },
      "execution_count": null,
      "outputs": []
    },
    {
      "cell_type": "markdown",
      "source": [
        "Lets get all fires from 2023"
      ],
      "metadata": {
        "id": "pWttzg03Ur5o"
      }
    },
    {
      "cell_type": "code",
      "source": [
        "nbac_2023 = nbac.filter(ee.Filter.eq('YEAR', 2023))\n",
        "print(nbac_2023.size().getInfo())"
      ],
      "metadata": {
        "colab": {
          "base_uri": "https://localhost:8080/",
          "height": 35
        },
        "id": "6ObztkvgUugB",
        "outputId": "a4968eca-4ac4-48c6-99dd-028f7dd09d4f"
      },
      "execution_count": 9,
      "outputs": [
        {
          "output_type": "display_data",
          "data": {
            "text/plain": [
              "<IPython.core.display.HTML object>"
            ],
            "text/html": [
              "\n",
              "            <style>\n",
              "                .geemap-dark {\n",
              "                    --jp-widgets-color: white;\n",
              "                    --jp-widgets-label-color: white;\n",
              "                    --jp-ui-font-color1: white;\n",
              "                    --jp-layout-color2: #454545;\n",
              "                    background-color: #383838;\n",
              "                }\n",
              "\n",
              "                .geemap-dark .jupyter-button {\n",
              "                    --jp-layout-color3: #383838;\n",
              "                }\n",
              "\n",
              "                .geemap-colab {\n",
              "                    background-color: var(--colab-primary-surface-color, white);\n",
              "                }\n",
              "\n",
              "                .geemap-colab .jupyter-button {\n",
              "                    --jp-layout-color3: var(--colab-primary-surface-color, white);\n",
              "                }\n",
              "            </style>\n",
              "            "
            ]
          },
          "metadata": {}
        },
        {
          "output_type": "stream",
          "name": "stdout",
          "text": [
            "2199\n"
          ]
        }
      ]
    },
    {
      "cell_type": "markdown",
      "source": [
        "Let's look just at the fires in Ontario\n",
        "\n",
        "https://cwfis.cfs.nrcan.gc.ca/downloads/nbac/NBAC_1972to2024_20250506_shp_metadata.pdf"
      ],
      "metadata": {
        "id": "8Fz8KcE4U7Wb"
      }
    },
    {
      "cell_type": "code",
      "source": [
        "nbac_on_2023 = nbac_2023.filter(ee.Filter.eq('ADMIN_AREA', 'ON'))\n",
        "nbac_on_2023.size().getInfo()"
      ],
      "metadata": {
        "colab": {
          "base_uri": "https://localhost:8080/",
          "height": 35
        },
        "id": "p6NUMWF7UB34",
        "outputId": "c4cb9e3d-01c2-4d2b-8190-d11f7852f83a"
      },
      "execution_count": 10,
      "outputs": [
        {
          "output_type": "display_data",
          "data": {
            "text/plain": [
              "<IPython.core.display.HTML object>"
            ],
            "text/html": [
              "\n",
              "            <style>\n",
              "                .geemap-dark {\n",
              "                    --jp-widgets-color: white;\n",
              "                    --jp-widgets-label-color: white;\n",
              "                    --jp-ui-font-color1: white;\n",
              "                    --jp-layout-color2: #454545;\n",
              "                    background-color: #383838;\n",
              "                }\n",
              "\n",
              "                .geemap-dark .jupyter-button {\n",
              "                    --jp-layout-color3: #383838;\n",
              "                }\n",
              "\n",
              "                .geemap-colab {\n",
              "                    background-color: var(--colab-primary-surface-color, white);\n",
              "                }\n",
              "\n",
              "                .geemap-colab .jupyter-button {\n",
              "                    --jp-layout-color3: var(--colab-primary-surface-color, white);\n",
              "                }\n",
              "            </style>\n",
              "            "
            ]
          },
          "metadata": {}
        },
        {
          "output_type": "execute_result",
          "data": {
            "text/plain": [
              "89"
            ]
          },
          "metadata": {},
          "execution_count": 10
        }
      ]
    },
    {
      "cell_type": "markdown",
      "source": [
        "Always a good idea to check column or property types"
      ],
      "metadata": {
        "id": "cNF7g5ctpzsS"
      }
    },
    {
      "cell_type": "code",
      "source": [
        "nbac_on_2023.limit(0).getInfo()['columns']"
      ],
      "metadata": {
        "id": "tXAIK0i7pJ63"
      },
      "execution_count": null,
      "outputs": []
    },
    {
      "cell_type": "code",
      "source": [
        "ee.Number(nbac_on_2023.first().get('YEAR')).getInfo()"
      ],
      "metadata": {
        "colab": {
          "base_uri": "https://localhost:8080/",
          "height": 35
        },
        "id": "XhYocSxvqJ9W",
        "outputId": "d449366d-3bb9-4b95-f2e0-966849ad1322"
      },
      "execution_count": 11,
      "outputs": [
        {
          "output_type": "display_data",
          "data": {
            "text/plain": [
              "<IPython.core.display.HTML object>"
            ],
            "text/html": [
              "\n",
              "            <style>\n",
              "                .geemap-dark {\n",
              "                    --jp-widgets-color: white;\n",
              "                    --jp-widgets-label-color: white;\n",
              "                    --jp-ui-font-color1: white;\n",
              "                    --jp-layout-color2: #454545;\n",
              "                    background-color: #383838;\n",
              "                }\n",
              "\n",
              "                .geemap-dark .jupyter-button {\n",
              "                    --jp-layout-color3: #383838;\n",
              "                }\n",
              "\n",
              "                .geemap-colab {\n",
              "                    background-color: var(--colab-primary-surface-color, white);\n",
              "                }\n",
              "\n",
              "                .geemap-colab .jupyter-button {\n",
              "                    --jp-layout-color3: var(--colab-primary-surface-color, white);\n",
              "                }\n",
              "            </style>\n",
              "            "
            ]
          },
          "metadata": {}
        },
        {
          "output_type": "execute_result",
          "data": {
            "text/plain": [
              "2023"
            ]
          },
          "metadata": {},
          "execution_count": 11
        }
      ]
    },
    {
      "cell_type": "markdown",
      "source": [
        "lets visualize it"
      ],
      "metadata": {
        "id": "M5TOK7SDW6ca"
      }
    },
    {
      "cell_type": "code",
      "source": [
        "centroid = nbac_on_2023.geometry().centroid(1).getInfo()['coordinates']\n",
        "# geemap often automatically zooms to the layer extent when added,\n",
        "# but explicitly setting a zoom level can help if needed.\n",
        "# A zoom level between 8 and 10 is usually good for a provincial park.\n",
        "zoom_level = 9\n",
        "\n",
        "m = geemap.Map(center=(centroid[1], centroid[0]), zoom=zoom_level)\n",
        "\n",
        "# Visualization parameters are not strictly needed for feature collections/geometries,\n",
        "# but we can add a simple outline color if the default is hard to see.\n",
        "fires_vis = {'color': 'FF0000'} # Red outline\n",
        "\n",
        "# Add the AOI layer using aoi_ee\n",
        "m.add_layer(nbac_on_2023, fires_vis, \"Wildfires 2023\")\n",
        "\n",
        "# Add the layer manager to easily toggle layers\n",
        "m.add_layer_manager()\n",
        "\n",
        "m"
      ],
      "metadata": {
        "id": "qHZbkw33XN7O"
      },
      "execution_count": null,
      "outputs": []
    },
    {
      "cell_type": "markdown",
      "source": [
        "Lets calculate some summary statistics\n",
        "\n",
        "total area burned?"
      ],
      "metadata": {
        "id": "rsx-44V-XnkH"
      }
    },
    {
      "cell_type": "code",
      "source": [
        "# Calculate the area of each feature and add it as a property\n",
        "def add_area(feature):\n",
        "  return feature.set({'area_sq_ha': feature.geometry().area().divide(10000)})\n",
        "\n",
        "nbac_on_2023 = nbac_on_2023.map(add_area)\n",
        "\n",
        "# Calculate the total area\n",
        "total_area = nbac_on_2023.aggregate_sum('area_sq_ha')\n",
        "\n",
        "# Print the total area\n",
        "print('Total area:', total_area.getInfo())\n"
      ],
      "metadata": {
        "id": "pX9-DPfFhxnW"
      },
      "execution_count": null,
      "outputs": []
    },
    {
      "cell_type": "markdown",
      "source": [
        "## Exploring raster datasets using NBAC feature collection\n",
        "\n",
        "\n",
        "[High-Resolution Annual Forest Land Cover (1984–2022)](https://gee-community-catalog.org/projects/ca_lc/)\n",
        "\n",
        "**Exercise:**\n",
        "\n",
        "Calculate the % area in each fire perimeter that is coniferous.\n",
        "\n",
        "\n",
        "1.   Filter image collection by date\n",
        "2.   Clip image to fire perimter for each feature and\n",
        "3.   *Masks all none*\n",
        "4.   calculate the percent area in each class\n",
        "5.   export as csv\n",
        "\n",
        "\n",
        "\n",
        "**Class codes for raster:**\n",
        "\n",
        "* Class Code: 0\tUnclassified\n",
        "* Class Code: 20\tWater\n",
        "* Class Code: 31\tSnow/Ice\n",
        "* Class Code: 32\tRock/Rubble\n",
        "* Class Code: 33\tExposed/Barren Land\n",
        "* Class Code: 40\tBryoids\n",
        "* Class Code: 50\tShrubs\n",
        "* Class Code: 80\tWetland\n",
        "* Class Code: 81\tWetland Treed\n",
        "* Class Code: 100\tHerbs\n",
        "* Class Code: 210\tConiferous\n",
        "* Class Code: 220\tBroad Leaf\n",
        "* Class Code: 230\tMixedwood"
      ],
      "metadata": {
        "id": "mxZctNnWiTqz"
      }
    },
    {
      "cell_type": "code",
      "source": [
        "forest_lc = ee.ImageCollection(\"projects/sat-io/open-datasets/CA_FOREST_LC_VLCE2\")\n",
        "forest_lc"
      ],
      "metadata": {
        "id": "YbM6AqPoijNj"
      },
      "execution_count": null,
      "outputs": []
    },
    {
      "cell_type": "markdown",
      "source": [
        "Lets break it down for one fire"
      ],
      "metadata": {
        "id": "Z4R942WY7E6V"
      }
    },
    {
      "cell_type": "code",
      "source": [
        "first_fire = nbac_on_2023.first()\n"
      ],
      "metadata": {
        "id": "vzWMJulk7UHe"
      },
      "execution_count": null,
      "outputs": []
    },
    {
      "cell_type": "markdown",
      "source": [
        "First we get the year and make a start and end date to filter the image collection"
      ],
      "metadata": {
        "id": "kyrdr8v67YUf"
      }
    },
    {
      "cell_type": "code",
      "source": [
        "year = ee.Number(first_fire.get('YEAR')).toInt().subtract(1)\n",
        "start_date = ee.Date.fromYMD(year, 1, 1)\n",
        "end_date = ee.Date.fromYMD(year, 12, 31)"
      ],
      "metadata": {
        "id": "aTJJHfjT7fLk"
      },
      "execution_count": null,
      "outputs": []
    },
    {
      "cell_type": "markdown",
      "source": [
        "get the geometry of the fire"
      ],
      "metadata": {
        "id": "RMuanV0F7nDd"
      }
    },
    {
      "cell_type": "code",
      "source": [
        "geom = first_fire.geometry()"
      ],
      "metadata": {
        "id": "QDQsIyY97p1S"
      },
      "execution_count": null,
      "outputs": []
    },
    {
      "cell_type": "markdown",
      "source": [
        "Filter the image collection"
      ],
      "metadata": {
        "id": "-8QyLdhf7sDe"
      }
    },
    {
      "cell_type": "code",
      "source": [
        " # Filter image collection by date and bounds\n",
        "image = forest_lc.filterDate(start_date, end_date).filterBounds(geom).first()"
      ],
      "metadata": {
        "id": "9r1y3-w17uJG"
      },
      "execution_count": null,
      "outputs": []
    },
    {
      "cell_type": "markdown",
      "source": [
        "Mask all values that are not coniferous.\n",
        "\n",
        "This is a very important aspect of getting data from raster images.\n",
        "\n",
        "In Google Earth Engine (GEE), masking is the process of hiding or excluding certain pixels in a raster image based on specific criteria—such as pixel values, quality flags, or spatial boundaries. This is crucial for focusing analysis only on relevant data, improving accuracy, and reducing computational load.\n",
        "\n",
        "For example, when analyzing land cover, you might mask out all pixels except those representing forests. Masking ensures that calculations like area, statistics, or classification are applied only to meaningful regions, making it a foundational step in most remote sensing workflows.\n",
        "\n",
        "In Google Earth Engine (GEE), creating and applying a mask involves a few clear steps:\n",
        "\n",
        "* Define the Condition: Decide which pixels you want to keep. For example, to keep only pixels with a value of 210, you use image.eq(210).\n",
        "* Create the Mask: This condition returns a binary image (mask) where pixels that meet the condition are 1 (true) and others are 0 (false).\n",
        "* Apply the Mask: Use .updateMask(mask) on the original image. This hides all pixels where the mask is 0, keeping only the desired ones.\n",
        "* Use the Masked Image: The resulting image can now be used for further analysis, such as calculating area, statistics, or visualization."
      ],
      "metadata": {
        "id": "Trdwf3rB7yJ3"
      }
    },
    {
      "cell_type": "code",
      "source": [
        "# clip image\n",
        "img = ee.Image(image).clip(geom)\n",
        "# create mask - all values except 210\n",
        "class_210_mask = img.eq(210)\n",
        "#calculate pixel area\n",
        "pixel_area = ee.Image.pixelArea().divide(10000)  # hectares\n",
        "# apply mask - masks all values except 210\n",
        "area_image = pixel_area.updateMask(class_210_mask)"
      ],
      "metadata": {
        "id": "lcgj-6898JDf"
      },
      "execution_count": null,
      "outputs": []
    },
    {
      "cell_type": "markdown",
      "source": [
        "Calculate the area using the sum reducer\n"
      ],
      "metadata": {
        "id": "NPQRRRLa8pmS"
      }
    },
    {
      "cell_type": "code",
      "source": [
        "coniferous_area = area_image.reduceRegion(\n",
        "            reducer=ee.Reducer.sum(),\n",
        "            geometry=geom,\n",
        "            scale=30,\n",
        "            maxPixels=1e13\n",
        "        ).get('area')"
      ],
      "metadata": {
        "id": "-PM_aWCs8pXv"
      },
      "execution_count": null,
      "outputs": []
    },
    {
      "cell_type": "markdown",
      "source": [
        "lets look at the results"
      ],
      "metadata": {
        "id": "NkWyy75i8yjN"
      }
    },
    {
      "cell_type": "code",
      "source": [
        "coniferous_area"
      ],
      "metadata": {
        "id": "r7zCKmjD80RG"
      },
      "execution_count": null,
      "outputs": []
    },
    {
      "cell_type": "code",
      "source": [
        "first_fire = first_fire.set('class_210_area_ha', coniferous_area)"
      ],
      "metadata": {
        "id": "5QE8Qni4-lFZ"
      },
      "execution_count": null,
      "outputs": []
    },
    {
      "cell_type": "markdown",
      "source": [
        "How much of the fire is coniferous?"
      ],
      "metadata": {
        "id": "FNtQDbfO9fk8"
      }
    },
    {
      "cell_type": "code",
      "source": [
        "first_fire = first_fire.set('area_difference', ee.Number(first_fire.get('class_210_area_ha')).divide(ee.Number(first_fire.get('POLY_HA'))).multiply(100))\n",
        "first_fire.get('area_difference').getInfo()"
      ],
      "metadata": {
        "id": "f_sQ3xvv9iDB"
      },
      "execution_count": null,
      "outputs": []
    },
    {
      "cell_type": "markdown",
      "source": [
        "We can make this easier by combining everything in to one function and mapping it over the feature collection"
      ],
      "metadata": {
        "id": "J5FAZxnHeFbq"
      }
    },
    {
      "cell_type": "code",
      "source": [
        "def calculate_class_210_area(feature):\n",
        "    year = ee.Number(feature.get('YEAR')).toInt().subtract(1)\n",
        "    start_date = ee.Date.fromYMD(year, 1, 1)\n",
        "    end_date = ee.Date.fromYMD(year, 12, 31)\n",
        "    geom = feature.geometry()\n",
        "\n",
        "    # Filter image collection by date and bounds\n",
        "    image = forest_lc.filterDate(start_date, end_date).filterBounds(geom).first()\n",
        "\n",
        "    # If image exists, process it\n",
        "    def process(img):\n",
        "        img = ee.Image(img).clip(geom)\n",
        "        class_210_mask = img.eq(210)\n",
        "        pixel_area = ee.Image.pixelArea().divide(10000)  # hectares\n",
        "        area_image = pixel_area.updateMask(class_210_mask)\n",
        "\n",
        "        area = area_image.reduceRegion(\n",
        "            reducer=ee.Reducer.sum(),\n",
        "            geometry=geom,\n",
        "            scale=30,\n",
        "            maxPixels=1e13\n",
        "        ).get('area')\n",
        "\n",
        "        return feature.set('class_210_area_ha', area)\n",
        "\n",
        "    return ee.Algorithms.If(image, process(image), feature.set('class_210_area_ha', 0))\n",
        "\n",
        "\n"
      ],
      "metadata": {
        "id": "tws3w4FG6QiY"
      },
      "execution_count": null,
      "outputs": []
    },
    {
      "cell_type": "code",
      "source": [
        "#Apply to feature collection\n",
        "nbac_on_2023_coniferous = nbac_on_2023.map(calculate_class_210_area)\n",
        "nbac_on_2023_coniferous"
      ],
      "metadata": {
        "id": "RAi7E0jB6jTJ"
      },
      "execution_count": null,
      "outputs": []
    },
    {
      "cell_type": "markdown",
      "source": [
        "## Canada Landsat-Derived Forest Harvest Disturbance (1985–2020)\n",
        "\n",
        "\n",
        "[Landsat-Derived Forest Harvest Disturbance](https://gee-community-catalog.org/projects/ca_species_ts/)\n",
        "\n",
        "**Exercise**\n",
        "\n",
        "Were there any harvest disturbances detected within fire perimeters between 1985 and 2020?\n",
        "\n",
        "tips:\n",
        "* read in image\n",
        "* clip image\n",
        "* calculate max\n",
        "* set as feature property\n",
        "* output as csv"
      ],
      "metadata": {
        "id": "eO4ZpUquEEqh"
      }
    },
    {
      "cell_type": "code",
      "source": [
        "# solution\n",
        "\n",
        "%%capture\n",
        "\n",
        "def add_max_pixel_value(feature_collection):\n",
        "\n",
        "  image = ee.Image(\"projects/sat-io/open-datasets/CA_FOREST/CA_Forest_Harvest_1985-2020\")\n",
        "\n",
        "  def calculate_max(feature):\n",
        "    # Get the geometry of the feature.\n",
        "    geom = feature.geometry()\n",
        "\n",
        "    # Clip the image to the feature's geometry.\n",
        "    clipped_image = image.clip(geom)\n",
        "\n",
        "    # Calculate the maximum pixel value within the clipped image.\n",
        "    max_value = clipped_image.reduceRegion(\n",
        "        reducer=ee.Reducer.max(),\n",
        "        geometry=geom,\n",
        "        scale=image.projection().nominalScale(),\n",
        "        maxPixels=1e13\n",
        "    ).get(image.bandNames().get(0)) # Assuming a single band image\n",
        "\n",
        "\n",
        "    # Set the max_value as a property of the feature and harvested as a property of the feature\n",
        "    return feature.set('max_value', max_value)\n",
        "\n",
        "  processed_collection = feature_collection.map(calculate_max)\n",
        "\n",
        "  # Convert the collection to a list of dictionaries\n",
        "  data_list = processed_collection.getInfo()['features']\n",
        "\n",
        "  # Extract properties from each feature\n",
        "  data_dicts = [feature['properties'] for feature in data_list]\n",
        "\n",
        "  # Create a DataFrame\n",
        "  df = pd.DataFrame(data_dicts)\n",
        "\n",
        "  # for max value variables that are not NaN, make sure they are integers\n",
        "  df['max_value'] = df['max_value'].fillna(0).astype(int)\n",
        "\n",
        "  # max value is 0, make a new column called harvested and make it 0 but if it is greater than 0 make it 1\n",
        "  df['harvested'] = df['max_value'].apply(lambda x: 1 if x > 0 else 0)\n",
        "\n",
        "\n",
        "  # Map the function over the feature collection.\n",
        "  return df\n",
        "\n",
        "\n"
      ],
      "metadata": {
        "colab": {
          "base_uri": "https://localhost:8080/",
          "height": 17
        },
        "id": "_Qf92fPOEuF5",
        "outputId": "0776b4ff-2f81-491d-8f56-e7b6541b4467"
      },
      "execution_count": 24,
      "outputs": [
        {
          "output_type": "display_data",
          "data": {
            "text/plain": [
              "<IPython.core.display.HTML object>"
            ],
            "text/html": [
              "\n",
              "            <style>\n",
              "                .geemap-dark {\n",
              "                    --jp-widgets-color: white;\n",
              "                    --jp-widgets-label-color: white;\n",
              "                    --jp-ui-font-color1: white;\n",
              "                    --jp-layout-color2: #454545;\n",
              "                    background-color: #383838;\n",
              "                }\n",
              "\n",
              "                .geemap-dark .jupyter-button {\n",
              "                    --jp-layout-color3: #383838;\n",
              "                }\n",
              "\n",
              "                .geemap-colab {\n",
              "                    background-color: var(--colab-primary-surface-color, white);\n",
              "                }\n",
              "\n",
              "                .geemap-colab .jupyter-button {\n",
              "                    --jp-layout-color3: var(--colab-primary-surface-color, white);\n",
              "                }\n",
              "            </style>\n",
              "            "
            ]
          },
          "metadata": {}
        }
      ]
    },
    {
      "cell_type": "code",
      "source": [
        "%%capture\n",
        "\n",
        "harvest_history = add_max_pixel_value(nbac_on_2023)\n",
        "harvest_history"
      ],
      "metadata": {
        "colab": {
          "base_uri": "https://localhost:8080/",
          "height": 530
        },
        "id": "bhmZvIHtS3El",
        "outputId": "63abdcdd-65ad-4673-f6c3-8e7899f8924a"
      },
      "execution_count": 25,
      "outputs": [
        {
          "output_type": "display_data",
          "data": {
            "text/plain": [
              "<IPython.core.display.HTML object>"
            ],
            "text/html": [
              "\n",
              "            <style>\n",
              "                .geemap-dark {\n",
              "                    --jp-widgets-color: white;\n",
              "                    --jp-widgets-label-color: white;\n",
              "                    --jp-ui-font-color1: white;\n",
              "                    --jp-layout-color2: #454545;\n",
              "                    background-color: #383838;\n",
              "                }\n",
              "\n",
              "                .geemap-dark .jupyter-button {\n",
              "                    --jp-layout-color3: #383838;\n",
              "                }\n",
              "\n",
              "                .geemap-colab {\n",
              "                    background-color: var(--colab-primary-surface-color, white);\n",
              "                }\n",
              "\n",
              "                .geemap-colab .jupyter-button {\n",
              "                    --jp-layout-color3: var(--colab-primary-surface-color, white);\n",
              "                }\n",
              "            </style>\n",
              "            "
            ]
          },
          "metadata": {}
        },
        {
          "output_type": "execute_result",
          "data": {
            "text/plain": [
              "   ADJ_FLAG        ADJ_HA ADMIN_AREA      AG_EDATE      AG_SDATE   BASRC  \\\n",
              "0      true     45.175511         ON  1.687504e+12  1.685862e+12  Agency   \n",
              "1             5978.233802         ON  1.690355e+12  1.685171e+12  MAFiMS   \n",
              "2      true     93.897801         ON  1.687244e+12  1.685084e+12  Agency   \n",
              "3             1771.375233         ON  1.696230e+12  1.688195e+12  MAFiMS   \n",
              "4            54033.282093         ON  1.696576e+12  1.685948e+12  MAFiMS   \n",
              "..      ...           ...        ...           ...           ...     ...   \n",
              "84             481.258343         ON  1.692947e+12  1.686294e+12  MAFiMS   \n",
              "85            3086.398557         ON  1.692947e+12  1.686294e+12  MAFiMS   \n",
              "86     true     74.376855         ON  1.693984e+12  1.690873e+12  Agency   \n",
              "87     true     78.024910         ON  1.688022e+12  1.685862e+12  Agency   \n",
              "88     true     86.155710         ON  1.683097e+12  1.682752e+12  Agency   \n",
              "\n",
              "         CAPDATE      FIRECAUS           FIREMAPM    FIREMAPS  ...  \\\n",
              "0            NaN         Human          Undefined   Undefined  ...   \n",
              "1   1.690873e+12         Human  Processed imagery  Sentinel-2  ...   \n",
              "2            NaN         Human          Undefined   Undefined  ...   \n",
              "3   1.690873e+12       Natural  Processed imagery     Landsat  ...   \n",
              "4   1.693379e+12       Natural  Processed imagery     Landsat  ...   \n",
              "..           ...           ...                ...         ...  ...   \n",
              "84  1.689491e+12       Natural  Processed imagery  Sentinel-2  ...   \n",
              "85  1.691478e+12       Natural  Processed imagery     Landsat  ...   \n",
              "86           NaN       Natural          Undefined   Undefined  ...   \n",
              "87           NaN       Natural          Undefined   Undefined  ...   \n",
              "88           NaN  Undetermined          Undefined   Undefined  ...   \n",
              "\n",
              "        HS_EDATE      HS_SDATE  NATPARK NFIREID       POLY_HA  PRESCRIBED  \\\n",
              "0            NaN           NaN             1639     48.380737               \n",
              "1   1.686294e+12  1.685257e+12              156   5978.233802               \n",
              "2            NaN           NaN             1621    103.556606               \n",
              "3   1.687763e+12  1.687331e+12              186   1771.375233               \n",
              "4   1.691996e+12  1.686553e+12              203  54033.282093               \n",
              "..           ...           ...      ...     ...           ...         ...   \n",
              "84  1.686899e+12  1.686553e+12              175    481.258343               \n",
              "85  1.688627e+12  1.687331e+12              174   3086.398557               \n",
              "86  1.690960e+12  1.690960e+12             1633     81.263931               \n",
              "87           NaN           NaN             1627     85.413776               \n",
              "88           NaN           NaN             1630     94.690532        true   \n",
              "\n",
              "     VERSION  YEAR  max_value  harvested  \n",
              "0   20240530  2023          0          0  \n",
              "1   20240530  2023       2020          1  \n",
              "2   20240530  2023       2001          1  \n",
              "3   20240530  2023       2015          1  \n",
              "4   20240530  2023       2020          1  \n",
              "..       ...   ...        ...        ...  \n",
              "84  20240530  2023       1990          1  \n",
              "85  20240530  2023       2014          1  \n",
              "86  20240530  2023       2010          1  \n",
              "87  20240530  2023          0          0  \n",
              "88  20240530  2023       2019          1  \n",
              "\n",
              "[89 rows x 21 columns]"
            ],
            "text/html": [
              "\n",
              "  <div id=\"df-99d0d537-ce55-4a79-b704-78d8f0d1f0b1\" class=\"colab-df-container\">\n",
              "    <div>\n",
              "<style scoped>\n",
              "    .dataframe tbody tr th:only-of-type {\n",
              "        vertical-align: middle;\n",
              "    }\n",
              "\n",
              "    .dataframe tbody tr th {\n",
              "        vertical-align: top;\n",
              "    }\n",
              "\n",
              "    .dataframe thead th {\n",
              "        text-align: right;\n",
              "    }\n",
              "</style>\n",
              "<table border=\"1\" class=\"dataframe\">\n",
              "  <thead>\n",
              "    <tr style=\"text-align: right;\">\n",
              "      <th></th>\n",
              "      <th>ADJ_FLAG</th>\n",
              "      <th>ADJ_HA</th>\n",
              "      <th>ADMIN_AREA</th>\n",
              "      <th>AG_EDATE</th>\n",
              "      <th>AG_SDATE</th>\n",
              "      <th>BASRC</th>\n",
              "      <th>CAPDATE</th>\n",
              "      <th>FIRECAUS</th>\n",
              "      <th>FIREMAPM</th>\n",
              "      <th>FIREMAPS</th>\n",
              "      <th>...</th>\n",
              "      <th>HS_EDATE</th>\n",
              "      <th>HS_SDATE</th>\n",
              "      <th>NATPARK</th>\n",
              "      <th>NFIREID</th>\n",
              "      <th>POLY_HA</th>\n",
              "      <th>PRESCRIBED</th>\n",
              "      <th>VERSION</th>\n",
              "      <th>YEAR</th>\n",
              "      <th>max_value</th>\n",
              "      <th>harvested</th>\n",
              "    </tr>\n",
              "  </thead>\n",
              "  <tbody>\n",
              "    <tr>\n",
              "      <th>0</th>\n",
              "      <td>true</td>\n",
              "      <td>45.175511</td>\n",
              "      <td>ON</td>\n",
              "      <td>1.687504e+12</td>\n",
              "      <td>1.685862e+12</td>\n",
              "      <td>Agency</td>\n",
              "      <td>NaN</td>\n",
              "      <td>Human</td>\n",
              "      <td>Undefined</td>\n",
              "      <td>Undefined</td>\n",
              "      <td>...</td>\n",
              "      <td>NaN</td>\n",
              "      <td>NaN</td>\n",
              "      <td></td>\n",
              "      <td>1639</td>\n",
              "      <td>48.380737</td>\n",
              "      <td></td>\n",
              "      <td>20240530</td>\n",
              "      <td>2023</td>\n",
              "      <td>0</td>\n",
              "      <td>0</td>\n",
              "    </tr>\n",
              "    <tr>\n",
              "      <th>1</th>\n",
              "      <td></td>\n",
              "      <td>5978.233802</td>\n",
              "      <td>ON</td>\n",
              "      <td>1.690355e+12</td>\n",
              "      <td>1.685171e+12</td>\n",
              "      <td>MAFiMS</td>\n",
              "      <td>1.690873e+12</td>\n",
              "      <td>Human</td>\n",
              "      <td>Processed imagery</td>\n",
              "      <td>Sentinel-2</td>\n",
              "      <td>...</td>\n",
              "      <td>1.686294e+12</td>\n",
              "      <td>1.685257e+12</td>\n",
              "      <td></td>\n",
              "      <td>156</td>\n",
              "      <td>5978.233802</td>\n",
              "      <td></td>\n",
              "      <td>20240530</td>\n",
              "      <td>2023</td>\n",
              "      <td>2020</td>\n",
              "      <td>1</td>\n",
              "    </tr>\n",
              "    <tr>\n",
              "      <th>2</th>\n",
              "      <td>true</td>\n",
              "      <td>93.897801</td>\n",
              "      <td>ON</td>\n",
              "      <td>1.687244e+12</td>\n",
              "      <td>1.685084e+12</td>\n",
              "      <td>Agency</td>\n",
              "      <td>NaN</td>\n",
              "      <td>Human</td>\n",
              "      <td>Undefined</td>\n",
              "      <td>Undefined</td>\n",
              "      <td>...</td>\n",
              "      <td>NaN</td>\n",
              "      <td>NaN</td>\n",
              "      <td></td>\n",
              "      <td>1621</td>\n",
              "      <td>103.556606</td>\n",
              "      <td></td>\n",
              "      <td>20240530</td>\n",
              "      <td>2023</td>\n",
              "      <td>2001</td>\n",
              "      <td>1</td>\n",
              "    </tr>\n",
              "    <tr>\n",
              "      <th>3</th>\n",
              "      <td></td>\n",
              "      <td>1771.375233</td>\n",
              "      <td>ON</td>\n",
              "      <td>1.696230e+12</td>\n",
              "      <td>1.688195e+12</td>\n",
              "      <td>MAFiMS</td>\n",
              "      <td>1.690873e+12</td>\n",
              "      <td>Natural</td>\n",
              "      <td>Processed imagery</td>\n",
              "      <td>Landsat</td>\n",
              "      <td>...</td>\n",
              "      <td>1.687763e+12</td>\n",
              "      <td>1.687331e+12</td>\n",
              "      <td></td>\n",
              "      <td>186</td>\n",
              "      <td>1771.375233</td>\n",
              "      <td></td>\n",
              "      <td>20240530</td>\n",
              "      <td>2023</td>\n",
              "      <td>2015</td>\n",
              "      <td>1</td>\n",
              "    </tr>\n",
              "    <tr>\n",
              "      <th>4</th>\n",
              "      <td></td>\n",
              "      <td>54033.282093</td>\n",
              "      <td>ON</td>\n",
              "      <td>1.696576e+12</td>\n",
              "      <td>1.685948e+12</td>\n",
              "      <td>MAFiMS</td>\n",
              "      <td>1.693379e+12</td>\n",
              "      <td>Natural</td>\n",
              "      <td>Processed imagery</td>\n",
              "      <td>Landsat</td>\n",
              "      <td>...</td>\n",
              "      <td>1.691996e+12</td>\n",
              "      <td>1.686553e+12</td>\n",
              "      <td></td>\n",
              "      <td>203</td>\n",
              "      <td>54033.282093</td>\n",
              "      <td></td>\n",
              "      <td>20240530</td>\n",
              "      <td>2023</td>\n",
              "      <td>2020</td>\n",
              "      <td>1</td>\n",
              "    </tr>\n",
              "    <tr>\n",
              "      <th>...</th>\n",
              "      <td>...</td>\n",
              "      <td>...</td>\n",
              "      <td>...</td>\n",
              "      <td>...</td>\n",
              "      <td>...</td>\n",
              "      <td>...</td>\n",
              "      <td>...</td>\n",
              "      <td>...</td>\n",
              "      <td>...</td>\n",
              "      <td>...</td>\n",
              "      <td>...</td>\n",
              "      <td>...</td>\n",
              "      <td>...</td>\n",
              "      <td>...</td>\n",
              "      <td>...</td>\n",
              "      <td>...</td>\n",
              "      <td>...</td>\n",
              "      <td>...</td>\n",
              "      <td>...</td>\n",
              "      <td>...</td>\n",
              "      <td>...</td>\n",
              "    </tr>\n",
              "    <tr>\n",
              "      <th>84</th>\n",
              "      <td></td>\n",
              "      <td>481.258343</td>\n",
              "      <td>ON</td>\n",
              "      <td>1.692947e+12</td>\n",
              "      <td>1.686294e+12</td>\n",
              "      <td>MAFiMS</td>\n",
              "      <td>1.689491e+12</td>\n",
              "      <td>Natural</td>\n",
              "      <td>Processed imagery</td>\n",
              "      <td>Sentinel-2</td>\n",
              "      <td>...</td>\n",
              "      <td>1.686899e+12</td>\n",
              "      <td>1.686553e+12</td>\n",
              "      <td></td>\n",
              "      <td>175</td>\n",
              "      <td>481.258343</td>\n",
              "      <td></td>\n",
              "      <td>20240530</td>\n",
              "      <td>2023</td>\n",
              "      <td>1990</td>\n",
              "      <td>1</td>\n",
              "    </tr>\n",
              "    <tr>\n",
              "      <th>85</th>\n",
              "      <td></td>\n",
              "      <td>3086.398557</td>\n",
              "      <td>ON</td>\n",
              "      <td>1.692947e+12</td>\n",
              "      <td>1.686294e+12</td>\n",
              "      <td>MAFiMS</td>\n",
              "      <td>1.691478e+12</td>\n",
              "      <td>Natural</td>\n",
              "      <td>Processed imagery</td>\n",
              "      <td>Landsat</td>\n",
              "      <td>...</td>\n",
              "      <td>1.688627e+12</td>\n",
              "      <td>1.687331e+12</td>\n",
              "      <td></td>\n",
              "      <td>174</td>\n",
              "      <td>3086.398557</td>\n",
              "      <td></td>\n",
              "      <td>20240530</td>\n",
              "      <td>2023</td>\n",
              "      <td>2014</td>\n",
              "      <td>1</td>\n",
              "    </tr>\n",
              "    <tr>\n",
              "      <th>86</th>\n",
              "      <td>true</td>\n",
              "      <td>74.376855</td>\n",
              "      <td>ON</td>\n",
              "      <td>1.693984e+12</td>\n",
              "      <td>1.690873e+12</td>\n",
              "      <td>Agency</td>\n",
              "      <td>NaN</td>\n",
              "      <td>Natural</td>\n",
              "      <td>Undefined</td>\n",
              "      <td>Undefined</td>\n",
              "      <td>...</td>\n",
              "      <td>1.690960e+12</td>\n",
              "      <td>1.690960e+12</td>\n",
              "      <td></td>\n",
              "      <td>1633</td>\n",
              "      <td>81.263931</td>\n",
              "      <td></td>\n",
              "      <td>20240530</td>\n",
              "      <td>2023</td>\n",
              "      <td>2010</td>\n",
              "      <td>1</td>\n",
              "    </tr>\n",
              "    <tr>\n",
              "      <th>87</th>\n",
              "      <td>true</td>\n",
              "      <td>78.024910</td>\n",
              "      <td>ON</td>\n",
              "      <td>1.688022e+12</td>\n",
              "      <td>1.685862e+12</td>\n",
              "      <td>Agency</td>\n",
              "      <td>NaN</td>\n",
              "      <td>Natural</td>\n",
              "      <td>Undefined</td>\n",
              "      <td>Undefined</td>\n",
              "      <td>...</td>\n",
              "      <td>NaN</td>\n",
              "      <td>NaN</td>\n",
              "      <td></td>\n",
              "      <td>1627</td>\n",
              "      <td>85.413776</td>\n",
              "      <td></td>\n",
              "      <td>20240530</td>\n",
              "      <td>2023</td>\n",
              "      <td>0</td>\n",
              "      <td>0</td>\n",
              "    </tr>\n",
              "    <tr>\n",
              "      <th>88</th>\n",
              "      <td>true</td>\n",
              "      <td>86.155710</td>\n",
              "      <td>ON</td>\n",
              "      <td>1.683097e+12</td>\n",
              "      <td>1.682752e+12</td>\n",
              "      <td>Agency</td>\n",
              "      <td>NaN</td>\n",
              "      <td>Undetermined</td>\n",
              "      <td>Undefined</td>\n",
              "      <td>Undefined</td>\n",
              "      <td>...</td>\n",
              "      <td>NaN</td>\n",
              "      <td>NaN</td>\n",
              "      <td></td>\n",
              "      <td>1630</td>\n",
              "      <td>94.690532</td>\n",
              "      <td>true</td>\n",
              "      <td>20240530</td>\n",
              "      <td>2023</td>\n",
              "      <td>2019</td>\n",
              "      <td>1</td>\n",
              "    </tr>\n",
              "  </tbody>\n",
              "</table>\n",
              "<p>89 rows × 21 columns</p>\n",
              "</div>\n",
              "    <div class=\"colab-df-buttons\">\n",
              "\n",
              "  <div class=\"colab-df-container\">\n",
              "    <button class=\"colab-df-convert\" onclick=\"convertToInteractive('df-99d0d537-ce55-4a79-b704-78d8f0d1f0b1')\"\n",
              "            title=\"Convert this dataframe to an interactive table.\"\n",
              "            style=\"display:none;\">\n",
              "\n",
              "  <svg xmlns=\"http://www.w3.org/2000/svg\" height=\"24px\" viewBox=\"0 -960 960 960\">\n",
              "    <path d=\"M120-120v-720h720v720H120Zm60-500h600v-160H180v160Zm220 220h160v-160H400v160Zm0 220h160v-160H400v160ZM180-400h160v-160H180v160Zm440 0h160v-160H620v160ZM180-180h160v-160H180v160Zm440 0h160v-160H620v160Z\"/>\n",
              "  </svg>\n",
              "    </button>\n",
              "\n",
              "  <style>\n",
              "    .colab-df-container {\n",
              "      display:flex;\n",
              "      gap: 12px;\n",
              "    }\n",
              "\n",
              "    .colab-df-convert {\n",
              "      background-color: #E8F0FE;\n",
              "      border: none;\n",
              "      border-radius: 50%;\n",
              "      cursor: pointer;\n",
              "      display: none;\n",
              "      fill: #1967D2;\n",
              "      height: 32px;\n",
              "      padding: 0 0 0 0;\n",
              "      width: 32px;\n",
              "    }\n",
              "\n",
              "    .colab-df-convert:hover {\n",
              "      background-color: #E2EBFA;\n",
              "      box-shadow: 0px 1px 2px rgba(60, 64, 67, 0.3), 0px 1px 3px 1px rgba(60, 64, 67, 0.15);\n",
              "      fill: #174EA6;\n",
              "    }\n",
              "\n",
              "    .colab-df-buttons div {\n",
              "      margin-bottom: 4px;\n",
              "    }\n",
              "\n",
              "    [theme=dark] .colab-df-convert {\n",
              "      background-color: #3B4455;\n",
              "      fill: #D2E3FC;\n",
              "    }\n",
              "\n",
              "    [theme=dark] .colab-df-convert:hover {\n",
              "      background-color: #434B5C;\n",
              "      box-shadow: 0px 1px 3px 1px rgba(0, 0, 0, 0.15);\n",
              "      filter: drop-shadow(0px 1px 2px rgba(0, 0, 0, 0.3));\n",
              "      fill: #FFFFFF;\n",
              "    }\n",
              "  </style>\n",
              "\n",
              "    <script>\n",
              "      const buttonEl =\n",
              "        document.querySelector('#df-99d0d537-ce55-4a79-b704-78d8f0d1f0b1 button.colab-df-convert');\n",
              "      buttonEl.style.display =\n",
              "        google.colab.kernel.accessAllowed ? 'block' : 'none';\n",
              "\n",
              "      async function convertToInteractive(key) {\n",
              "        const element = document.querySelector('#df-99d0d537-ce55-4a79-b704-78d8f0d1f0b1');\n",
              "        const dataTable =\n",
              "          await google.colab.kernel.invokeFunction('convertToInteractive',\n",
              "                                                    [key], {});\n",
              "        if (!dataTable) return;\n",
              "\n",
              "        const docLinkHtml = 'Like what you see? Visit the ' +\n",
              "          '<a target=\"_blank\" href=https://colab.research.google.com/notebooks/data_table.ipynb>data table notebook</a>'\n",
              "          + ' to learn more about interactive tables.';\n",
              "        element.innerHTML = '';\n",
              "        dataTable['output_type'] = 'display_data';\n",
              "        await google.colab.output.renderOutput(dataTable, element);\n",
              "        const docLink = document.createElement('div');\n",
              "        docLink.innerHTML = docLinkHtml;\n",
              "        element.appendChild(docLink);\n",
              "      }\n",
              "    </script>\n",
              "  </div>\n",
              "\n",
              "\n",
              "    <div id=\"df-b5ec62eb-15cd-44d4-8fdb-858ba2348a7b\">\n",
              "      <button class=\"colab-df-quickchart\" onclick=\"quickchart('df-b5ec62eb-15cd-44d4-8fdb-858ba2348a7b')\"\n",
              "                title=\"Suggest charts\"\n",
              "                style=\"display:none;\">\n",
              "\n",
              "<svg xmlns=\"http://www.w3.org/2000/svg\" height=\"24px\"viewBox=\"0 0 24 24\"\n",
              "     width=\"24px\">\n",
              "    <g>\n",
              "        <path d=\"M19 3H5c-1.1 0-2 .9-2 2v14c0 1.1.9 2 2 2h14c1.1 0 2-.9 2-2V5c0-1.1-.9-2-2-2zM9 17H7v-7h2v7zm4 0h-2V7h2v10zm4 0h-2v-4h2v4z\"/>\n",
              "    </g>\n",
              "</svg>\n",
              "      </button>\n",
              "\n",
              "<style>\n",
              "  .colab-df-quickchart {\n",
              "      --bg-color: #E8F0FE;\n",
              "      --fill-color: #1967D2;\n",
              "      --hover-bg-color: #E2EBFA;\n",
              "      --hover-fill-color: #174EA6;\n",
              "      --disabled-fill-color: #AAA;\n",
              "      --disabled-bg-color: #DDD;\n",
              "  }\n",
              "\n",
              "  [theme=dark] .colab-df-quickchart {\n",
              "      --bg-color: #3B4455;\n",
              "      --fill-color: #D2E3FC;\n",
              "      --hover-bg-color: #434B5C;\n",
              "      --hover-fill-color: #FFFFFF;\n",
              "      --disabled-bg-color: #3B4455;\n",
              "      --disabled-fill-color: #666;\n",
              "  }\n",
              "\n",
              "  .colab-df-quickchart {\n",
              "    background-color: var(--bg-color);\n",
              "    border: none;\n",
              "    border-radius: 50%;\n",
              "    cursor: pointer;\n",
              "    display: none;\n",
              "    fill: var(--fill-color);\n",
              "    height: 32px;\n",
              "    padding: 0;\n",
              "    width: 32px;\n",
              "  }\n",
              "\n",
              "  .colab-df-quickchart:hover {\n",
              "    background-color: var(--hover-bg-color);\n",
              "    box-shadow: 0 1px 2px rgba(60, 64, 67, 0.3), 0 1px 3px 1px rgba(60, 64, 67, 0.15);\n",
              "    fill: var(--button-hover-fill-color);\n",
              "  }\n",
              "\n",
              "  .colab-df-quickchart-complete:disabled,\n",
              "  .colab-df-quickchart-complete:disabled:hover {\n",
              "    background-color: var(--disabled-bg-color);\n",
              "    fill: var(--disabled-fill-color);\n",
              "    box-shadow: none;\n",
              "  }\n",
              "\n",
              "  .colab-df-spinner {\n",
              "    border: 2px solid var(--fill-color);\n",
              "    border-color: transparent;\n",
              "    border-bottom-color: var(--fill-color);\n",
              "    animation:\n",
              "      spin 1s steps(1) infinite;\n",
              "  }\n",
              "\n",
              "  @keyframes spin {\n",
              "    0% {\n",
              "      border-color: transparent;\n",
              "      border-bottom-color: var(--fill-color);\n",
              "      border-left-color: var(--fill-color);\n",
              "    }\n",
              "    20% {\n",
              "      border-color: transparent;\n",
              "      border-left-color: var(--fill-color);\n",
              "      border-top-color: var(--fill-color);\n",
              "    }\n",
              "    30% {\n",
              "      border-color: transparent;\n",
              "      border-left-color: var(--fill-color);\n",
              "      border-top-color: var(--fill-color);\n",
              "      border-right-color: var(--fill-color);\n",
              "    }\n",
              "    40% {\n",
              "      border-color: transparent;\n",
              "      border-right-color: var(--fill-color);\n",
              "      border-top-color: var(--fill-color);\n",
              "    }\n",
              "    60% {\n",
              "      border-color: transparent;\n",
              "      border-right-color: var(--fill-color);\n",
              "    }\n",
              "    80% {\n",
              "      border-color: transparent;\n",
              "      border-right-color: var(--fill-color);\n",
              "      border-bottom-color: var(--fill-color);\n",
              "    }\n",
              "    90% {\n",
              "      border-color: transparent;\n",
              "      border-bottom-color: var(--fill-color);\n",
              "    }\n",
              "  }\n",
              "</style>\n",
              "\n",
              "      <script>\n",
              "        async function quickchart(key) {\n",
              "          const quickchartButtonEl =\n",
              "            document.querySelector('#' + key + ' button');\n",
              "          quickchartButtonEl.disabled = true;  // To prevent multiple clicks.\n",
              "          quickchartButtonEl.classList.add('colab-df-spinner');\n",
              "          try {\n",
              "            const charts = await google.colab.kernel.invokeFunction(\n",
              "                'suggestCharts', [key], {});\n",
              "          } catch (error) {\n",
              "            console.error('Error during call to suggestCharts:', error);\n",
              "          }\n",
              "          quickchartButtonEl.classList.remove('colab-df-spinner');\n",
              "          quickchartButtonEl.classList.add('colab-df-quickchart-complete');\n",
              "        }\n",
              "        (() => {\n",
              "          let quickchartButtonEl =\n",
              "            document.querySelector('#df-b5ec62eb-15cd-44d4-8fdb-858ba2348a7b button');\n",
              "          quickchartButtonEl.style.display =\n",
              "            google.colab.kernel.accessAllowed ? 'block' : 'none';\n",
              "        })();\n",
              "      </script>\n",
              "    </div>\n",
              "\n",
              "  <div id=\"id_bd07b817-35f7-45b3-bad5-94c41169c549\">\n",
              "    <style>\n",
              "      .colab-df-generate {\n",
              "        background-color: #E8F0FE;\n",
              "        border: none;\n",
              "        border-radius: 50%;\n",
              "        cursor: pointer;\n",
              "        display: none;\n",
              "        fill: #1967D2;\n",
              "        height: 32px;\n",
              "        padding: 0 0 0 0;\n",
              "        width: 32px;\n",
              "      }\n",
              "\n",
              "      .colab-df-generate:hover {\n",
              "        background-color: #E2EBFA;\n",
              "        box-shadow: 0px 1px 2px rgba(60, 64, 67, 0.3), 0px 1px 3px 1px rgba(60, 64, 67, 0.15);\n",
              "        fill: #174EA6;\n",
              "      }\n",
              "\n",
              "      [theme=dark] .colab-df-generate {\n",
              "        background-color: #3B4455;\n",
              "        fill: #D2E3FC;\n",
              "      }\n",
              "\n",
              "      [theme=dark] .colab-df-generate:hover {\n",
              "        background-color: #434B5C;\n",
              "        box-shadow: 0px 1px 3px 1px rgba(0, 0, 0, 0.15);\n",
              "        filter: drop-shadow(0px 1px 2px rgba(0, 0, 0, 0.3));\n",
              "        fill: #FFFFFF;\n",
              "      }\n",
              "    </style>\n",
              "    <button class=\"colab-df-generate\" onclick=\"generateWithVariable('test')\"\n",
              "            title=\"Generate code using this dataframe.\"\n",
              "            style=\"display:none;\">\n",
              "\n",
              "  <svg xmlns=\"http://www.w3.org/2000/svg\" height=\"24px\"viewBox=\"0 0 24 24\"\n",
              "       width=\"24px\">\n",
              "    <path d=\"M7,19H8.4L18.45,9,17,7.55,7,17.6ZM5,21V16.75L18.45,3.32a2,2,0,0,1,2.83,0l1.4,1.43a1.91,1.91,0,0,1,.58,1.4,1.91,1.91,0,0,1-.58,1.4L9.25,21ZM18.45,9,17,7.55Zm-12,3A5.31,5.31,0,0,0,4.9,8.1,5.31,5.31,0,0,0,1,6.5,5.31,5.31,0,0,0,4.9,4.9,5.31,5.31,0,0,0,6.5,1,5.31,5.31,0,0,0,8.1,4.9,5.31,5.31,0,0,0,12,6.5,5.46,5.46,0,0,0,6.5,12Z\"/>\n",
              "  </svg>\n",
              "    </button>\n",
              "    <script>\n",
              "      (() => {\n",
              "      const buttonEl =\n",
              "        document.querySelector('#id_bd07b817-35f7-45b3-bad5-94c41169c549 button.colab-df-generate');\n",
              "      buttonEl.style.display =\n",
              "        google.colab.kernel.accessAllowed ? 'block' : 'none';\n",
              "\n",
              "      buttonEl.onclick = () => {\n",
              "        google.colab.notebook.generateWithVariable('test');\n",
              "      }\n",
              "      })();\n",
              "    </script>\n",
              "  </div>\n",
              "\n",
              "    </div>\n",
              "  </div>\n"
            ],
            "application/vnd.google.colaboratory.intrinsic+json": {
              "type": "dataframe",
              "variable_name": "test"
            }
          },
          "metadata": {},
          "execution_count": 25
        }
      ]
    }
  ]
}