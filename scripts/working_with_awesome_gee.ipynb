{
  "nbformat": 4,
  "nbformat_minor": 0,
  "metadata": {
    "colab": {
      "provenance": [],
      "authorship_tag": "ABX9TyPuTPHGkidrUhuDaDi7ux2/",
      "include_colab_link": true
    },
    "kernelspec": {
      "name": "python3",
      "display_name": "Python 3"
    },
    "language_info": {
      "name": "python"
    }
  },
  "cells": [
    {
      "cell_type": "markdown",
      "metadata": {
        "id": "view-in-github",
        "colab_type": "text"
      },
      "source": [
        "<a href=\"https://colab.research.google.com/github/JamesLabUofT/GEE_Workshop/blob/main/scripts/working_with_awesome_gee.ipynb\" target=\"_parent\"><img src=\"https://colab.research.google.com/assets/colab-badge.svg\" alt=\"Open In Colab\"/></a>"
      ]
    },
    {
      "cell_type": "markdown",
      "source": [
        "# Extracting and Processing data from Awesome GEE Community Catalog\n",
        "\n",
        "\n",
        "## Module Overview\n",
        "\n",
        "This module introduces participants to accessing, analyzing, and visualizing forest-related geospatial datasets from the Awesome GEE Community Data Catalog using Google Earth Engine (GEE) and Python. Through hands-on exercises in Google Colab, participants will explore forest disturbance, land cover, and species composition across Canada using high-resolution datasets.\n",
        "\n",
        "## Learning Objectives:\n",
        "By the end of this module, participants will be able to:\n",
        "\n",
        "* Understand the structure and content of selected forest datasets in the Awesome GEE Catalog\n",
        "* Use Python and the Earth Engine API to access, filter, and visualize geospatial data\n",
        "* Work with both raster (ImageCollections) and vector (FeatureCollections) datasets\n",
        "* Perform spatial and temporal analysis on forest disturbance and land cover\n",
        "Export processed data for further analysis or reporting\n",
        "\n",
        "## Topics Covered:\n",
        "**Introduction to the Awesome GEE Community Catalog**\n",
        "\n",
        "* Overview of the catalog and its purpose\n",
        "* Navigating the catalog and locating datasets\n",
        "\n",
        "**Working with FeatureCollections: NBAC Dataset\n",
        "Dataset: National Burned Area Composite (NBAC)**\n",
        "\n",
        "* Understanding vector data in GEE\n",
        "* Loading and filtering NBAC by year and region\n",
        "* Visualizing burned areas on interactive maps\n",
        "* Calculating burned area statistics\n",
        "* Exporting filtered data to CSV or Google Drive\n",
        "\n",
        "**Using the NBAC perimeters, lets explore some forest cover**\n",
        "\n",
        "**Exploring Raster Datasets**\n",
        "\n",
        "a. High-Resolution Annual Forest Land Cover (1984–2022)\n",
        "* Visualizing annual forest cover\n",
        "* Detecting forest cover change over time\n",
        "* Creating animations or time sliders\n",
        "\n",
        "b. Canada Landsat-Derived Forest Harvest Disturbance (1985–2020)\n",
        "* Mapping harvest disturbances\n",
        "* Comparing harvest vs. fire impacts\n",
        "* Temporal analysis of disturbance trends\n",
        "\n",
        "c. Canada Long-Term Tree Species (1984–2022)\n",
        "* Mapping dominant tree species\n",
        "* Analyzing species distribution changes\n",
        "* Overlaying with land cover for ecological insights\n",
        "\n",
        "**Data Extraction and Visualization**\n",
        "\n",
        "* Reducing data over custom regions (e.g., provinces, ecozones)\n",
        "* Exporting time-series data to Pandas DataFrames\n",
        "* Creating charts and maps using matplotlib and geemap\n",
        "* Exporting results for use in reports or further analysis\n",
        "\n"
      ],
      "metadata": {
        "id": "zNiSpUskHMHc"
      }
    },
    {
      "cell_type": "markdown",
      "source": [
        "## Introduction to the Awesome GEE Community Catalog"
      ],
      "metadata": {
        "id": "2_E61EKO_bVI"
      }
    },
    {
      "cell_type": "markdown",
      "source": [
        "## Introduction to the Awesome GEE Community Catalog\n",
        "\n",
        "\n",
        "✅ Expand access to valuable datasets not included in the official GEE catalog\n",
        "🌍 Support reproducible science by sharing preprocessed, ready-to-use data\n",
        "🧑‍🤝‍🧑 Foster collaboration across the global geospatial community\n",
        "📈 Accelerate research in climate, ecology, forestry, urban studies, and more\n",
        "\n",
        "https://gee-community-catalog.org/"
      ],
      "metadata": {
        "id": "NXDxvW-nCLpa"
      }
    },
    {
      "cell_type": "markdown",
      "source": [
        "**environment setup**"
      ],
      "metadata": {
        "id": "2K7EcPN1CW7z"
      }
    },
    {
      "cell_type": "code",
      "source": [
        "import ee\n",
        "import geemap\n",
        "import geopandas as gpd\n",
        "import pandas as pd\n",
        "import matplotlib.pyplot as plt\n",
        "import numpy as np\n",
        "import ipyleaflet"
      ],
      "metadata": {
        "id": "fDaUxcGQCWq2"
      },
      "execution_count": 2,
      "outputs": []
    },
    {
      "cell_type": "markdown",
      "source": [
        "Authenticate and intialize ee"
      ],
      "metadata": {
        "id": "Jt3QF0yHCnEU"
      }
    },
    {
      "cell_type": "code",
      "source": [
        "ee.Initialize()"
      ],
      "metadata": {
        "colab": {
          "base_uri": "https://localhost:8080/",
          "height": 17
        },
        "id": "V5l9meEuCmuc",
        "outputId": "4793f257-fb3e-45b9-87ad-2f21c54d3667"
      },
      "execution_count": 6,
      "outputs": [
        {
          "output_type": "display_data",
          "data": {
            "text/plain": [
              "<IPython.core.display.HTML object>"
            ],
            "text/html": [
              "\n",
              "            <style>\n",
              "                .geemap-dark {\n",
              "                    --jp-widgets-color: white;\n",
              "                    --jp-widgets-label-color: white;\n",
              "                    --jp-ui-font-color1: white;\n",
              "                    --jp-layout-color2: #454545;\n",
              "                    background-color: #383838;\n",
              "                }\n",
              "\n",
              "                .geemap-dark .jupyter-button {\n",
              "                    --jp-layout-color3: #383838;\n",
              "                }\n",
              "\n",
              "                .geemap-colab {\n",
              "                    background-color: var(--colab-primary-surface-color, white);\n",
              "                }\n",
              "\n",
              "                .geemap-colab .jupyter-button {\n",
              "                    --jp-layout-color3: var(--colab-primary-surface-color, white);\n",
              "                }\n",
              "            </style>\n",
              "            "
            ]
          },
          "metadata": {}
        }
      ]
    },
    {
      "cell_type": "markdown",
      "source": [
        "# Working with Feature Collections: NBAC"
      ],
      "metadata": {
        "id": "0ZmLDv1KHaN4"
      }
    },
    {
      "cell_type": "markdown",
      "source": [
        "In this section, participants will explore how to work with vector data in Google Earth Engine using the NBAC dataset, which maps burned areas across Canada. This hands-on module introduces the concept of FeatureCollections, a core data structure in GEE used to represent geographic features like points, lines, and polygons.\n",
        "\n",
        "FeatureCollections are the vector equivalent of ImageCollections in Earth Engine. They store geographic features—such as fire perimeters, forest plots, or administrative boundaries—along with associated attributes (e.g., year, area, cause). In this session, we’ll use the National Burned Area Composite (NBAC) to:\n",
        "\n",
        "* Load and explore a FeatureCollection\n",
        "* Filter features by year and region\n",
        "* Visualize fire perimeters on an interactive map\n",
        "* Calculate statistics like total burned area\n",
        "* Export selected features for further analysis\n",
        "\n",
        "We'll start with loading in the NBAC from https://gee-community-catalog.org/projects/nbac/#citation"
      ],
      "metadata": {
        "id": "swOs_tSAH4Ba"
      }
    },
    {
      "cell_type": "code",
      "source": [
        "nbac = ee.FeatureCollection(\"projects/sat-io/open-datasets/CA_FOREST/NBAC/nbac_1972_2023_20240530\")\n"
      ],
      "metadata": {
        "id": "BGm06PxRCGNg"
      },
      "execution_count": null,
      "outputs": []
    }
  ]
}