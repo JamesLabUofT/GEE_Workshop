{
  "nbformat": 4,
  "nbformat_minor": 0,
  "metadata": {
    "colab": {
      "provenance": [],
      "authorship_tag": "ABX9TyNunrvuw1weIZdFU0TzmKwI",
      "include_colab_link": true
    },
    "kernelspec": {
      "name": "python3",
      "display_name": "Python 3"
    },
    "language_info": {
      "name": "python"
    }
  },
  "cells": [
    {
      "cell_type": "markdown",
      "metadata": {
        "id": "view-in-github",
        "colab_type": "text"
      },
      "source": [
        "<a href=\"https://colab.research.google.com/github/JamesLabUofT/GEE_Workshop/blob/main/scripts/working_with_awesome_gee.ipynb\" target=\"_parent\"><img src=\"https://colab.research.google.com/assets/colab-badge.svg\" alt=\"Open In Colab\"/></a>"
      ]
    },
    {
      "cell_type": "markdown",
      "source": [
        "# Extracting and Processing data from Awesome GEE Community Catalog\n",
        "\n",
        "\n",
        "## Module Overview\n",
        "\n",
        "This module introduces participants to accessing, analyzing, and visualizing forest-related geospatial datasets from the Awesome GEE Community Data Catalog using Google Earth Engine (GEE) and Python. Through hands-on exercises in Google Colab, participants will explore forest disturbance, land cover, and species composition across Canada using high-resolution datasets.\n",
        "\n",
        "## Learning Objectives:\n",
        "By the end of this module, participants will be able to:\n",
        "\n",
        "* Understand the structure and content of selected forest datasets in the Awesome GEE Catalog\n",
        "* Use Python and the Earth Engine API to access, filter, and visualize geospatial data\n",
        "* Work with both raster (ImageCollections) and vector (FeatureCollections) datasets\n",
        "* Perform spatial and temporal analysis on forest disturbance and land cover\n",
        "Export processed data for further analysis or reporting\n",
        "\n",
        "## Topics Covered:\n",
        "**Introduction to the Awesome GEE Community Catalog**\n",
        "\n",
        "* Overview of the catalog and its purpose\n",
        "* Navigating the catalog and locating datasets\n",
        "\n",
        "**Working with FeatureCollections: NBAC Dataset\n",
        "Dataset: National Burned Area Composite (NBAC)**\n",
        "\n",
        "* Understanding vector data in GEE\n",
        "* Loading and filtering NBAC by year and region\n",
        "* Visualizing burned areas on interactive maps\n",
        "* Calculating burned area statistics\n",
        "* Exporting filtered data to CSV or Google Drive\n",
        "\n",
        "**Using the NBAC perimeters, lets explore some forest cover**\n",
        "\n",
        "**Exploring Raster Datasets**\n",
        "\n",
        "a. High-Resolution Annual Forest Land Cover (1984–2022)\n",
        "* Getting annual forest cover per class prior to fire\n",
        "* Detecting forest cover change over time - how did the forest change in the from 2000-2022\n",
        "\n",
        "\n",
        "b. Canada Landsat-Derived Forest Harvest Disturbance (1985–2020)\n",
        "* Mapping harvest disturbances - were there any harvest disturbances detected within fire perimeters between 1985 and 2020?\n",
        "* Comparing harvest vs. fire impacts (not covered today)\n",
        "* Temporal analysis of disturbance trends (not covered today)\n",
        "\n",
        "c. Canada Long-Term Tree Species (1984–2022)\n",
        "* Mapping tree species\n",
        "* Can we get the percentage of black spruce within each fire?\n",
        "\n",
        "\n",
        "\n",
        "**Data Extraction and Visualization**\n",
        "\n",
        "* Reducing data over custom regions (e.g., provinces, ecozones)\n",
        "* Exporting time-series data to Pandas DataFrames\n",
        "* Creating charts and maps using matplotlib and geemap\n",
        "* Exporting results for use in reports or further analysis\n",
        "\n"
      ],
      "metadata": {
        "id": "zNiSpUskHMHc"
      }
    },
    {
      "cell_type": "markdown",
      "source": [
        "## Introduction to the Awesome GEE Community Catalog\n",
        "\n",
        "\n",
        "✅ Expand access to valuable datasets not included in the official GEE catalog\n",
        "🌍 Support reproducible science by sharing preprocessed, ready-to-use data\n",
        "🧑‍🤝‍🧑 Foster collaboration across the global geospatial community\n",
        "📈 Accelerate research in climate, ecology, forestry, urban studies, and more\n",
        "\n",
        "https://gee-community-catalog.org/"
      ],
      "metadata": {
        "id": "NXDxvW-nCLpa"
      }
    },
    {
      "cell_type": "markdown",
      "source": [
        "**environment setup**"
      ],
      "metadata": {
        "id": "2K7EcPN1CW7z"
      }
    },
    {
      "cell_type": "code",
      "source": [
        "import ee\n",
        "import geemap\n",
        "import geopandas as gpd\n",
        "import pandas as pd\n",
        "import matplotlib.pyplot as plt\n",
        "import numpy as np\n",
        "import ipyleaflet"
      ],
      "metadata": {
        "id": "fDaUxcGQCWq2"
      },
      "execution_count": 5,
      "outputs": []
    },
    {
      "cell_type": "markdown",
      "source": [
        "Authenticate and intialize ee"
      ],
      "metadata": {
        "id": "Jt3QF0yHCnEU"
      }
    },
    {
      "cell_type": "code",
      "source": [
        "from google.colab import userdata\n",
        "ee.Authenticate()\n",
        "id = userdata.get('user_id')\n",
        "ee.Initialize(project=id) # project='ee-userid'"
      ],
      "metadata": {
        "colab": {
          "base_uri": "https://localhost:8080/",
          "height": 17
        },
        "id": "V5l9meEuCmuc",
        "outputId": "c78a2495-6c93-4a73-8ada-903eb8308b10"
      },
      "execution_count": 7,
      "outputs": [
        {
          "output_type": "display_data",
          "data": {
            "text/plain": [
              "<IPython.core.display.HTML object>"
            ],
            "text/html": [
              "\n",
              "            <style>\n",
              "                .geemap-dark {\n",
              "                    --jp-widgets-color: white;\n",
              "                    --jp-widgets-label-color: white;\n",
              "                    --jp-ui-font-color1: white;\n",
              "                    --jp-layout-color2: #454545;\n",
              "                    background-color: #383838;\n",
              "                }\n",
              "\n",
              "                .geemap-dark .jupyter-button {\n",
              "                    --jp-layout-color3: #383838;\n",
              "                }\n",
              "\n",
              "                .geemap-colab {\n",
              "                    background-color: var(--colab-primary-surface-color, white);\n",
              "                }\n",
              "\n",
              "                .geemap-colab .jupyter-button {\n",
              "                    --jp-layout-color3: var(--colab-primary-surface-color, white);\n",
              "                }\n",
              "            </style>\n",
              "            "
            ]
          },
          "metadata": {}
        }
      ]
    },
    {
      "cell_type": "markdown",
      "source": [
        "# Working with Feature Collections: NBAC"
      ],
      "metadata": {
        "id": "0ZmLDv1KHaN4"
      }
    },
    {
      "cell_type": "markdown",
      "source": [
        "In this section, participants will explore how to work with vector data in Google Earth Engine using the NBAC dataset, which maps burned areas across Canada. This hands-on module introduces the concept of FeatureCollections, a core data structure in GEE used to represent geographic features like points, lines, and polygons.\n",
        "\n",
        "FeatureCollections are the vector equivalent of ImageCollections in Earth Engine. They store geographic features—such as fire perimeters, forest plots, or administrative boundaries—along with associated attributes (e.g., year, area, cause). In this session, we’ll use the National Burned Area Composite (NBAC) to:\n",
        "\n",
        "* Load and explore a FeatureCollection\n",
        "* Filter features by year and region\n",
        "* Visualize fire perimeters on an interactive map\n",
        "* Calculate statistics like total burned area\n",
        "* Export selected features for further analysis\n",
        "\n",
        "We'll start with loading in the NBAC from https://gee-community-catalog.org/projects/nbac/#citation"
      ],
      "metadata": {
        "id": "swOs_tSAH4Ba"
      }
    },
    {
      "cell_type": "code",
      "source": [
        "nbac = ee.FeatureCollection(\"projects/sat-io/open-datasets/CA_FOREST/NBAC/nbac_1972_2023_20240530\")\n"
      ],
      "metadata": {
        "id": "BGm06PxRCGNg",
        "colab": {
          "base_uri": "https://localhost:8080/",
          "height": 17
        },
        "outputId": "b9985c52-b981-42c9-bce2-d7d6b48e6048"
      },
      "execution_count": 8,
      "outputs": [
        {
          "output_type": "display_data",
          "data": {
            "text/plain": [
              "<IPython.core.display.HTML object>"
            ],
            "text/html": [
              "\n",
              "            <style>\n",
              "                .geemap-dark {\n",
              "                    --jp-widgets-color: white;\n",
              "                    --jp-widgets-label-color: white;\n",
              "                    --jp-ui-font-color1: white;\n",
              "                    --jp-layout-color2: #454545;\n",
              "                    background-color: #383838;\n",
              "                }\n",
              "\n",
              "                .geemap-dark .jupyter-button {\n",
              "                    --jp-layout-color3: #383838;\n",
              "                }\n",
              "\n",
              "                .geemap-colab {\n",
              "                    background-color: var(--colab-primary-surface-color, white);\n",
              "                }\n",
              "\n",
              "                .geemap-colab .jupyter-button {\n",
              "                    --jp-layout-color3: var(--colab-primary-surface-color, white);\n",
              "                }\n",
              "            </style>\n",
              "            "
            ]
          },
          "metadata": {}
        }
      ]
    },
    {
      "cell_type": "markdown",
      "source": [
        "Lets look at the data"
      ],
      "metadata": {
        "id": "JuZ7WCGITLBA"
      }
    },
    {
      "cell_type": "code",
      "source": [
        "print(nbac.size().getInfo(), nbac.first().propertyNames().getInfo())"
      ],
      "metadata": {
        "id": "6chIHEl2TPNM"
      },
      "execution_count": null,
      "outputs": []
    },
    {
      "cell_type": "markdown",
      "source": [
        "Lets get all fires from 2023"
      ],
      "metadata": {
        "id": "pWttzg03Ur5o"
      }
    },
    {
      "cell_type": "code",
      "source": [
        "nbac_2023 = nbac.filter(ee.Filter.eq('YEAR', 2023))\n",
        "print(nbac_2023.size().getInfo())"
      ],
      "metadata": {
        "colab": {
          "base_uri": "https://localhost:8080/",
          "height": 35
        },
        "id": "6ObztkvgUugB",
        "outputId": "a4968eca-4ac4-48c6-99dd-028f7dd09d4f"
      },
      "execution_count": 9,
      "outputs": [
        {
          "output_type": "display_data",
          "data": {
            "text/plain": [
              "<IPython.core.display.HTML object>"
            ],
            "text/html": [
              "\n",
              "            <style>\n",
              "                .geemap-dark {\n",
              "                    --jp-widgets-color: white;\n",
              "                    --jp-widgets-label-color: white;\n",
              "                    --jp-ui-font-color1: white;\n",
              "                    --jp-layout-color2: #454545;\n",
              "                    background-color: #383838;\n",
              "                }\n",
              "\n",
              "                .geemap-dark .jupyter-button {\n",
              "                    --jp-layout-color3: #383838;\n",
              "                }\n",
              "\n",
              "                .geemap-colab {\n",
              "                    background-color: var(--colab-primary-surface-color, white);\n",
              "                }\n",
              "\n",
              "                .geemap-colab .jupyter-button {\n",
              "                    --jp-layout-color3: var(--colab-primary-surface-color, white);\n",
              "                }\n",
              "            </style>\n",
              "            "
            ]
          },
          "metadata": {}
        },
        {
          "output_type": "stream",
          "name": "stdout",
          "text": [
            "2199\n"
          ]
        }
      ]
    },
    {
      "cell_type": "markdown",
      "source": [
        "Let's look just at the fires in Ontario\n",
        "\n",
        "https://cwfis.cfs.nrcan.gc.ca/downloads/nbac/NBAC_1972to2024_20250506_shp_metadata.pdf"
      ],
      "metadata": {
        "id": "8Fz8KcE4U7Wb"
      }
    },
    {
      "cell_type": "code",
      "source": [
        "nbac_on_2023 = nbac_2023.filter(ee.Filter.eq('ADMIN_AREA', 'ON'))\n",
        "nbac_on_2023.size().getInfo()"
      ],
      "metadata": {
        "colab": {
          "base_uri": "https://localhost:8080/",
          "height": 35
        },
        "id": "p6NUMWF7UB34",
        "outputId": "c4cb9e3d-01c2-4d2b-8190-d11f7852f83a"
      },
      "execution_count": 10,
      "outputs": [
        {
          "output_type": "display_data",
          "data": {
            "text/plain": [
              "<IPython.core.display.HTML object>"
            ],
            "text/html": [
              "\n",
              "            <style>\n",
              "                .geemap-dark {\n",
              "                    --jp-widgets-color: white;\n",
              "                    --jp-widgets-label-color: white;\n",
              "                    --jp-ui-font-color1: white;\n",
              "                    --jp-layout-color2: #454545;\n",
              "                    background-color: #383838;\n",
              "                }\n",
              "\n",
              "                .geemap-dark .jupyter-button {\n",
              "                    --jp-layout-color3: #383838;\n",
              "                }\n",
              "\n",
              "                .geemap-colab {\n",
              "                    background-color: var(--colab-primary-surface-color, white);\n",
              "                }\n",
              "\n",
              "                .geemap-colab .jupyter-button {\n",
              "                    --jp-layout-color3: var(--colab-primary-surface-color, white);\n",
              "                }\n",
              "            </style>\n",
              "            "
            ]
          },
          "metadata": {}
        },
        {
          "output_type": "execute_result",
          "data": {
            "text/plain": [
              "89"
            ]
          },
          "metadata": {},
          "execution_count": 10
        }
      ]
    },
    {
      "cell_type": "markdown",
      "source": [
        "Always a good idea to check column or property types"
      ],
      "metadata": {
        "id": "cNF7g5ctpzsS"
      }
    },
    {
      "cell_type": "code",
      "source": [
        "nbac_on_2023.limit(0).getInfo()['columns']"
      ],
      "metadata": {
        "id": "tXAIK0i7pJ63"
      },
      "execution_count": null,
      "outputs": []
    },
    {
      "cell_type": "code",
      "source": [
        "ee.Number(nbac_on_2023.first().get('YEAR')).getInfo()"
      ],
      "metadata": {
        "colab": {
          "base_uri": "https://localhost:8080/",
          "height": 35
        },
        "id": "XhYocSxvqJ9W",
        "outputId": "d449366d-3bb9-4b95-f2e0-966849ad1322"
      },
      "execution_count": 11,
      "outputs": [
        {
          "output_type": "display_data",
          "data": {
            "text/plain": [
              "<IPython.core.display.HTML object>"
            ],
            "text/html": [
              "\n",
              "            <style>\n",
              "                .geemap-dark {\n",
              "                    --jp-widgets-color: white;\n",
              "                    --jp-widgets-label-color: white;\n",
              "                    --jp-ui-font-color1: white;\n",
              "                    --jp-layout-color2: #454545;\n",
              "                    background-color: #383838;\n",
              "                }\n",
              "\n",
              "                .geemap-dark .jupyter-button {\n",
              "                    --jp-layout-color3: #383838;\n",
              "                }\n",
              "\n",
              "                .geemap-colab {\n",
              "                    background-color: var(--colab-primary-surface-color, white);\n",
              "                }\n",
              "\n",
              "                .geemap-colab .jupyter-button {\n",
              "                    --jp-layout-color3: var(--colab-primary-surface-color, white);\n",
              "                }\n",
              "            </style>\n",
              "            "
            ]
          },
          "metadata": {}
        },
        {
          "output_type": "execute_result",
          "data": {
            "text/plain": [
              "2023"
            ]
          },
          "metadata": {},
          "execution_count": 11
        }
      ]
    },
    {
      "cell_type": "markdown",
      "source": [
        "lets visualize it"
      ],
      "metadata": {
        "id": "M5TOK7SDW6ca"
      }
    },
    {
      "cell_type": "code",
      "source": [
        "centroid = nbac_on_2023.geometry().centroid(1).getInfo()['coordinates']\n",
        "# geemap often automatically zooms to the layer extent when added,\n",
        "# but explicitly setting a zoom level can help if needed.\n",
        "# A zoom level between 8 and 10 is usually good for a provincial park.\n",
        "zoom_level = 9\n",
        "\n",
        "m = geemap.Map(center=(centroid[1], centroid[0]), zoom=zoom_level)\n",
        "\n",
        "# Visualization parameters are not strictly needed for feature collections/geometries,\n",
        "# but we can add a simple outline color if the default is hard to see.\n",
        "fires_vis = {'color': 'FF0000'} # Red outline\n",
        "\n",
        "# Add the AOI layer using aoi_ee\n",
        "m.add_layer(nbac_on_2023, fires_vis, \"Wildfires 2023\")\n",
        "\n",
        "# Add the layer manager to easily toggle layers\n",
        "m.add_layer_manager()\n",
        "\n",
        "m"
      ],
      "metadata": {
        "id": "qHZbkw33XN7O"
      },
      "execution_count": null,
      "outputs": []
    },
    {
      "cell_type": "markdown",
      "source": [
        "Lets calculate some summary statistics\n",
        "\n",
        "total area burned?"
      ],
      "metadata": {
        "id": "rsx-44V-XnkH"
      }
    },
    {
      "cell_type": "code",
      "source": [
        "# Calculate the area of each feature and add it as a property\n",
        "def add_area(feature):\n",
        "  return feature.set({'area_sq_ha': feature.geometry().area().divide(10000)})\n",
        "\n",
        "nbac_on_2023 = nbac_on_2023.map(add_area)\n",
        "\n",
        "# Calculate the total area\n",
        "total_area = nbac_on_2023.aggregate_sum('area_sq_ha')\n",
        "\n",
        "# Print the total area\n",
        "print('Total area:', total_area.getInfo())\n"
      ],
      "metadata": {
        "id": "pX9-DPfFhxnW"
      },
      "execution_count": null,
      "outputs": []
    },
    {
      "cell_type": "markdown",
      "source": [
        "## Exploring raster datasets using NBAC feature collection\n",
        "\n",
        "\n",
        "[High-Resolution Annual Forest Land Cover (1984–2022)](https://gee-community-catalog.org/projects/ca_lc/)\n",
        "\n",
        "**Exercise:**\n",
        "\n",
        "Calculate the % area in each fire perimeter that is coniferous.\n",
        "\n",
        "\n",
        "1.   Filter image collection by date\n",
        "2.   Clip image to fire perimter for each feature and\n",
        "3.   *Masks all none*\n",
        "4.   calculate the percent area in each class\n",
        "5.   export as csv\n",
        "\n",
        "\n",
        "\n",
        "**Class codes for raster:**\n",
        "\n",
        "* Class Code: 0\tUnclassified\n",
        "* Class Code: 20\tWater\n",
        "* Class Code: 31\tSnow/Ice\n",
        "* Class Code: 32\tRock/Rubble\n",
        "* Class Code: 33\tExposed/Barren Land\n",
        "* Class Code: 40\tBryoids\n",
        "* Class Code: 50\tShrubs\n",
        "* Class Code: 80\tWetland\n",
        "* Class Code: 81\tWetland Treed\n",
        "* Class Code: 100\tHerbs\n",
        "* Class Code: 210\tConiferous\n",
        "* Class Code: 220\tBroad Leaf\n",
        "* Class Code: 230\tMixedwood"
      ],
      "metadata": {
        "id": "mxZctNnWiTqz"
      }
    },
    {
      "cell_type": "code",
      "source": [
        "forest_lc = ee.ImageCollection(\"projects/sat-io/open-datasets/CA_FOREST_LC_VLCE2\")\n",
        "forest_lc"
      ],
      "metadata": {
        "id": "YbM6AqPoijNj"
      },
      "execution_count": null,
      "outputs": []
    },
    {
      "cell_type": "markdown",
      "source": [
        "Lets break it down for one fire"
      ],
      "metadata": {
        "id": "Z4R942WY7E6V"
      }
    },
    {
      "cell_type": "code",
      "source": [
        "first_fire = nbac_on_2023.first()\n"
      ],
      "metadata": {
        "id": "vzWMJulk7UHe"
      },
      "execution_count": null,
      "outputs": []
    },
    {
      "cell_type": "markdown",
      "source": [
        "First we get the year and make a start and end date to filter the image collection"
      ],
      "metadata": {
        "id": "kyrdr8v67YUf"
      }
    },
    {
      "cell_type": "code",
      "source": [
        "year = ee.Number(first_fire.get('YEAR')).toInt().subtract(1)\n",
        "start_date = ee.Date.fromYMD(year, 1, 1)\n",
        "end_date = ee.Date.fromYMD(year, 12, 31)"
      ],
      "metadata": {
        "id": "aTJJHfjT7fLk"
      },
      "execution_count": null,
      "outputs": []
    },
    {
      "cell_type": "markdown",
      "source": [
        "get the geometry of the fire"
      ],
      "metadata": {
        "id": "RMuanV0F7nDd"
      }
    },
    {
      "cell_type": "code",
      "source": [
        "geom = first_fire.geometry()"
      ],
      "metadata": {
        "id": "QDQsIyY97p1S"
      },
      "execution_count": null,
      "outputs": []
    },
    {
      "cell_type": "markdown",
      "source": [
        "Filter the image collection"
      ],
      "metadata": {
        "id": "-8QyLdhf7sDe"
      }
    },
    {
      "cell_type": "code",
      "source": [
        " # Filter image collection by date and bounds\n",
        "image = forest_lc.filterDate(start_date, end_date).filterBounds(geom).first()"
      ],
      "metadata": {
        "id": "9r1y3-w17uJG"
      },
      "execution_count": null,
      "outputs": []
    },
    {
      "cell_type": "markdown",
      "source": [
        "Mask all values that are not coniferous.\n",
        "\n",
        "This is a very important aspect of getting data from raster images.\n",
        "\n",
        "In Google Earth Engine (GEE), masking is the process of hiding or excluding certain pixels in a raster image based on specific criteria—such as pixel values, quality flags, or spatial boundaries. This is crucial for focusing analysis only on relevant data, improving accuracy, and reducing computational load.\n",
        "\n",
        "For example, when analyzing land cover, you might mask out all pixels except those representing forests. Masking ensures that calculations like area, statistics, or classification are applied only to meaningful regions, making it a foundational step in most remote sensing workflows.\n",
        "\n",
        "In Google Earth Engine (GEE), creating and applying a mask involves a few clear steps:\n",
        "\n",
        "* Define the Condition: Decide which pixels you want to keep. For example, to keep only pixels with a value of 210, you use image.eq(210).\n",
        "* Create the Mask: This condition returns a binary image (mask) where pixels that meet the condition are 1 (true) and others are 0 (false).\n",
        "* Apply the Mask: Use .updateMask(mask) on the original image. This hides all pixels where the mask is 0, keeping only the desired ones.\n",
        "* Use the Masked Image: The resulting image can now be used for further analysis, such as calculating area, statistics, or visualization."
      ],
      "metadata": {
        "id": "Trdwf3rB7yJ3"
      }
    },
    {
      "cell_type": "code",
      "source": [
        "# clip image\n",
        "img = ee.Image(image).clip(geom)\n",
        "# create mask - all values except 210\n",
        "class_210_mask = img.eq(210)\n",
        "#calculate pixel area\n",
        "pixel_area = ee.Image.pixelArea().divide(10000)  # hectares\n",
        "# apply mask - masks all values except 210\n",
        "area_image = pixel_area.updateMask(class_210_mask)"
      ],
      "metadata": {
        "id": "lcgj-6898JDf"
      },
      "execution_count": null,
      "outputs": []
    },
    {
      "cell_type": "markdown",
      "source": [
        "Calculate the area using the sum reducer\n"
      ],
      "metadata": {
        "id": "NPQRRRLa8pmS"
      }
    },
    {
      "cell_type": "code",
      "source": [
        "coniferous_area = area_image.reduceRegion(\n",
        "            reducer=ee.Reducer.sum(),\n",
        "            geometry=geom,\n",
        "            scale=30,\n",
        "            maxPixels=1e13\n",
        "        ).get('area')"
      ],
      "metadata": {
        "id": "-PM_aWCs8pXv"
      },
      "execution_count": null,
      "outputs": []
    },
    {
      "cell_type": "markdown",
      "source": [
        "lets look at the results"
      ],
      "metadata": {
        "id": "NkWyy75i8yjN"
      }
    },
    {
      "cell_type": "code",
      "source": [
        "coniferous_area"
      ],
      "metadata": {
        "id": "r7zCKmjD80RG"
      },
      "execution_count": null,
      "outputs": []
    },
    {
      "cell_type": "code",
      "source": [
        "first_fire = first_fire.set('class_210_area_ha', coniferous_area)"
      ],
      "metadata": {
        "id": "5QE8Qni4-lFZ"
      },
      "execution_count": null,
      "outputs": []
    },
    {
      "cell_type": "markdown",
      "source": [
        "How much of the fire is coniferous?"
      ],
      "metadata": {
        "id": "FNtQDbfO9fk8"
      }
    },
    {
      "cell_type": "code",
      "source": [
        "first_fire = first_fire.set('area_difference', ee.Number(first_fire.get('class_210_area_ha')).divide(ee.Number(first_fire.get('POLY_HA'))).multiply(100))\n",
        "first_fire.get('area_difference').getInfo()"
      ],
      "metadata": {
        "id": "f_sQ3xvv9iDB"
      },
      "execution_count": null,
      "outputs": []
    },
    {
      "cell_type": "markdown",
      "source": [
        "We can make this easier by combining everything in to one function and mapping it over the feature collection"
      ],
      "metadata": {
        "id": "J5FAZxnHeFbq"
      }
    },
    {
      "cell_type": "code",
      "source": [
        "def calculate_class_210_area(feature):\n",
        "    year = ee.Number(feature.get('YEAR')).toInt().subtract(1)\n",
        "    start_date = ee.Date.fromYMD(year, 1, 1)\n",
        "    end_date = ee.Date.fromYMD(year, 12, 31)\n",
        "    geom = feature.geometry()\n",
        "\n",
        "    # Filter image collection by date and bounds\n",
        "    image = forest_lc.filterDate(start_date, end_date).filterBounds(geom).first()\n",
        "\n",
        "    # If image exists, process it\n",
        "    def process(img):\n",
        "        img = ee.Image(img).clip(geom)\n",
        "        class_210_mask = img.eq(210)\n",
        "        pixel_area = ee.Image.pixelArea().divide(10000)  # hectares\n",
        "        area_image = pixel_area.updateMask(class_210_mask)\n",
        "\n",
        "        area = area_image.reduceRegion(\n",
        "            reducer=ee.Reducer.sum(),\n",
        "            geometry=geom,\n",
        "            scale=30,\n",
        "            maxPixels=1e13\n",
        "        ).get('area')\n",
        "\n",
        "        return feature.set('class_210_area_ha', area)\n",
        "\n",
        "    return ee.Algorithms.If(image, process(image), feature.set('class_210_area_ha', 0))\n",
        "\n",
        "\n"
      ],
      "metadata": {
        "id": "tws3w4FG6QiY"
      },
      "execution_count": null,
      "outputs": []
    },
    {
      "cell_type": "code",
      "source": [
        "#Apply to feature collection\n",
        "nbac_on_2023_coniferous = nbac_on_2023.map(calculate_class_210_area)\n",
        "nbac_on_2023_coniferous"
      ],
      "metadata": {
        "id": "RAi7E0jB6jTJ"
      },
      "execution_count": null,
      "outputs": []
    },
    {
      "cell_type": "markdown",
      "source": [
        "## Canada Landsat-Derived Forest Harvest Disturbance (1985–2020)\n",
        "\n",
        "\n",
        "[Landsat-Derived Forest Harvest Disturbance](https://gee-community-catalog.org/projects/ca_species_ts/)\n",
        "\n",
        "**Exercise**\n",
        "\n",
        "Were there any harvest disturbances detected within fire perimeters between 1985 and 2020?\n",
        "\n",
        "tips:\n",
        "* read in image\n",
        "* clip image\n",
        "* calculate max\n",
        "* set as feature property\n",
        "* output as csv"
      ],
      "metadata": {
        "id": "eO4ZpUquEEqh"
      }
    },
    {
      "cell_type": "code",
      "source": [
        "# @title Solution\n",
        "\n",
        "def add_max_pixel_value(feature_collection):\n",
        "\n",
        "  image = ee.Image(\"projects/sat-io/open-datasets/CA_FOREST/CA_Forest_Harvest_1985-2020\")\n",
        "\n",
        "  def calculate_max(feature):\n",
        "    # Get the geometry of the feature.\n",
        "    geom = feature.geometry()\n",
        "\n",
        "    # Clip the image to the feature's geometry.\n",
        "    clipped_image = image.clip(geom)\n",
        "\n",
        "    # Calculate the maximum pixel value within the clipped image.\n",
        "    max_value = clipped_image.reduceRegion(\n",
        "        reducer=ee.Reducer.max(),\n",
        "        geometry=geom,\n",
        "        scale=image.projection().nominalScale(),\n",
        "        maxPixels=1e13\n",
        "    ).get(image.bandNames().get(0)) # Assuming a single band image\n",
        "\n",
        "\n",
        "    # Set the max_value as a property of the feature and harvested as a property of the feature\n",
        "    return feature.set('max_value', max_value)\n",
        "\n",
        "  processed_collection = feature_collection.map(calculate_max)\n",
        "\n",
        "  # Convert the collection to a list of dictionaries\n",
        "  data_list = processed_collection.getInfo()['features']\n",
        "\n",
        "  # Extract properties from each feature\n",
        "  data_dicts = [feature['properties'] for feature in data_list]\n",
        "\n",
        "  # Create a DataFrame\n",
        "  df = pd.DataFrame(data_dicts)\n",
        "\n",
        "  # for max value variables that are not NaN, make sure they are integers\n",
        "  df['max_value'] = df['max_value'].fillna(0).astype(int)\n",
        "\n",
        "  # max value is 0, make a new column called harvested and make it 0 but if it is greater than 0 make it 1\n",
        "  df['harvested'] = df['max_value'].apply(lambda x: 1 if x > 0 else 0)\n",
        "\n",
        "\n",
        "  # Map the function over the feature collection.\n",
        "  return df\n",
        "\n",
        "\n",
        "harvest_history = add_max_pixel_value(nbac_on_2023)\n",
        "harvest_history"
      ],
      "metadata": {
        "colab": {
          "base_uri": "https://localhost:8080/",
          "height": 17
        },
        "cellView": "form",
        "id": "_Qf92fPOEuF5",
        "outputId": "0776b4ff-2f81-491d-8f56-e7b6541b4467"
      },
      "execution_count": 24,
      "outputs": [
        {
          "output_type": "display_data",
          "data": {
            "text/plain": [
              "<IPython.core.display.HTML object>"
            ],
            "text/html": [
              "\n",
              "            <style>\n",
              "                .geemap-dark {\n",
              "                    --jp-widgets-color: white;\n",
              "                    --jp-widgets-label-color: white;\n",
              "                    --jp-ui-font-color1: white;\n",
              "                    --jp-layout-color2: #454545;\n",
              "                    background-color: #383838;\n",
              "                }\n",
              "\n",
              "                .geemap-dark .jupyter-button {\n",
              "                    --jp-layout-color3: #383838;\n",
              "                }\n",
              "\n",
              "                .geemap-colab {\n",
              "                    background-color: var(--colab-primary-surface-color, white);\n",
              "                }\n",
              "\n",
              "                .geemap-colab .jupyter-button {\n",
              "                    --jp-layout-color3: var(--colab-primary-surface-color, white);\n",
              "                }\n",
              "            </style>\n",
              "            "
            ]
          },
          "metadata": {}
        }
      ]
    },
    {
      "cell_type": "markdown",
      "source": [
        "# Canada Long-Term Tree Species (1984–2022)\n",
        "\n",
        "Can we get the percentage of black spruce within each fire?"
      ],
      "metadata": {
        "id": "SkN6A0tAX2e_"
      }
    },
    {
      "cell_type": "code",
      "source": [],
      "metadata": {
        "id": "MsJq2sEdX1d5"
      },
      "execution_count": null,
      "outputs": []
    }
  ]
}