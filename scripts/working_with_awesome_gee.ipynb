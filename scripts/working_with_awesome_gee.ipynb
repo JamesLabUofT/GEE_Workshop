{
  "nbformat": 4,
  "nbformat_minor": 0,
  "metadata": {
    "colab": {
      "provenance": [],
      "authorship_tag": "ABX9TyN5KuhgDx5pI/gkNdxj8qYw",
      "include_colab_link": true
    },
    "kernelspec": {
      "name": "python3",
      "display_name": "Python 3"
    },
    "language_info": {
      "name": "python"
    }
  },
  "cells": [
    {
      "cell_type": "markdown",
      "metadata": {
        "id": "view-in-github",
        "colab_type": "text"
      },
      "source": [
        "<a href=\"https://colab.research.google.com/github/JamesLabUofT/GEE_Workshop/blob/main/scripts/working_with_awesome_gee.ipynb\" target=\"_parent\"><img src=\"https://colab.research.google.com/assets/colab-badge.svg\" alt=\"Open In Colab\"/></a>"
      ]
    },
    {
      "cell_type": "markdown",
      "source": [
        "# Extracting and Processing data from Awesome GEE Community Catalog\n",
        "\n",
        "\n",
        "## Module Overview\n",
        "\n",
        "This module introduces participants to accessing, analyzing, and visualizing forest-related geospatial datasets from the Awesome GEE Community Data Catalog using Google Earth Engine (GEE) and Python. Through hands-on exercises in Google Colab, participants will explore forest disturbance, land cover, and species composition across Canada using high-resolution datasets.\n",
        "\n",
        "## Learning Objectives:\n",
        "By the end of this module, participants will be able to:\n",
        "\n",
        "* Understand the structure and content of selected forest datasets in the Awesome GEE Catalog\n",
        "* Use Python and the Earth Engine API to access, filter, and visualize geospatial data\n",
        "* Work with both raster (ImageCollections) and vector (FeatureCollections) datasets\n",
        "* Perform spatial and temporal analysis on forest disturbance and land cover\n",
        "Export processed data for further analysis or reporting\n",
        "\n",
        "## Topics Covered:\n",
        "1. Introduction to the Awesome GEE Community Catalog\n",
        "Overview of the catalog and its purpose\n",
        "Navigating the catalog and locating datasets\n",
        "Setting up the Python environment (earthengine-api, geemap, pandas)\n",
        "\n",
        "2. Working with FeatureCollections: NBAC Dataset\n",
        "Dataset: National Burned Area Composite (NBAC)\n",
        "\n",
        "* Understanding vector data in GEE\n",
        "* Loading and filtering NBAC by year and region\n",
        "* Visualizing burned areas on interactive maps\n",
        "* Calculating burned area statistics\n",
        "* Exporting filtered data to CSV or Google Drive\n",
        "\n",
        "**Using the NBAC perimeters, lets explore some forest cover**\n",
        "\n",
        "3. Exploring Raster Datasets\n",
        "\n",
        "a. High-Resolution Annual Forest Land Cover (1984–2022)\n",
        "* Visualizing annual forest cover\n",
        "* Detecting forest cover change over time\n",
        "* Creating animations or time sliders\n",
        "\n",
        "b. Canada Landsat-Derived Forest Harvest Disturbance (1985–2020)\n",
        "* Mapping harvest disturbances\n",
        "* Comparing harvest vs. fire impacts\n",
        "* Temporal analysis of disturbance trends\n",
        "\n",
        "c. Canada Long-Term Tree Species (1984–2022)\n",
        "* Mapping dominant tree species\n",
        "* Analyzing species distribution changes\n",
        "* Overlaying with land cover for ecological insights\n",
        "\n",
        "4. Data Extraction and Visualization\n",
        "\n",
        "* Reducing data over custom regions (e.g., provinces, ecozones)\n",
        "* Exporting time-series data to Pandas DataFrames\n",
        "* Creating charts and maps using matplotlib and geemap\n",
        "* Exporting results for use in reports or further analysis\n",
        "\n"
      ],
      "metadata": {
        "id": "zNiSpUskHMHc"
      }
    }
  ]
}