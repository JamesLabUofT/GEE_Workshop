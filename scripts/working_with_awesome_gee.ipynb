{
  "nbformat": 4,
  "nbformat_minor": 0,
  "metadata": {
    "colab": {
      "provenance": [],
      "authorship_tag": "ABX9TyN4dW0lUSfT0paxn1uS5pHe",
      "include_colab_link": true
    },
    "kernelspec": {
      "name": "python3",
      "display_name": "Python 3"
    },
    "language_info": {
      "name": "python"
    }
  },
  "cells": [
    {
      "cell_type": "markdown",
      "metadata": {
        "id": "view-in-github",
        "colab_type": "text"
      },
      "source": [
        "<a href=\"https://colab.research.google.com/github/JamesLabUofT/GEE_Workshop/blob/main/scripts/working_with_awesome_gee.ipynb\" target=\"_parent\"><img src=\"https://colab.research.google.com/assets/colab-badge.svg\" alt=\"Open In Colab\"/></a>"
      ]
    },
    {
      "cell_type": "markdown",
      "source": [
        "# Extracting and Processing data from Awesome GEE Community Catalog\n",
        "\n",
        "\n",
        "## Module Overview\n",
        "\n",
        "This module introduces participants to accessing, analyzing, and visualizing forest-related geospatial datasets from the Awesome GEE Community Data Catalog using Google Earth Engine (GEE) and Python. Through hands-on exercises in Google Colab, participants will explore forest disturbance, land cover, and species composition across Canada using high-resolution datasets.\n",
        "\n",
        "## Learning Objectives:\n",
        "By the end of this module, participants will be able to:\n",
        "\n",
        "* Understand the structure and content of selected forest datasets in the Awesome GEE Catalog\n",
        "* Use Python and the Earth Engine API to access, filter, and visualize geospatial data\n",
        "* Work with both raster (ImageCollections) and vector (FeatureCollections) datasets\n",
        "* Perform spatial and temporal analysis on forest disturbance and land cover\n",
        "Export processed data for further analysis or reporting\n",
        "\n",
        "## Topics Covered:\n",
        "**Introduction to the Awesome GEE Community Catalog**\n",
        "\n",
        "* Overview of the catalog and its purpose\n",
        "* Navigating the catalog and locating datasets\n",
        "\n",
        "**Working with FeatureCollections: NBAC Dataset\n",
        "Dataset: National Burned Area Composite (NBAC)**\n",
        "\n",
        "* Understanding vector data in GEE\n",
        "* Loading and filtering NBAC by year and region\n",
        "* Visualizing burned areas on interactive maps\n",
        "* Calculating burned area statistics\n",
        "* Exporting filtered data to CSV or Google Drive\n",
        "\n",
        "**Using the NBAC perimeters, lets explore some forest cover**\n",
        "\n",
        "**Exploring Raster Datasets**\n",
        "\n",
        "a. High-Resolution Annual Forest Land Cover (1984–2022)\n",
        "* Visualizing annual forest cover\n",
        "* Detecting forest cover change over time\n",
        "* Creating animations or time sliders\n",
        "\n",
        "b. Canada Landsat-Derived Forest Harvest Disturbance (1985–2020)\n",
        "* Mapping harvest disturbances\n",
        "* Comparing harvest vs. fire impacts\n",
        "* Temporal analysis of disturbance trends\n",
        "\n",
        "c. Canada Long-Term Tree Species (1984–2022)\n",
        "* Mapping dominant tree species\n",
        "* Analyzing species distribution changes\n",
        "* Overlaying with land cover for ecological insights\n",
        "\n",
        "**Data Extraction and Visualization**\n",
        "\n",
        "* Reducing data over custom regions (e.g., provinces, ecozones)\n",
        "* Exporting time-series data to Pandas DataFrames\n",
        "* Creating charts and maps using matplotlib and geemap\n",
        "* Exporting results for use in reports or further analysis\n",
        "\n"
      ],
      "metadata": {
        "id": "zNiSpUskHMHc"
      }
    },
    {
      "cell_type": "markdown",
      "source": [
        "## Introduction to the Awesome GEE Community Catalog"
      ],
      "metadata": {
        "id": "2_E61EKO_bVI"
      }
    },
    {
      "cell_type": "markdown",
      "source": [
        "## Introduction to the Awesome GEE Community Catalog\n",
        "\n",
        "\n",
        "✅ Expand access to valuable datasets not included in the official GEE catalog\n",
        "🌍 Support reproducible science by sharing preprocessed, ready-to-use data\n",
        "🧑‍🤝‍🧑 Foster collaboration across the global geospatial community\n",
        "📈 Accelerate research in climate, ecology, forestry, urban studies, and more\n",
        "\n",
        "https://gee-community-catalog.org/"
      ],
      "metadata": {
        "id": "NXDxvW-nCLpa"
      }
    },
    {
      "cell_type": "markdown",
      "source": [
        "**environment setup**"
      ],
      "metadata": {
        "id": "2K7EcPN1CW7z"
      }
    },
    {
      "cell_type": "code",
      "source": [
        "import ee\n",
        "import geemap\n",
        "import geopandas as gpd\n",
        "import pandas as pd\n",
        "import matplotlib.pyplot as plt\n",
        "import numpy as np\n",
        "import ipyleaflet"
      ],
      "metadata": {
        "id": "fDaUxcGQCWq2"
      },
      "execution_count": null,
      "outputs": []
    },
    {
      "cell_type": "markdown",
      "source": [
        "Authenticate and intialize ee"
      ],
      "metadata": {
        "id": "Jt3QF0yHCnEU"
      }
    },
    {
      "cell_type": "code",
      "source": [
        "ee.Initialize() # project='ee-userid'"
      ],
      "metadata": {
        "id": "V5l9meEuCmuc"
      },
      "execution_count": null,
      "outputs": []
    },
    {
      "cell_type": "markdown",
      "source": [
        "# Working with Feature Collections: NBAC"
      ],
      "metadata": {
        "id": "0ZmLDv1KHaN4"
      }
    },
    {
      "cell_type": "markdown",
      "source": [
        "In this section, participants will explore how to work with vector data in Google Earth Engine using the NBAC dataset, which maps burned areas across Canada. This hands-on module introduces the concept of FeatureCollections, a core data structure in GEE used to represent geographic features like points, lines, and polygons.\n",
        "\n",
        "FeatureCollections are the vector equivalent of ImageCollections in Earth Engine. They store geographic features—such as fire perimeters, forest plots, or administrative boundaries—along with associated attributes (e.g., year, area, cause). In this session, we’ll use the National Burned Area Composite (NBAC) to:\n",
        "\n",
        "* Load and explore a FeatureCollection\n",
        "* Filter features by year and region\n",
        "* Visualize fire perimeters on an interactive map\n",
        "* Calculate statistics like total burned area\n",
        "* Export selected features for further analysis\n",
        "\n",
        "We'll start with loading in the NBAC from https://gee-community-catalog.org/projects/nbac/#citation"
      ],
      "metadata": {
        "id": "swOs_tSAH4Ba"
      }
    },
    {
      "cell_type": "code",
      "source": [
        "nbac = ee.FeatureCollection(\"projects/sat-io/open-datasets/CA_FOREST/NBAC/nbac_1972_2023_20240530\")\n"
      ],
      "metadata": {
        "id": "BGm06PxRCGNg"
      },
      "execution_count": null,
      "outputs": []
    },
    {
      "cell_type": "markdown",
      "source": [
        "Lets look at the data"
      ],
      "metadata": {
        "id": "JuZ7WCGITLBA"
      }
    },
    {
      "cell_type": "code",
      "source": [
        "print(nbac.size().getInfo(), nbac.first().propertyNames().getInfo())"
      ],
      "metadata": {
        "id": "6chIHEl2TPNM"
      },
      "execution_count": null,
      "outputs": []
    },
    {
      "cell_type": "markdown",
      "source": [
        "Lets get all fires from 2023"
      ],
      "metadata": {
        "id": "pWttzg03Ur5o"
      }
    },
    {
      "cell_type": "code",
      "source": [
        "nbac_2023 = nbac.filter(ee.Filter.eq('YEAR', 2023))\n",
        "print(nbac_2023.size().getInfo())"
      ],
      "metadata": {
        "id": "6ObztkvgUugB"
      },
      "execution_count": null,
      "outputs": []
    },
    {
      "cell_type": "markdown",
      "source": [
        "Let's look just at the fires in Ontario\n",
        "\n",
        "https://cwfis.cfs.nrcan.gc.ca/downloads/nbac/NBAC_1972to2024_20250506_shp_metadata.pdf"
      ],
      "metadata": {
        "id": "8Fz8KcE4U7Wb"
      }
    },
    {
      "cell_type": "code",
      "source": [
        "nbac_on_2023 = nbac_2023.filter(ee.Filter.eq('ADMIN_AREA', 'ON'))\n",
        "nbac_on_2023.size().getInfo()"
      ],
      "metadata": {
        "id": "p6NUMWF7UB34"
      },
      "execution_count": null,
      "outputs": []
    },
    {
      "cell_type": "markdown",
      "source": [
        "lets visualize it"
      ],
      "metadata": {
        "id": "M5TOK7SDW6ca"
      }
    },
    {
      "cell_type": "code",
      "source": [
        "centroid = nbac_on_2023.geometry().centroid(1).getInfo()['coordinates']\n",
        "# geemap often automatically zooms to the layer extent when added,\n",
        "# but explicitly setting a zoom level can help if needed.\n",
        "# A zoom level between 8 and 10 is usually good for a provincial park.\n",
        "zoom_level = 9\n",
        "\n",
        "m = geemap.Map(center=(centroid[1], centroid[0]), zoom=zoom_level)\n",
        "\n",
        "# Visualization parameters are not strictly needed for feature collections/geometries,\n",
        "# but we can add a simple outline color if the default is hard to see.\n",
        "fires_vis = {'color': 'FF0000'} # Red outline\n",
        "\n",
        "# Add the AOI layer using aoi_ee\n",
        "m.add_layer(nbac_on_2023, fires_vis, \"Wildfires 2023\")\n",
        "\n",
        "# Add the layer manager to easily toggle layers\n",
        "m.add_layer_manager()\n",
        "\n",
        "m"
      ],
      "metadata": {
        "id": "qHZbkw33XN7O"
      },
      "execution_count": null,
      "outputs": []
    },
    {
      "cell_type": "markdown",
      "source": [
        "Lets calculate some summary statistics\n",
        "\n",
        "total area burned?"
      ],
      "metadata": {
        "id": "rsx-44V-XnkH"
      }
    },
    {
      "cell_type": "code",
      "source": [
        "# Calculate the area of each feature and add it as a property\n",
        "def add_area(feature):\n",
        "  return feature.set({'area_sq_ha': feature.geometry().area().divide(10000)})\n",
        "\n",
        "nbac_on_2023 = nbac_on_2023.map(add_area)\n",
        "\n",
        "# Calculate the total area\n",
        "total_area = nbac_on_2023.aggregate_sum('area_sq_ha')\n",
        "\n",
        "# Print the total area\n",
        "print('Total area:', total_area.getInfo())\n"
      ],
      "metadata": {
        "id": "pX9-DPfFhxnW"
      },
      "execution_count": null,
      "outputs": []
    },
    {
      "cell_type": "markdown",
      "source": [
        "## Exploring raster datasets using NBAC feature collection\n",
        "\n",
        "\n",
        "[High-Resolution Annual Forest Land Cover (1984–2022)](https://gee-community-catalog.org/projects/ca_lc/)"
      ],
      "metadata": {
        "id": "mxZctNnWiTqz"
      }
    },
    {
      "cell_type": "code",
      "source": [
        "forest_lc = ee.ImageCollection(\"projects/sat-io/open-datasets/CA_FOREST_LC_VLCE2\")\n",
        "forest_lc"
      ],
      "metadata": {
        "id": "YbM6AqPoijNj"
      },
      "execution_count": null,
      "outputs": []
    }
  ]
}