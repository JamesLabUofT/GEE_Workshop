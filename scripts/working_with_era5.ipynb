{
  "nbformat": 4,
  "nbformat_minor": 0,
  "metadata": {
    "colab": {
      "provenance": [],
      "authorship_tag": "ABX9TyM6IaER6qakXy4vGUPx0qgv",
      "include_colab_link": true
    },
    "kernelspec": {
      "name": "python3",
      "display_name": "Python 3"
    },
    "language_info": {
      "name": "python"
    }
  },
  "cells": [
    {
      "cell_type": "markdown",
      "metadata": {
        "id": "view-in-github",
        "colab_type": "text"
      },
      "source": [
        "<a href=\"https://colab.research.google.com/github/JamesLabUofT/GEE_Workshop/blob/main/scripts/working_with_era5.ipynb\" target=\"_parent\"><img src=\"https://colab.research.google.com/assets/colab-badge.svg\" alt=\"Open In Colab\"/></a>"
      ]
    },
    {
      "cell_type": "markdown",
      "source": [
        "# Working with ERA5 Climate Data in Google Earth Engine Using Python\n",
        "\n",
        "### Module Overview:\n",
        "\n",
        "This module introduces participants to the fundamentals of accessing, processing, and extracting climate data—specifically ERA5 reanalysis data—using Google Earth Engine (GEE) and Python. Through hands-on coding exercises in Google Colab, participants will learn how to build scalable workflows for climate data analysis relevant to ecological and environmental research.\n",
        "\n",
        "### Learning Objectives:\n",
        "\n",
        "By the end of this module, participants will be able to:\n",
        "\n",
        "* Understand the structure and content of ERA5 datasets available in GEE.\n",
        "* Use Python and the Earth Engine API to access and filter ERA5 data by time and region.\n",
        "* Extract and visualize climate variables (e.g., precipitation, temperature) over custom geographic areas.\n",
        "* Export processed data for further analysis or reporting.\n",
        "\n",
        "### Topics Covered:\n",
        "\n",
        "**Introduction to ERA5 Data**\n",
        "\n",
        "1. What is ERA5?\n",
        "2. Key variables and temporal resolution\n",
        "3. Accessing ERA5 in Google Earth Engine\n",
        "4. Setting Up the Python Environment\n",
        "\n",
        "Using Google Colab for cloud-based analysis\n",
        "Installing and importing required packages (earthengine-api, geemap, pandas, matplotlib)\n",
        "\n",
        "**Data Acquisition**\n",
        "\n",
        "1. Filtering ERA5 ImageCollections by date and region\n",
        "2. Selecting relevant climate variables (e.g., total_precipitation, temperature_2m)\n",
        "\n",
        "**Data Processing**\n",
        "\n",
        "1. Reducing data over regions of interest (e.g., national parks, watersheds)\n",
        "2. Aggregating data temporally (monthly, yearly averages)\n",
        "3. Converting units and formatting results\n",
        "\n",
        "**Data Extraction and Visualization**\n",
        "\n",
        "1. Exporting time series data to Pandas DataFrames**\n",
        "2. Creating plots and maps using matplotlib and geemap\n",
        "3. Exporting data to CSV or Google Drive\n",
        "\n",
        "\n"
      ],
      "metadata": {
        "id": "OImh14DoQxnV"
      }
    }
  ]
}