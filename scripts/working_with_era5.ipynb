{
  "nbformat": 4,
  "nbformat_minor": 0,
  "metadata": {
    "colab": {
      "provenance": [],
      "authorship_tag": "ABX9TyPN/knyh4Y3ALZuKm6xzOSL",
      "include_colab_link": true
    },
    "kernelspec": {
      "name": "python3",
      "display_name": "Python 3"
    },
    "language_info": {
      "name": "python"
    }
  },
  "cells": [
    {
      "cell_type": "markdown",
      "metadata": {
        "id": "view-in-github",
        "colab_type": "text"
      },
      "source": [
        "<a href=\"https://colab.research.google.com/github/JamesLabUofT/GEE_Workshop/blob/main/scripts/working_with_era5.ipynb\" target=\"_parent\"><img src=\"https://colab.research.google.com/assets/colab-badge.svg\" alt=\"Open In Colab\"/></a>"
      ]
    },
    {
      "cell_type": "markdown",
      "source": [
        "# Working with ERA5 Climate Data in Google Earth Engine Using Python\n",
        "\n",
        "### Module Overview:\n",
        "\n",
        "This module introduces participants to the fundamentals of accessing, processing, and extracting climate data—specifically ERA5 reanalysis data—using Google Earth Engine (GEE) and Python. Through hands-on coding exercises in Google Colab, participants will learn how to build scalable workflows for climate data analysis relevant to ecological and environmental research.\n",
        "\n",
        "### Learning Objectives:\n",
        "\n",
        "By the end of this module, participants will be able to:\n",
        "\n",
        "* Understand the structure and content of ERA5 datasets available in GEE.\n",
        "* Use Python and the Earth Engine API to access and filter ERA5 data by time and region.\n",
        "* Extract and visualize climate variables (e.g., precipitation, temperature) over custom geographic areas.\n",
        "* Export processed data for further analysis or reporting.\n",
        "\n",
        "### Topics Covered:\n",
        "\n",
        "**Introduction to ERA5 Data**\n",
        "\n",
        "1. What is ERA5? - Key variables and temporal resolution\n",
        "2. Accessing ERA5 in Google Earth Engine\n",
        "\n",
        "\n",
        "Using Google Colab for cloud-based analysis\n",
        "Installing and importing required packages (earthengine-api, geemap, pandas, matplotlib)\n",
        "\n",
        "**Data Acquisition**\n",
        "\n",
        "1. Filtering ERA5 ImageCollections by date, region or metadata.\n",
        "2. Selecting relevant climate variables (e.g., total_precipitation, temperature_2m)\n",
        "\n",
        "**Data Processing**\n",
        "\n",
        "1. Reducing data over regions of interest (e.g., national parks, watersheds)\n",
        "2. Aggregating data temporally (monthly, yearly averages)\n",
        "3. Converting units and formatting results\n",
        "\n",
        "**Data Extraction and Visualization**\n",
        "\n",
        "1. Exporting time series data to Pandas DataFrames**\n",
        "2. Creating plots and maps using matplotlib and geemap\n",
        "3. Exporting data to CSV or Google Drive\n",
        "\n",
        "**Custom Functions to Extract Data**\n",
        "\n",
        "1. Function to extract parameters for FWI calculations\n"
      ],
      "metadata": {
        "id": "OImh14DoQxnV"
      }
    },
    {
      "cell_type": "markdown",
      "source": [
        "## Introduction to ERA5"
      ],
      "metadata": {
        "id": "enWscLh4gQd8"
      }
    },
    {
      "cell_type": "markdown",
      "source": [
        "1. What is ERA5?\n",
        "\n",
        "ERA5 is the fifth version of global climate data reanalysis created by the Copernicus Climate Change Service at the European Centre for Medium-Range Weather Forecasts (ECMWF). It offers hourly data on various climate-related factors in the atmosphere, land, and oceans, starting from 1940 up to today.\n",
        "\n",
        "**Native resolution of 9km, regridded to 0.1 x 0.1 degrees (approximately 11km) in GEE for ERA5 Land.**\n",
        "\n",
        "Temporal Aggregations:\n",
        "  1. Hourly - Houly data for key variab;es\n",
        "  2. Daily - Daily aggregates of the core variables,\n",
        "  3. Monthly - Monthly averages and extremes of key variables\n",
        "\n",
        "\n",
        "Key Variables\n",
        "\n",
        "*   Temperature (measured at 2m)\n",
        "*   Precipitation\n",
        "*   Wind speed\n",
        "*   Dewpoint Temperature\n",
        "*   Pressure\n",
        "*   Radiation Fluxes\n",
        "*   Soil moisture\n",
        "*   Snow Cover\n",
        "\n",
        "\n"
      ],
      "metadata": {
        "id": "nJ8DptiraFRl"
      }
    },
    {
      "cell_type": "markdown",
      "source": [
        "2. Accessing ERA5 via python API\n",
        "\n",
        "In order to start working with the python GEE API, we need to initilaze our environment. We need to do this at the beginning of every new script. As a reminder, we do so with ee.Authenticate() and/or ee.Initialize()"
      ],
      "metadata": {
        "id": "m4YUjqXwgXii"
      }
    },
    {
      "cell_type": "code",
      "source": [
        "import ee\n",
        "ee.Authenticate()\n",
        "ee.Initialize(project=\"ee-jandrewgoldman\") #ee-userid"
      ],
      "metadata": {
        "id": "CBzNB7ILhE-9"
      },
      "execution_count": null,
      "outputs": []
    },
    {
      "cell_type": "markdown",
      "source": [
        "For this workshop, we will also be working with geopandas, matplotlib, geemap, pandas, contextily"
      ],
      "metadata": {
        "id": "J5dOPGAW4W6N"
      }
    },
    {
      "cell_type": "code",
      "source": [
        "#!pip install contextily\n",
        "#!pip install geemap\n",
        "#!pip install ipyleaflet\n",
        "\n"
      ],
      "metadata": {
        "collapsed": true,
        "id": "tijuIgUEYKWo"
      },
      "execution_count": null,
      "outputs": []
    },
    {
      "cell_type": "code",
      "source": [
        "import geopandas as gpd\n",
        "import matplotlib.pyplot as plt\n",
        "import contextily as ctx\n",
        "import pandas as pd\n",
        "import geemap\n",
        "import ipyleaflet\n",
        "\n",
        "\n"
      ],
      "metadata": {
        "collapsed": true,
        "id": "tHRCU3zq6TJU"
      },
      "execution_count": null,
      "outputs": []
    },
    {
      "cell_type": "markdown",
      "source": [
        "For example, lets read in era5_land_hourly"
      ],
      "metadata": {
        "id": "xnYHG80yjSqF"
      }
    },
    {
      "cell_type": "code",
      "source": [
        "# read in era5_land_hourly\n",
        "era5_land_hourly = ee.ImageCollection('ECMWF/ERA5_LAND/HOURLY')\n",
        "\n",
        "#read in era5 land_daily\n",
        "era5_land_daily = ee.ImageCollection('ECMWF/ERA5_LAND/DAILY_AGGR')\n",
        "\n",
        "# read in era5 land_monthly\n",
        "era5_land_monthly = ee.ImageCollection('ECMWF/ERA5_LAND/MONTHLY_AGGR')\n"
      ],
      "metadata": {
        "id": "_IeefI0Qj3c7"
      },
      "execution_count": null,
      "outputs": []
    },
    {
      "cell_type": "markdown",
      "source": [
        "# Data Acquisition"
      ],
      "metadata": {
        "id": "PPDCSfl9lS8i"
      }
    },
    {
      "cell_type": "markdown",
      "source": [
        "Now that we have the data loaded, lets see what we are working with.\n",
        "\n",
        "Lets try to look at the image collections properties (i.e., columns).\n",
        "\n",
        "---\n",
        "\n"
      ],
      "metadata": {
        "id": "H-ATY5O9j-md"
      }
    },
    {
      "cell_type": "code",
      "source": [
        "# Get the information about the collection, including its properties\n",
        "collection_info = era5_land_hourly.getInfo()\n",
        "\n",
        "# Print the collection properties\n",
        "print('Collection Properties:')\n",
        "for prop, value in collection_info.get('properties', {}).items():\n",
        "    print(f'{prop}: {value}')\n"
      ],
      "metadata": {
        "id": "FSa7Mz7DkCzd"
      },
      "execution_count": null,
      "outputs": []
    },
    {
      "cell_type": "markdown",
      "source": [
        "As you can see above, our query returns an error message. This is because we are trying to get information on a large number of images/properties."
      ],
      "metadata": {
        "id": "ajJHVPmzkR_1"
      }
    },
    {
      "cell_type": "code",
      "source": [
        "# For example, the number of images in the collection:\n",
        "count = era5_land_hourly.size().getInfo()\n",
        "print(f'\\nNumber of images in collection: {count}')"
      ],
      "metadata": {
        "id": "c38Ri1MekgAv"
      },
      "execution_count": null,
      "outputs": []
    },
    {
      "cell_type": "markdown",
      "source": [
        "When reading in data from image or feature collections it is always a good idea to filter the collection. Remember, image/feature collections are very large. Since we are working we a cloud-based system (and for free), we are unable to print or visualize very large objects. It is easier to handle filtered data."
      ],
      "metadata": {
        "id": "L95IILr7Lp0A"
      }
    },
    {
      "cell_type": "code",
      "source": [
        "\n",
        "# Get the date range\n",
        "date_range = era5_land_hourly.reduceColumns(ee.Reducer.minMax(), ['system:time_start'])\n",
        "\n",
        "# Extract min and max dates\n",
        "min_date_ms = date_range.get('min').getInfo()\n",
        "max_date_ms = date_range.get('max').getInfo()\n",
        "\n",
        "# Convert milliseconds to ee.Date objects and then to human-readable format\n",
        "min_date = ee.Date(min_date_ms).format('YYYY-MM-dd').getInfo()\n",
        "max_date = ee.Date(max_date_ms).format('YYYY-MM-dd').getInfo()\n",
        "\n",
        "print(f\"Image Collection Date Range: From {min_date} to {max_date}\")\n",
        "\n"
      ],
      "metadata": {
        "id": "63sTu1rfgoQE"
      },
      "execution_count": null,
      "outputs": []
    },
    {
      "cell_type": "markdown",
      "source": [
        "When filtering the data prior to running any queries there are three types of filtering methods.\n",
        "\n",
        "1. Filter by metadata: You can apply a filter on the image metadata using filters such as ee.Filter.eq(), ee.Filter.lt() etc. You can filter by PATH/ROW values, Orbit number, Cloud cover etc.\n",
        "2. Filter by date: You can select images in a particular date range using filters such as ee.Filter.date().\n",
        "3. Filter by location: You can select the subset of images with a bounding box, location or geometry using the ee.Filter.bounds(). You can also use the drawing tools to draw a geometry for filtering.\n",
        "\n",
        "Let's first load in the AOI.\n",
        "\n",
        "For this excerise we will be using Woodland Caribou Provincial Park. The geojson can be found in the github and can be loaded directly using the url."
      ],
      "metadata": {
        "id": "jbX7RRsqpF4_"
      }
    },
    {
      "cell_type": "code",
      "source": [
        "woodland_fpath = \"https://raw.githubusercontent.com/JamesLabUofT/GEE_Workshop/main/docs/shapefiles/woodland_caribou_provincial_park.shp\"\n",
        "\n",
        "aoi = gpd.read_file(woodland_fpath)\n",
        "aoi"
      ],
      "metadata": {
        "id": "94BTh-1Q3tdF"
      },
      "execution_count": null,
      "outputs": []
    },
    {
      "cell_type": "markdown",
      "source": [
        "It is always good practice to check the crs and change to wgs 84"
      ],
      "metadata": {
        "id": "1U9qByD_e9xB"
      }
    },
    {
      "cell_type": "markdown",
      "source": [
        "Lets visualize the AOI.\n"
      ],
      "metadata": {
        "id": "ojrAFVvcIxGB"
      }
    },
    {
      "cell_type": "code",
      "source": [
        "# Plot the AOI using geopandas built-in plotting function\n",
        "fig, ax = plt.subplots(1, 1, figsize=(10, 10))\n",
        "aoi.plot(ax=ax)\n",
        "# Add a basemap for context\n",
        "ctx.add_basemap(ax, crs=aoi.crs.to_epsg())\n",
        "plt.title(\"Area of Interest: Woodland Caribou Provincial Park\")\n",
        "plt.show()"
      ],
      "metadata": {
        "id": "C6w03gqxI2mD"
      },
      "execution_count": null,
      "outputs": []
    },
    {
      "cell_type": "markdown",
      "source": [
        "Since we read in the geojson (or feature using GEE terminology) locally as a geodataframe (gdf) using geopandas, we have to transform the gdf into a earth engine object in order to work with it on the server.\n",
        "\n",
        "We can use geemap for this.\n",
        "\n",
        "Geemap has numerous functions that allow use to convert various data types to ee objects.\n",
        "shp_to_ee() = shapefiles\n",
        "geojson_to_ee() = geojson\n",
        "gdf_to_ee() = GeoDataFrame\n",
        "csv_to_ee() = csv's\n",
        "\n",
        "We will use gdf_to_ee"
      ],
      "metadata": {
        "id": "werkZUUZMWLY"
      }
    },
    {
      "cell_type": "code",
      "source": [
        "aoi_ee = geemap.gdf_to_ee(aoi) # First select's the first feature in the feature collection, since we only have 1 feature, we want it to be a feature and not a feature collection\n",
        "aoi_ee\n"
      ],
      "metadata": {
        "id": "mb4kW6r1NoZL"
      },
      "execution_count": null,
      "outputs": []
    },
    {
      "source": [
        "# Verify the type of aoi_ee\n",
        "print(f\"Type of aoi_ee: {type(aoi_ee)}\")\n",
        "\n",
        "# Create a new map centered and zoomed to the AOI\n",
        "# We can use the centroid of the AOI's geometry for centering\n",
        "centroid = aoi_ee.geometry().centroid(1).getInfo()['coordinates']\n",
        "# geemap often automatically zooms to the layer extent when added,\n",
        "# but explicitly setting a zoom level can help if needed.\n",
        "# A zoom level between 8 and 10 is usually good for a provincial park.\n",
        "zoom_level = 9\n",
        "\n",
        "m = geemap.Map(center=(centroid[1], centroid[0]), zoom=zoom_level)\n",
        "\n",
        "# Visualization parameters are not strictly needed for feature collections/geometries,\n",
        "# but we can add a simple outline color if the default is hard to see.\n",
        "aoi_vis = {'color': 'FF0000'} # Red outline\n",
        "\n",
        "# Add the AOI layer using aoi_ee\n",
        "m.add_layer(aoi_ee, aoi_vis, \"Woodland Caribou Provincial Park\")\n",
        "\n",
        "# Add the layer manager to easily toggle layers\n",
        "m.add_layer_manager()\n",
        "\n",
        "m"
      ],
      "cell_type": "code",
      "metadata": {
        "id": "-ovLlnnOHhJD"
      },
      "execution_count": null,
      "outputs": []
    },
    {
      "cell_type": "markdown",
      "source": [
        "Using the woodland caribou AOI we can clip the era5 land image collection to the AOI and specify date ranges.\n",
        "\n",
        "We always filter by the AOI first. This significantly reduces the size of the image collection you're working with, making subsequent filtering steps more efficient.\n",
        "\n",
        "Once you have images relevant to your AOI, you can then filter them by date or date range to select the specific images you need for your analysis.\n"
      ],
      "metadata": {
        "id": "VbZ8Mx3uK8Sp"
      }
    },
    {
      "cell_type": "code",
      "source": [
        "# Filter by AOI and date range\n",
        "era5_land_daily_filtered = era5_land_daily.filterDate('2023-07-01', '2023-07-31').filterBounds(aoi_ee)\n",
        "\n",
        "print(f\"Filtered collection size: {era5_land_daily_filtered.size().getInfo()}\")\n",
        "\n",
        "\n"
      ],
      "metadata": {
        "id": "5pKc_UpYLdAo"
      },
      "execution_count": null,
      "outputs": []
    },
    {
      "cell_type": "markdown",
      "source": [
        "Let's inspect the image collection\n",
        "\n",
        "\n",
        "\n"
      ],
      "metadata": {
        "id": "VVB8PQAvV2JC"
      }
    },
    {
      "cell_type": "code",
      "source": [
        "# Get the information about the collection\n",
        "era5_land_daily_filtered"
      ],
      "metadata": {
        "id": "Te84CBNYf9mE"
      },
      "execution_count": null,
      "outputs": []
    },
    {
      "cell_type": "markdown",
      "source": [
        "The image collection is contains 30 images corresponding to each day, with 150 bands (variables) per image.\n",
        "\n",
        "Images are split into bands and properties, bands contains the variables of interest and properties contain the metadata for the image, in this case the day, month and year. The system:time_end and system:time_start is the system time stanp im miliseconds since the UNIX epoch.\n",
        "\n",
        "If we want to look at one date in particular, we can filter the image collection by metadata.\n"
      ],
      "metadata": {
        "id": "pDkBzuZrw-am"
      }
    },
    {
      "cell_type": "code",
      "source": [
        "era5_july_10 = era5_land_daily_filtered.filter(ee.Filter.eq('day', 10))\n",
        "era5_july_10"
      ],
      "metadata": {
        "id": "9I7pX5gyyOmP"
      },
      "execution_count": null,
      "outputs": []
    },
    {
      "cell_type": "markdown",
      "source": [
        "If we want to look at the temperature for that day, we can select the temperature band"
      ],
      "metadata": {
        "id": "wB15M9b8zKEk"
      }
    },
    {
      "cell_type": "code",
      "source": [
        "era5_july_10_temp = era5_july_10.select('temperature_2m')\n",
        "era5_july_10_temp"
      ],
      "metadata": {
        "id": "kS-dw5CBzRVj"
      },
      "execution_count": null,
      "outputs": []
    },
    {
      "cell_type": "markdown",
      "source": [
        "Lets say we want to get the average temperature over the time range for Woodland Caribou, to do this, we can use reducers.\n",
        "\n",
        "Reducers allow us to reduce an Image Collection to a single image based on a variable of interest. There are different ways we can reduce an Image Collection.\n",
        "*   Mean\n",
        "*   Median\n",
        "*   Mode\n",
        "*   Sum\n",
        "*   MinMax\n",
        "*   Quartiles\n",
        "\n",
        "There are two ways we can apply a reducer over the image\n",
        "\n",
        "The first options to reduce an image collection, we can call .median()\n",
        "This option reduces the image collection to an image.\n",
        "\n",
        "At each location in the output image, in each band, the pixel value is the median of all unmasked pixels in the input imagery (the images in the collection). In the previous example, median() is a convenience method for the following cal"
      ],
      "metadata": {
        "id": "p81VvGZgpNuz"
      }
    },
    {
      "cell_type": "code",
      "source": [
        "median_temp_img =  era5_land_daily_filtered.select(\"temperature_2m\").median()\n",
        "median_temp_img"
      ],
      "metadata": {
        "id": "3YUUVK6Ll3yc"
      },
      "execution_count": null,
      "outputs": []
    },
    {
      "cell_type": "markdown",
      "source": [
        "After filtering an image, **it is always a good idea to clip the image.** This is because although we filtered the dataset in the previous step, an Image Collection is a mosaic of tiles (in this case 11km tiles), therefore it will retain all tiles that cross the bounds of our image (i.e., it does not mask areas outside the boundary). Clipping on the other hand, can only be done for an image, and crops the image to the boundary of our feature (AOI) and masks all values that fall outside of it."
      ],
      "metadata": {
        "id": "QcVGsXqGmOp_"
      }
    },
    {
      "cell_type": "code",
      "source": [
        "clipped_temp_img = median_temp_img.clip(aoi_ee)\n"
      ],
      "metadata": {
        "id": "6lF93A5Nm7n7"
      },
      "execution_count": null,
      "outputs": []
    },
    {
      "cell_type": "markdown",
      "source": [
        "In era5 temperature is in kelvin not celcius. We can easily change this by subtracting 273.15 from the image.\n",
        "\n",
        "In this step we will also rename the band from \"temperatue_2m\" to \"temperature_celcius\""
      ],
      "metadata": {
        "id": "NucZDmOfp-dV"
      }
    },
    {
      "cell_type": "code",
      "source": [
        "clipped_temp_img_celcius = clipped_temp_img.subtract(273.15).rename('temperature_celsius')"
      ],
      "metadata": {
        "id": "eJr1B9CgqSOA"
      },
      "execution_count": null,
      "outputs": []
    },
    {
      "cell_type": "markdown",
      "source": [
        "We can visualize the image"
      ],
      "metadata": {
        "id": "_bPZADKfnrV5"
      }
    },
    {
      "cell_type": "code",
      "source": [
        "vis_params = {\n",
        "  'min': 16,\n",
        "  'max': 18,\n",
        "  'palette': [ '#ffff00', '#ffcc00','#ff9900','#ff6600','#ff3300','#ff0000']\n",
        "}\n",
        "\n",
        "m.addLayer(clipped_temp_img_celcius, vis_params, 'Temperature')\n",
        "m"
      ],
      "metadata": {
        "collapsed": true,
        "id": "D_QoFzb6nuUO"
      },
      "execution_count": null,
      "outputs": []
    },
    {
      "cell_type": "markdown",
      "source": [
        "Now say we want to get the min and max temperature over throughout the image, we can do this using the other type of reducer, .reduceRegions()\n",
        "\n",
        "This reduce calculates numerous metrics over the area of interest and returns the value as a dictionary object.\n",
        "\n",
        "This is different that the previous function in that we do not need to clip the image after. Instead we supply the reducer a region of interest, and it reduces all pixels in the image over the given region."
      ],
      "metadata": {
        "id": "qf1YMbGsruQr"
      }
    },
    {
      "cell_type": "code",
      "source": [
        "median_temp_img_celcius = median_temp_img.subtract(273.15).rename('temperature_celsius')\n",
        "\n",
        "woodland_reduced = median_temp_img_celcius.reduceRegion(\n",
        "            reducer=ee.Reducer.minMax(), # could be type .mean(), .mode()...\n",
        "            geometry=aoi_ee.geometry(), # specify the geometry\n",
        "            scale=1000, # set scale usually depends on the grain of the image\n",
        "            maxPixels=1e9) # setting maxPixels to smallest number allows..\n",
        "\n",
        "woodland_reduced"
      ],
      "metadata": {
        "id": "L_KQ-uJRsRcB"
      },
      "execution_count": null,
      "outputs": []
    },
    {
      "cell_type": "markdown",
      "source": [
        "In Google Earth Engine (GEE), a dictionary is a data structure that stores key-value pairs. It’s similar to dictionaries in other programming languages like Python or JavaScript. In GEE, dictionaries are represented using the ee.Dictionary class.\n",
        "\n",
        "Key Concepts:\n",
        "Keys are strings that identify each entry.\n",
        "Values can be numbers, strings, lists, other dictionaries, or Earth Engine objects like ee.Number, ee.String, etc."
      ],
      "metadata": {
        "id": "F_tqRVtsvLVQ"
      }
    },
    {
      "cell_type": "markdown",
      "source": [
        "Instead of calculating the median value across our time period, we can also get more fine grained information by computing the trends over time.\n",
        "\n",
        "To do so, we will need to add a time band to the image and then fit a lienar regression.\n",
        "\n",
        "To add the time band we will create a function a .map() over each image in our image collection"
      ],
      "metadata": {
        "id": "Aj-_-o3oxoCu"
      }
    },
    {
      "cell_type": "code",
      "source": [
        "# function for time band\n",
        "def add_date_band(image):\n",
        "  # Get the day of year\n",
        "  doy = image.date().getRelative('day', 'year')\n",
        "  # Create a constant image with the DOY value\n",
        "  doy_band = ee.Image.constant(doy).uint16().rename('doy')\n",
        "  # Mask using any valid band (e.g., 'temperature_2m_max')\n",
        "  doy_band = doy_band.updateMask(image.select('temperature_2m').mask())\n",
        "  # Add the DOY band to the image\n",
        "  return image.addBands(doy_band)\n",
        "\n",
        "collection_with_time = era5_land_daily_filtered.map(add_date_band)\n",
        "collection_with_time"
      ],
      "metadata": {
        "id": "J4JoLkXe0hzv"
      },
      "execution_count": null,
      "outputs": []
    },
    {
      "cell_type": "markdown",
      "source": [
        "For this we will use the original filtered image collection, we also need to convert the temperature to celcius. We will write a function for this as well."
      ],
      "metadata": {
        "id": "WYz0tmJ32Jgs"
      }
    },
    {
      "cell_type": "code",
      "source": [
        "# function for kelvin_to_celcius\n",
        "def kelvin_to_celcius(image):\n",
        "    celsius = image.select('temperature_2m').subtract(273.15).rename('temperature_celsius')\n",
        "    return image.addBands(celsius)\n",
        "\n",
        "# apply function\n",
        "celsius_collection = collection_with_time.map(kelvin_to_celcius)\n",
        "celsius_collection"
      ],
      "metadata": {
        "id": "-1NzMaQ22WfG"
      },
      "execution_count": null,
      "outputs": []
    },
    {
      "cell_type": "markdown",
      "source": [
        "Run the regression"
      ],
      "metadata": {
        "id": "K89tvpCQ3QrY"
      }
    },
    {
      "cell_type": "code",
      "source": [
        "trend = celsius_collection.select(['doy', 'temperature_celsius']).reduce(ee.Reducer.linearFit())\n"
      ],
      "metadata": {
        "id": "TXmu1W2x3TgE"
      },
      "execution_count": null,
      "outputs": []
    },
    {
      "cell_type": "markdown",
      "source": [
        "Visualize the trend - clip image collection by region of interest"
      ],
      "metadata": {
        "id": "i7-zKFJE37dZ"
      }
    },
    {
      "cell_type": "code",
      "source": [
        "trend_image = trend.select('scale').clip(aoi_ee)\n",
        "\n",
        "m.addLayer(trend_image.select('scale'), {\n",
        "    'min': -0.5,\n",
        "    'max': 0.5,\n",
        "    'palette': ['blue', 'white', 'red']\n",
        "}, 'Temperature Trend (°C/day)'\n",
        ")\n",
        "m"
      ],
      "metadata": {
        "id": "vSHk9QD6396p"
      },
      "execution_count": null,
      "outputs": []
    },
    {
      "cell_type": "markdown",
      "source": [
        "## Data extraction and visualization"
      ],
      "metadata": {
        "id": "Vah54gy0KHz-"
      }
    },
    {
      "cell_type": "markdown",
      "source": [
        "Alhough we govered visualization with geemap while working through data acquisition, we will now go through extracting data in different formats (i.e., images, csvs)\n",
        "\n",
        "In my opinion, this is the most important aspect of GEE. Organizing data properly can be an honerous task, especially because while we can compute large items rather efficiently on the cloud, extracting these data from the cloud can be laborious. In some cases, our queries may be too large and fail. It is therefore important to understand some tips and tricks to extract data.\n",
        "\n",
        "For this exercise we will be working with feature collections. If you remember, a feature collection is a group of geographic features (like points, lines, or polygons), each with associated attribute data. It’s used to represent vector data in Earth Engine.\n",
        "\n",
        "Why use feature collections?\n",
        "They allow you to organize and analyze spatial data by region or category—ideal for tasks like zonal statistics, sampling, or filtering by attributes.\n",
        "\n",
        "How are they structured?\n",
        "Each feature in the collection has a geometry (location or shape) and properties (like name, area, or type). The collection acts like a table of spatial records.\n",
        "\n",
        "Where Do They Come From?\n",
        "You can load them from Earth Engine’s public datasets, import your own shapefiles or GeoJSON, or create them manually in code.\n",
        "\n",
        "In this section we will:\n",
        "*  use feature collection to calculate zonal statistics\n",
        "*  Filtering and grouping attributes\n",
        "*  map functions over multiple geometries\n",
        "*  Exporting results (e.g., CSV or shapefile)\n",
        "\n",
        "We will use a feature collection of 3 large provincial parks - Woodland Caribou, Quetico and Algonquin"
      ],
      "metadata": {
        "id": "84iJ5ql5LCvU"
      }
    },
    {
      "cell_type": "code",
      "source": [
        "fc_fpath = \"https://raw.githubusercontent.com/JamesLabUofT/GEE_Workshop/main/docs/shapefiles/large_provincial_parks.shp\"\n",
        "\n",
        "lrg_parks = gpd.read_file(fc_fpath)\n",
        "lrg_parks"
      ],
      "metadata": {
        "id": "-LGaQtYVL0lv"
      },
      "execution_count": null,
      "outputs": []
    },
    {
      "cell_type": "markdown",
      "source": [
        "Convert to ee odject"
      ],
      "metadata": {
        "id": "QAoZsKv6aFX6"
      }
    },
    {
      "cell_type": "code",
      "source": [
        "lrg_parks_ee = geemap.gdf_to_ee(lrg_parks)\n",
        "lrg_parks_ee"
      ],
      "metadata": {
        "id": "WLaNFg5daKiH"
      },
      "execution_count": null,
      "outputs": []
    },
    {
      "cell_type": "markdown",
      "source": [
        "In this excerise we will look at the maximum daily temperature and total precipitation for summer of 2000 and 2023 and calculate the mean over time\n",
        "\n"
      ],
      "metadata": {
        "id": "dBLUwon7aif-"
      }
    },
    {
      "cell_type": "code",
      "source": [
        "era5_land_daily = ee.ImageCollection('ECMWF/ERA5_LAND/DAILY_AGGR')"
      ],
      "metadata": {
        "id": "d7cY894jdHVb"
      },
      "execution_count": null,
      "outputs": []
    },
    {
      "cell_type": "markdown",
      "source": [
        "Set date ranges"
      ],
      "metadata": {
        "id": "iPKZahqSfmSV"
      }
    },
    {
      "cell_type": "code",
      "source": [
        "start_2000 = '2000-06-01'\n",
        "end_2000 =  '2000-08-31'\n",
        "\n",
        "start_2023= '2023-06-01'\n",
        "end_2023= '2023-08-31'\n"
      ],
      "metadata": {
        "id": "kKTJ2qEAfl6U"
      },
      "execution_count": null,
      "outputs": []
    },
    {
      "cell_type": "markdown",
      "source": [
        "Select the variables of interest\n",
        "\n",
        "\n",
        "\n"
      ],
      "metadata": {
        "id": "RDshniS2gCob"
      }
    },
    {
      "cell_type": "code",
      "source": [
        "era5_land_daily = era5_land_daily.select(['temperature_2m_max', 'total_precipitation_sum'])\n"
      ],
      "metadata": {
        "id": "cIq0ngSugNlM"
      },
      "execution_count": null,
      "outputs": []
    },
    {
      "cell_type": "markdown",
      "source": [
        "Filter by date range"
      ],
      "metadata": {
        "id": "DL0OkXicgm0F"
      }
    },
    {
      "cell_type": "code",
      "source": [
        "range_2000 = era5_land_daily.filterDate(start_2000, end_2000)\n",
        "range_2023 = era5_land_daily.filterDate(start_2023, end_2023)\n",
        "\n",
        "\n"
      ],
      "metadata": {
        "id": "MDX0sfBzgZ0C"
      },
      "execution_count": null,
      "outputs": []
    },
    {
      "cell_type": "markdown",
      "source": [
        "Lets investigate differences in mean and total precipitation over these date ranges\n",
        "\n",
        "We first extract the specific bands for maximum temperature and total precipitation from each filtered collection.\n",
        "\n",
        "Selecting only the needed bands simplifies the dataset and focuses the analysis on relevant variables."
      ],
      "metadata": {
        "id": "b1jzjwb6jsXO"
      }
    },
    {
      "cell_type": "code",
      "source": [
        "# Select temperature and precipitation bands\n",
        "temp_2000 = range_2000.select('temperature_2m_max')\n",
        "precip_2000 = range_2000.select('total_precipitation_sum')\n",
        "\n",
        "temp_2023 = range_2023.select('temperature_2m_max')\n",
        "precip_2023 = range_2023.select('total_precipitation_sum')\n",
        "\n",
        "\n"
      ],
      "metadata": {
        "id": "KuPayRr3jM8j"
      },
      "execution_count": null,
      "outputs": []
    },
    {
      "cell_type": "markdown",
      "source": [
        "Description: These lines compute the mean temperature and total precipitation for each time period.\n",
        "Reasoning: Reducing the data to summary statistics allows for direct comparison between the two periods."
      ],
      "metadata": {
        "id": "bPG2bngBjyvW"
      }
    },
    {
      "cell_type": "code",
      "source": [
        "# Reduce to summary images\n",
        "mean_temp_2000 = temp_2000.mean().rename('mean_temperature_2000')\n",
        "total_precip_2000 = precip_2000.sum().rename('total_precipitation_2000')\n",
        "\n",
        "mean_temp_2023 = temp_2023.mean().rename('mean_temperature_2023')\n",
        "total_precip_2023 = precip_2023.sum().rename('total_precipitation_2023')\n",
        "\n"
      ],
      "metadata": {
        "id": "YEjUMz1ijRD3"
      },
      "execution_count": null,
      "outputs": []
    },
    {
      "cell_type": "markdown",
      "source": [
        "Description: This merges all four summary bands into a single image for easier analysis and export.\n",
        "Reasoning: Combining results into one image simplifies downstream processing and visualization."
      ],
      "metadata": {
        "id": "FLyUOdU8j2hg"
      }
    },
    {
      "cell_type": "code",
      "source": [
        "# Combine into one image for comparison\n",
        "comparison_image = mean_temp_2000 \\\n",
        "  .addBands(total_precip_2000) \\\n",
        "  .addBands(mean_temp_2023) \\\n",
        "  .addBands(total_precip_2023)\n",
        "\n"
      ],
      "metadata": {
        "id": "gyCG3vIcjT_G"
      },
      "execution_count": null,
      "outputs": []
    },
    {
      "cell_type": "markdown",
      "source": [
        "Lets look at the metadata"
      ],
      "metadata": {
        "id": "-MuMja0tj_Kq"
      }
    },
    {
      "cell_type": "code",
      "source": [
        "# Print image metadata\n",
        "comparison_image"
      ],
      "metadata": {
        "id": "mB8DvjFmj9x1"
      },
      "execution_count": null,
      "outputs": []
    },
    {
      "cell_type": "markdown",
      "source": [
        "Now lets extract the mean temperature and precipitation for each image in the collection for each park. We will return the value as a column in a dataframe"
      ],
      "metadata": {
        "id": "37xQsz-IlGqq"
      }
    },
    {
      "cell_type": "code",
      "source": [
        "\n",
        "zonal_stats = comparison_image.reduceRegions(\n",
        "    collection=lrg_parks_ee,\n",
        "    reducer=ee.Reducer.mean(),\n",
        "    scale=1000\n",
        ")\n",
        "zonal_stats"
      ],
      "metadata": {
        "id": "Ci0LDSpmmnZ3"
      },
      "execution_count": null,
      "outputs": []
    },
    {
      "cell_type": "code",
      "source": [
        "# Apply the processing function to each feature in the collection\n",
        "processed_collection = zonal_stats.flatten()\n",
        "\n",
        "#\n",
        "processed_collection\n"
      ],
      "metadata": {
        "id": "4tMG6Tk3lELU"
      },
      "execution_count": null,
      "outputs": []
    },
    {
      "cell_type": "code",
      "source": [
        "\n",
        "    # Convert the collection to a list of dictionaries\n",
        "    data_list = processed_collection.getInfo()['features']\n",
        "\n",
        "    # Extract properties from each feature\n",
        "    data_dicts = [feature['properties'] for feature in data_list]\n",
        "\n",
        "    # Create a DataFrame\n",
        "    df = pd.DataFrame(data_dicts)\n",
        "\n",
        "    df"
      ],
      "metadata": {
        "id": "8AyCOGAFnSC_"
      },
      "execution_count": null,
      "outputs": []
    },
    {
      "cell_type": "markdown",
      "source": [
        "merge the two filtered collections"
      ],
      "metadata": {
        "id": "j3eW7o7FgpPT"
      }
    },
    {
      "cell_type": "code",
      "source": [
        "combined = range_2000.merge(range_2023)\n"
      ],
      "metadata": {
        "id": "RwMOxwVVgrhY"
      },
      "execution_count": null,
      "outputs": []
    },
    {
      "cell_type": "markdown",
      "source": [
        "Sort by time to maintain a chronological order"
      ],
      "metadata": {
        "id": "dkH-QuSchdhX"
      }
    },
    {
      "cell_type": "code",
      "source": [
        "combined = combined.sort('system:time_start')\n",
        "\n"
      ],
      "metadata": {
        "id": "3JWub21zhcuT"
      },
      "execution_count": null,
      "outputs": []
    },
    {
      "cell_type": "markdown",
      "source": [
        "Lets check to see how many images we have"
      ],
      "metadata": {
        "id": "-X_XM5Vshllw"
      }
    },
    {
      "cell_type": "code",
      "source": [
        "# Print the number of images in the combined collection\n",
        "print('Total images:', combined.size().getInfo())"
      ],
      "metadata": {
        "id": "vAMaxkzohjgq"
      },
      "execution_count": null,
      "outputs": []
    },
    {
      "cell_type": "markdown",
      "source": [
        "Lets calculate the mean for each"
      ],
      "metadata": {
        "id": "RtYe_JzLiIBp"
      }
    },
    {
      "cell_type": "markdown",
      "source": [
        "## Custom Function To Extract FWI Data"
      ],
      "metadata": {
        "id": "zgd5fAmWfqGh"
      }
    },
    {
      "cell_type": "code",
      "source": [
        "def extract_era5_land_data(feature_collection, year):\n",
        "    \"\"\"This function takes a feature collection and a year as YYYY and returns:\n",
        "       a pandas dataframe with a row for date, t, rh,ws, ppt.\n",
        "       start date and end date are set in the function to April 30 - August 31 of each year.\n",
        "       This can be adjusted in the function under #Define the date range\n",
        "\n",
        "    \"\"\"\n",
        "    # Define the date range\n",
        "    start_date = f'{year}-04-30'\n",
        "    end_date = f'{year}-08-31'\n",
        "\n",
        "    # Load the ERA5-Land hourly dataset\n",
        "    era5_land = ee.ImageCollection('ECMWF/ERA5_LAND/HOURLY')\n",
        "\n",
        "    # Filter the dataset by date range and time (13:00)\n",
        "    era5_filtered = era5_land.filterDate(start_date, end_date).filter(ee.Filter.eq('hour', 13))\n",
        "\n",
        "    # Define the bands to extract\n",
        "    bands = ['temperature_2m', 'total_precipitation', 'u_component_of_wind_10m',\n",
        "             'v_component_of_wind_10m', 'dewpoint_temperature_2m']\n",
        "\n",
        "    # Select the bands\n",
        "    era5_selected = era5_filtered.select(bands)\n",
        "\n",
        "    # Calculate relative humidity and wind speed\n",
        "    def calculate_additional_bands(image):\n",
        "        temp = image.select('temperature_2m')\n",
        "        dewpoint = image.select('dewpoint_temperature_2m')\n",
        "        u_wind = image.select('u_component_of_wind_10m')\n",
        "        v_wind = image.select('v_component_of_wind_10m')\n",
        "\n",
        "        e_temp = temp.expression(\n",
        "            '6.112 * exp((17.67 * temp) / (temp + 243.5))',\n",
        "            {'temp': temp}\n",
        "        )\n",
        "\n",
        "        e_dew = dewpoint.expression(\n",
        "            '6.112 * exp((17.67 * dewpoint) / (dewpoint + 243.5))',\n",
        "            {'dewpoint': dewpoint}\n",
        "        )\n",
        "\n",
        "        rh = e_dew.divide(e_temp).multiply(100).rename('relative_humidity_2m')\n",
        "\n",
        "        wind_speed = u_wind.pow(2).add(v_wind.pow(2)).sqrt().rename('wind_speed_10m')\n",
        "\n",
        "        return image.addBands([rh, wind_speed])\n",
        "\n",
        "    # Apply the relative humidity calculation\n",
        "    era5_with_rh = era5_selected.map(calculate_additional_bands)\n",
        "\n",
        "    # Function to reduce each image to a dictionary of values\n",
        "    def reduce_image(image, feature):\n",
        "        reduced = image.reduceRegion(\n",
        "            reducer=ee.Reducer.mode(),\n",
        "            geometry=feature.geometry(),\n",
        "            scale=1000,\n",
        "            maxPixels=1e9\n",
        "        )\n",
        "        return ee.Feature(None, reduced).set('date', image.date().format('YYYY-MM-dd')).copyProperties(feature, ['Fire_ID', 'defoltd', 'id'])\n",
        "\n",
        "    # Function to process each feature in the collection\n",
        "    def process_feature(feature):\n",
        "        era5_reduced = era5_with_rh.map(lambda image: reduce_image(image, feature))\n",
        "        return era5_reduced\n",
        "\n",
        "    # Apply the processing function to each feature in the collection\n",
        "    processed_collection = feature_collection.map(process_feature).flatten()\n",
        "\n",
        "    # Convert the collection to a list of dictionaries\n",
        "    data_list = processed_collection.getInfo()['features']\n",
        "\n",
        "    # Extract properties from each feature\n",
        "    data_dicts = [feature['properties'] for feature in data_list]\n",
        "\n",
        "    # Create a DataFrame\n",
        "    df = pd.DataFrame(data_dicts)\n",
        "\n",
        "    df = df[['date', 'temperature_2m', 'relative_humidity_2m', 'wind_speed_10m',\n",
        "             'total_precipitation', 'Fire_ID', 'defoltd', 'id']]\n",
        "\n",
        "    def kelvin_to_celcius(x):\n",
        "        return x - 273.15\n",
        "\n",
        "    df['temperature_2m'] = df['temperature_2m'].apply(kelvin_to_celcius)\n",
        "\n",
        "    return df"
      ],
      "metadata": {
        "id": "TQUWrySEea4y"
      },
      "execution_count": null,
      "outputs": []
    }
  ]
}