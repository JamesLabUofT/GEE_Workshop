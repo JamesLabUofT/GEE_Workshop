{
  "nbformat": 4,
  "nbformat_minor": 0,
  "metadata": {
    "colab": {
      "provenance": [],
      "authorship_tag": "ABX9TyMx2pM10wsBoMWyHDxkmeKm",
      "include_colab_link": true
    },
    "kernelspec": {
      "name": "python3",
      "display_name": "Python 3"
    },
    "language_info": {
      "name": "python"
    }
  },
  "cells": [
    {
      "cell_type": "markdown",
      "metadata": {
        "id": "view-in-github",
        "colab_type": "text"
      },
      "source": [
        "<a href=\"https://colab.research.google.com/github/JamesLabUofT/GEE_Workshop/blob/main/scripts/working_with_era5.ipynb\" target=\"_parent\"><img src=\"https://colab.research.google.com/assets/colab-badge.svg\" alt=\"Open In Colab\"/></a>"
      ]
    },
    {
      "cell_type": "markdown",
      "source": [
        "# Working with ERA5 Climate Data in Google Earth Engine Using Python\n",
        "\n",
        "### Module Overview:\n",
        "\n",
        "This module introduces participants to the fundamentals of accessing, processing, and extracting climate data—specifically ERA5 reanalysis data—using Google Earth Engine (GEE) and Python. Through hands-on coding exercises in Google Colab, participants will learn how to build scalable workflows for climate data analysis relevant to ecological and environmental research.\n",
        "\n",
        "### Learning Objectives:\n",
        "\n",
        "By the end of this module, participants will be able to:\n",
        "\n",
        "* Understand the structure and content of ERA5 datasets available in GEE.\n",
        "* Use Python and the Earth Engine API to access and filter ERA5 data by time and region.\n",
        "* Extract and visualize climate variables (e.g., precipitation, temperature) over custom geographic areas.\n",
        "* Export processed data for further analysis or reporting.\n",
        "\n",
        "### Topics Covered:\n",
        "\n",
        "**Introduction to ERA5 Data**\n",
        "\n",
        "1. What is ERA5? - Key variables and temporal resolution\n",
        "2. Accessing ERA5 in Google Earth Engine\n",
        "\n",
        "\n",
        "Using Google Colab for cloud-based analysis\n",
        "Installing and importing required packages (earthengine-api, geemap, pandas, matplotlib)\n",
        "\n",
        "**Data Acquisition**\n",
        "\n",
        "1. Filtering ERA5 ImageCollections by date, region or metadata.\n",
        "2. Selecting relevant climate variables (e.g., total_precipitation, temperature_2m)\n",
        "\n",
        "**Data Processing**\n",
        "\n",
        "1. Reducing data over regions of interest (e.g., national parks, watersheds)\n",
        "2. Aggregating data temporally (monthly, yearly averages)\n",
        "3. Converting units and formatting results\n",
        "\n",
        "**Data Extraction and Visualization**\n",
        "\n",
        "1. Exporting time series data to Pandas DataFrames**\n",
        "2. Creating plots and maps using matplotlib and geemap\n",
        "3. Exporting data to CSV or Google Drive\n",
        "\n",
        "**Custom Functions to Extract Data**\n",
        "\n",
        "1. Function to extract parameters for FWI calculations\n"
      ],
      "metadata": {
        "id": "OImh14DoQxnV"
      }
    },
    {
      "cell_type": "markdown",
      "source": [
        "## Introduction to ERA5"
      ],
      "metadata": {
        "id": "enWscLh4gQd8"
      }
    },
    {
      "cell_type": "markdown",
      "source": [
        "1. What is ERA5?\n",
        "\n",
        "ERA5 is the fifth version of global climate data reanalysis created by the Copernicus Climate Change Service at the European Centre for Medium-Range Weather Forecasts (ECMWF). It offers hourly data on various climate-related factors in the atmosphere, land, and oceans, starting from 1940 up to today.\n",
        "\n",
        "Temporal Aggregations:\n",
        "  1. Hourly - Houly data for key variab;es\n",
        "  2. Daily - Daily aggregates of the core variables,\n",
        "  3. Monthly - Monthly averages and extremes of key variables\n",
        "\n",
        "\n",
        "Key Variables\n",
        "\n",
        "*   Temperature (measured at 2m)\n",
        "*   Precipitation\n",
        "*   Wind speed\n",
        "*   Dewpoint Temperature\n",
        "*   Pressure\n",
        "*   Radiation Fluxes\n",
        "*   Soil moisture\n",
        "*   Snow Cover\n",
        "\n",
        "\n"
      ],
      "metadata": {
        "id": "nJ8DptiraFRl"
      }
    },
    {
      "cell_type": "markdown",
      "source": [
        "2. Accessing ERA5 via python API\n",
        "\n",
        "In order to start working with the python GEE API, we need to initilaze our environment. We need to do this at the beginning of every new script. As a reminder, we do so with ee.Authenticate() and/or ee.Initialize()"
      ],
      "metadata": {
        "id": "m4YUjqXwgXii"
      }
    },
    {
      "cell_type": "code",
      "source": [
        "import ee\n",
        "ee.Authenticate()\n",
        "ee.Initialize(project=\"ee-jandrewgoldman\") #ee-userid"
      ],
      "metadata": {
        "id": "CBzNB7ILhE-9"
      },
      "execution_count": 2,
      "outputs": []
    },
    {
      "cell_type": "markdown",
      "source": [
        "For this workshop, we will also be working with geopandas"
      ],
      "metadata": {
        "id": "J5dOPGAW4W6N"
      }
    },
    {
      "cell_type": "code",
      "source": [
        "import geopandas as gpd\n",
        "import matplotlib.pyplot as plt\n",
        "!pip install contextily\n",
        "import contextily as ctx\n",
        "import pandas as pd\n"
      ],
      "metadata": {
        "colab": {
          "base_uri": "https://localhost:8080/"
        },
        "id": "tHRCU3zq6TJU",
        "outputId": "1230fcb6-fc11-465a-bd69-463201c1c8b1"
      },
      "execution_count": 5,
      "outputs": [
        {
          "output_type": "stream",
          "name": "stdout",
          "text": [
            "Collecting contextily\n",
            "  Downloading contextily-1.6.2-py3-none-any.whl.metadata (2.9 kB)\n",
            "Requirement already satisfied: geopy in /usr/local/lib/python3.11/dist-packages (from contextily) (2.4.1)\n",
            "Requirement already satisfied: matplotlib in /usr/local/lib/python3.11/dist-packages (from contextily) (3.10.0)\n",
            "Collecting mercantile (from contextily)\n",
            "  Downloading mercantile-1.2.1-py3-none-any.whl.metadata (4.8 kB)\n",
            "Requirement already satisfied: pillow in /usr/local/lib/python3.11/dist-packages (from contextily) (11.2.1)\n",
            "Collecting rasterio (from contextily)\n",
            "  Downloading rasterio-1.4.3-cp311-cp311-manylinux_2_17_x86_64.manylinux2014_x86_64.whl.metadata (9.1 kB)\n",
            "Requirement already satisfied: requests in /usr/local/lib/python3.11/dist-packages (from contextily) (2.32.3)\n",
            "Requirement already satisfied: joblib in /usr/local/lib/python3.11/dist-packages (from contextily) (1.5.1)\n",
            "Requirement already satisfied: xyzservices in /usr/local/lib/python3.11/dist-packages (from contextily) (2025.4.0)\n",
            "Requirement already satisfied: geographiclib<3,>=1.52 in /usr/local/lib/python3.11/dist-packages (from geopy->contextily) (2.0)\n",
            "Requirement already satisfied: contourpy>=1.0.1 in /usr/local/lib/python3.11/dist-packages (from matplotlib->contextily) (1.3.2)\n",
            "Requirement already satisfied: cycler>=0.10 in /usr/local/lib/python3.11/dist-packages (from matplotlib->contextily) (0.12.1)\n",
            "Requirement already satisfied: fonttools>=4.22.0 in /usr/local/lib/python3.11/dist-packages (from matplotlib->contextily) (4.58.4)\n",
            "Requirement already satisfied: kiwisolver>=1.3.1 in /usr/local/lib/python3.11/dist-packages (from matplotlib->contextily) (1.4.8)\n",
            "Requirement already satisfied: numpy>=1.23 in /usr/local/lib/python3.11/dist-packages (from matplotlib->contextily) (2.0.2)\n",
            "Requirement already satisfied: packaging>=20.0 in /usr/local/lib/python3.11/dist-packages (from matplotlib->contextily) (24.2)\n",
            "Requirement already satisfied: pyparsing>=2.3.1 in /usr/local/lib/python3.11/dist-packages (from matplotlib->contextily) (3.2.3)\n",
            "Requirement already satisfied: python-dateutil>=2.7 in /usr/local/lib/python3.11/dist-packages (from matplotlib->contextily) (2.9.0.post0)\n",
            "Requirement already satisfied: click>=3.0 in /usr/local/lib/python3.11/dist-packages (from mercantile->contextily) (8.2.1)\n",
            "Collecting affine (from rasterio->contextily)\n",
            "  Downloading affine-2.4.0-py3-none-any.whl.metadata (4.0 kB)\n",
            "Requirement already satisfied: attrs in /usr/local/lib/python3.11/dist-packages (from rasterio->contextily) (25.3.0)\n",
            "Requirement already satisfied: certifi in /usr/local/lib/python3.11/dist-packages (from rasterio->contextily) (2025.6.15)\n",
            "Collecting cligj>=0.5 (from rasterio->contextily)\n",
            "  Downloading cligj-0.7.2-py3-none-any.whl.metadata (5.0 kB)\n",
            "Collecting click-plugins (from rasterio->contextily)\n",
            "  Downloading click_plugins-1.1.1-py2.py3-none-any.whl.metadata (6.4 kB)\n",
            "Requirement already satisfied: charset-normalizer<4,>=2 in /usr/local/lib/python3.11/dist-packages (from requests->contextily) (3.4.2)\n",
            "Requirement already satisfied: idna<4,>=2.5 in /usr/local/lib/python3.11/dist-packages (from requests->contextily) (3.10)\n",
            "Requirement already satisfied: urllib3<3,>=1.21.1 in /usr/local/lib/python3.11/dist-packages (from requests->contextily) (2.4.0)\n",
            "Requirement already satisfied: six>=1.5 in /usr/local/lib/python3.11/dist-packages (from python-dateutil>=2.7->matplotlib->contextily) (1.17.0)\n",
            "Downloading contextily-1.6.2-py3-none-any.whl (17 kB)\n",
            "Downloading mercantile-1.2.1-py3-none-any.whl (14 kB)\n",
            "Downloading rasterio-1.4.3-cp311-cp311-manylinux_2_17_x86_64.manylinux2014_x86_64.whl (22.2 MB)\n",
            "\u001b[2K   \u001b[90m━━━━━━━━━━━━━━━━━━━━━━━━━━━━━━━━━━━━━━━━\u001b[0m \u001b[32m22.2/22.2 MB\u001b[0m \u001b[31m85.9 MB/s\u001b[0m eta \u001b[36m0:00:00\u001b[0m\n",
            "\u001b[?25hDownloading cligj-0.7.2-py3-none-any.whl (7.1 kB)\n",
            "Downloading affine-2.4.0-py3-none-any.whl (15 kB)\n",
            "Downloading click_plugins-1.1.1-py2.py3-none-any.whl (7.5 kB)\n",
            "Installing collected packages: mercantile, cligj, click-plugins, affine, rasterio, contextily\n",
            "Successfully installed affine-2.4.0 click-plugins-1.1.1 cligj-0.7.2 contextily-1.6.2 mercantile-1.2.1 rasterio-1.4.3\n"
          ]
        }
      ]
    },
    {
      "cell_type": "markdown",
      "source": [
        "When reading in data from image or feature collections it is always a good idea to filter the collection. Remember, image/feature collections are very large. Since we are working we a cloud-based system (and for free), we are unable to print or visualize very large objects. It is easier to handle filtered data.\n",
        "\n",
        "For example, lets read in era5_land_hourly"
      ],
      "metadata": {
        "id": "xnYHG80yjSqF"
      }
    },
    {
      "cell_type": "code",
      "source": [
        "# read in era5_land_hourly\n",
        "era5_land_hourly = ee.ImageCollection('ECMWF/ERA5_LAND/HOURLY')\n",
        "\n",
        "#read in era5 land_daily\n",
        "era5_land_daily = ee.ImageCollection('ECMWF/ERA5_LAND/DAILY')\n",
        "\n",
        "# read in era5 land_monthly\n",
        "era5_land_monthly = ee.ImageCollection('ECMWF/ERA5_LAND/MONTHLY')\n"
      ],
      "metadata": {
        "id": "_IeefI0Qj3c7"
      },
      "execution_count": 6,
      "outputs": []
    },
    {
      "cell_type": "markdown",
      "source": [
        "# Data Acquisition"
      ],
      "metadata": {
        "id": "PPDCSfl9lS8i"
      }
    },
    {
      "cell_type": "markdown",
      "source": [
        "Now that we have the data loaded, lets see what we are working with.\n",
        "\n",
        "Lets try to look at the image collections properties (i.e., columns).\n",
        "\n",
        "---\n",
        "\n"
      ],
      "metadata": {
        "id": "H-ATY5O9j-md"
      }
    },
    {
      "cell_type": "code",
      "source": [
        "# Get the information about the collection, including its properties\n",
        "collection_info = era5_land_hourly.getInfo()\n",
        "\n",
        "# Print the collection properties\n",
        "print('Collection Properties:')\n",
        "for prop, value in collection_info.get('properties', {}).items():\n",
        "    print(f'{prop}: {value}')\n"
      ],
      "metadata": {
        "colab": {
          "base_uri": "https://localhost:8080/",
          "height": 436
        },
        "id": "FSa7Mz7DkCzd",
        "outputId": "c42fb132-2daf-4870-b77e-035aebb66282"
      },
      "execution_count": 9,
      "outputs": [
        {
          "output_type": "error",
          "ename": "EEException",
          "evalue": "Collection query aborted after accumulating over 5000 elements.",
          "traceback": [
            "\u001b[0;31m---------------------------------------------------------------------------\u001b[0m",
            "\u001b[0;31mHttpError\u001b[0m                                 Traceback (most recent call last)",
            "\u001b[0;32m/usr/local/lib/python3.11/dist-packages/ee/data.py\u001b[0m in \u001b[0;36m_execute_cloud_call\u001b[0;34m(call, num_retries)\u001b[0m\n\u001b[1;32m    407\u001b[0m   \u001b[0;32mtry\u001b[0m\u001b[0;34m:\u001b[0m\u001b[0;34m\u001b[0m\u001b[0;34m\u001b[0m\u001b[0m\n\u001b[0;32m--> 408\u001b[0;31m     \u001b[0;32mreturn\u001b[0m \u001b[0mcall\u001b[0m\u001b[0;34m.\u001b[0m\u001b[0mexecute\u001b[0m\u001b[0;34m(\u001b[0m\u001b[0mnum_retries\u001b[0m\u001b[0;34m=\u001b[0m\u001b[0mnum_retries\u001b[0m\u001b[0;34m)\u001b[0m\u001b[0;34m\u001b[0m\u001b[0;34m\u001b[0m\u001b[0m\n\u001b[0m\u001b[1;32m    409\u001b[0m   \u001b[0;32mexcept\u001b[0m \u001b[0mgoogleapiclient\u001b[0m\u001b[0;34m.\u001b[0m\u001b[0merrors\u001b[0m\u001b[0;34m.\u001b[0m\u001b[0mHttpError\u001b[0m \u001b[0;32mas\u001b[0m \u001b[0me\u001b[0m\u001b[0;34m:\u001b[0m\u001b[0;34m\u001b[0m\u001b[0;34m\u001b[0m\u001b[0m\n",
            "\u001b[0;32m/usr/local/lib/python3.11/dist-packages/googleapiclient/_helpers.py\u001b[0m in \u001b[0;36mpositional_wrapper\u001b[0;34m(*args, **kwargs)\u001b[0m\n\u001b[1;32m    129\u001b[0m                     \u001b[0mlogger\u001b[0m\u001b[0;34m.\u001b[0m\u001b[0mwarning\u001b[0m\u001b[0;34m(\u001b[0m\u001b[0mmessage\u001b[0m\u001b[0;34m)\u001b[0m\u001b[0;34m\u001b[0m\u001b[0;34m\u001b[0m\u001b[0m\n\u001b[0;32m--> 130\u001b[0;31m             \u001b[0;32mreturn\u001b[0m \u001b[0mwrapped\u001b[0m\u001b[0;34m(\u001b[0m\u001b[0;34m*\u001b[0m\u001b[0margs\u001b[0m\u001b[0;34m,\u001b[0m \u001b[0;34m**\u001b[0m\u001b[0mkwargs\u001b[0m\u001b[0;34m)\u001b[0m\u001b[0;34m\u001b[0m\u001b[0;34m\u001b[0m\u001b[0m\n\u001b[0m\u001b[1;32m    131\u001b[0m \u001b[0;34m\u001b[0m\u001b[0m\n",
            "\u001b[0;32m/usr/local/lib/python3.11/dist-packages/googleapiclient/http.py\u001b[0m in \u001b[0;36mexecute\u001b[0;34m(self, http, num_retries)\u001b[0m\n\u001b[1;32m    937\u001b[0m         \u001b[0;32mif\u001b[0m \u001b[0mresp\u001b[0m\u001b[0;34m.\u001b[0m\u001b[0mstatus\u001b[0m \u001b[0;34m>=\u001b[0m \u001b[0;36m300\u001b[0m\u001b[0;34m:\u001b[0m\u001b[0;34m\u001b[0m\u001b[0;34m\u001b[0m\u001b[0m\n\u001b[0;32m--> 938\u001b[0;31m             \u001b[0;32mraise\u001b[0m \u001b[0mHttpError\u001b[0m\u001b[0;34m(\u001b[0m\u001b[0mresp\u001b[0m\u001b[0;34m,\u001b[0m \u001b[0mcontent\u001b[0m\u001b[0;34m,\u001b[0m \u001b[0muri\u001b[0m\u001b[0;34m=\u001b[0m\u001b[0mself\u001b[0m\u001b[0;34m.\u001b[0m\u001b[0muri\u001b[0m\u001b[0;34m)\u001b[0m\u001b[0;34m\u001b[0m\u001b[0;34m\u001b[0m\u001b[0m\n\u001b[0m\u001b[1;32m    939\u001b[0m         \u001b[0;32mreturn\u001b[0m \u001b[0mself\u001b[0m\u001b[0;34m.\u001b[0m\u001b[0mpostproc\u001b[0m\u001b[0;34m(\u001b[0m\u001b[0mresp\u001b[0m\u001b[0;34m,\u001b[0m \u001b[0mcontent\u001b[0m\u001b[0;34m)\u001b[0m\u001b[0;34m\u001b[0m\u001b[0;34m\u001b[0m\u001b[0m\n",
            "\u001b[0;31mHttpError\u001b[0m: <HttpError 400 when requesting https://earthengine.googleapis.com/v1/projects/ee-jandrewgoldman/value:compute?prettyPrint=false&alt=json returned \"Collection query aborted after accumulating over 5000 elements.\". Details: \"Collection query aborted after accumulating over 5000 elements.\">",
            "\nDuring handling of the above exception, another exception occurred:\n",
            "\u001b[0;31mEEException\u001b[0m                               Traceback (most recent call last)",
            "\u001b[0;32m/tmp/ipython-input-9-3818370586.py\u001b[0m in \u001b[0;36m<cell line: 0>\u001b[0;34m()\u001b[0m\n\u001b[1;32m      1\u001b[0m \u001b[0;31m# Get the information about the collection, including its properties\u001b[0m\u001b[0;34m\u001b[0m\u001b[0;34m\u001b[0m\u001b[0m\n\u001b[0;32m----> 2\u001b[0;31m \u001b[0mcollection_info\u001b[0m \u001b[0;34m=\u001b[0m \u001b[0mera5_land_hourly\u001b[0m\u001b[0;34m.\u001b[0m\u001b[0mgetInfo\u001b[0m\u001b[0;34m(\u001b[0m\u001b[0;34m)\u001b[0m\u001b[0;34m\u001b[0m\u001b[0;34m\u001b[0m\u001b[0m\n\u001b[0m\u001b[1;32m      3\u001b[0m \u001b[0;34m\u001b[0m\u001b[0m\n\u001b[1;32m      4\u001b[0m \u001b[0;31m# Print the collection properties\u001b[0m\u001b[0;34m\u001b[0m\u001b[0;34m\u001b[0m\u001b[0m\n\u001b[1;32m      5\u001b[0m \u001b[0mprint\u001b[0m\u001b[0;34m(\u001b[0m\u001b[0;34m'Collection Properties:'\u001b[0m\u001b[0;34m)\u001b[0m\u001b[0;34m\u001b[0m\u001b[0;34m\u001b[0m\u001b[0m\n",
            "\u001b[0;32m/usr/local/lib/python3.11/dist-packages/ee/collection.py\u001b[0m in \u001b[0;36mgetInfo\u001b[0;34m(self)\u001b[0m\n\u001b[1;32m    577\u001b[0m            \u001b[0mproperties\u001b[0m\u001b[0;34m.\u001b[0m\u001b[0;34m\u001b[0m\u001b[0;34m\u001b[0m\u001b[0m\n\u001b[1;32m    578\u001b[0m     \"\"\"\n\u001b[0;32m--> 579\u001b[0;31m     \u001b[0;32mreturn\u001b[0m \u001b[0msuper\u001b[0m\u001b[0;34m(\u001b[0m\u001b[0;34m)\u001b[0m\u001b[0;34m.\u001b[0m\u001b[0mgetInfo\u001b[0m\u001b[0;34m(\u001b[0m\u001b[0;34m)\u001b[0m\u001b[0;34m\u001b[0m\u001b[0;34m\u001b[0m\u001b[0m\n\u001b[0m\u001b[1;32m    580\u001b[0m \u001b[0;34m\u001b[0m\u001b[0m\n\u001b[1;32m    581\u001b[0m   def iterate(\n",
            "\u001b[0;32m/usr/local/lib/python3.11/dist-packages/ee/computedobject.py\u001b[0m in \u001b[0;36mgetInfo\u001b[0;34m(self)\u001b[0m\n\u001b[1;32m    105\u001b[0m       \u001b[0mThe\u001b[0m \u001b[0mobject\u001b[0m \u001b[0mcan\u001b[0m \u001b[0mevaluate\u001b[0m \u001b[0mto\u001b[0m \u001b[0manything\u001b[0m\u001b[0;34m.\u001b[0m\u001b[0;34m\u001b[0m\u001b[0;34m\u001b[0m\u001b[0m\n\u001b[1;32m    106\u001b[0m     \"\"\"\n\u001b[0;32m--> 107\u001b[0;31m     \u001b[0;32mreturn\u001b[0m \u001b[0mdata\u001b[0m\u001b[0;34m.\u001b[0m\u001b[0mcomputeValue\u001b[0m\u001b[0;34m(\u001b[0m\u001b[0mself\u001b[0m\u001b[0;34m)\u001b[0m\u001b[0;34m\u001b[0m\u001b[0;34m\u001b[0m\u001b[0m\n\u001b[0m\u001b[1;32m    108\u001b[0m \u001b[0;34m\u001b[0m\u001b[0m\n\u001b[1;32m    109\u001b[0m   \u001b[0;32mdef\u001b[0m \u001b[0mencode\u001b[0m\u001b[0;34m(\u001b[0m\u001b[0mself\u001b[0m\u001b[0;34m,\u001b[0m \u001b[0mencoder\u001b[0m\u001b[0;34m:\u001b[0m \u001b[0mOptional\u001b[0m\u001b[0;34m[\u001b[0m\u001b[0mCallable\u001b[0m\u001b[0;34m[\u001b[0m\u001b[0;34m...\u001b[0m\u001b[0;34m,\u001b[0m \u001b[0mAny\u001b[0m\u001b[0;34m]\u001b[0m\u001b[0;34m]\u001b[0m\u001b[0;34m)\u001b[0m \u001b[0;34m->\u001b[0m \u001b[0mDict\u001b[0m\u001b[0;34m[\u001b[0m\u001b[0mstr\u001b[0m\u001b[0;34m,\u001b[0m \u001b[0mAny\u001b[0m\u001b[0;34m]\u001b[0m\u001b[0;34m:\u001b[0m\u001b[0;34m\u001b[0m\u001b[0;34m\u001b[0m\u001b[0m\n",
            "\u001b[0;32m/usr/local/lib/python3.11/dist-packages/ee/data.py\u001b[0m in \u001b[0;36mcomputeValue\u001b[0;34m(obj)\u001b[0m\n\u001b[1;32m   1126\u001b[0m   \u001b[0m_maybe_populate_workload_tag\u001b[0m\u001b[0;34m(\u001b[0m\u001b[0mbody\u001b[0m\u001b[0;34m)\u001b[0m\u001b[0;34m\u001b[0m\u001b[0;34m\u001b[0m\u001b[0m\n\u001b[1;32m   1127\u001b[0m \u001b[0;34m\u001b[0m\u001b[0m\n\u001b[0;32m-> 1128\u001b[0;31m   return _execute_cloud_call(\n\u001b[0m\u001b[1;32m   1129\u001b[0m       \u001b[0m_get_cloud_projects\u001b[0m\u001b[0;34m(\u001b[0m\u001b[0;34m)\u001b[0m\u001b[0;34m\u001b[0m\u001b[0;34m\u001b[0m\u001b[0m\n\u001b[1;32m   1130\u001b[0m       \u001b[0;34m.\u001b[0m\u001b[0mvalue\u001b[0m\u001b[0;34m(\u001b[0m\u001b[0;34m)\u001b[0m\u001b[0;34m\u001b[0m\u001b[0;34m\u001b[0m\u001b[0m\n",
            "\u001b[0;32m/usr/local/lib/python3.11/dist-packages/ee/data.py\u001b[0m in \u001b[0;36m_execute_cloud_call\u001b[0;34m(call, num_retries)\u001b[0m\n\u001b[1;32m    408\u001b[0m     \u001b[0;32mreturn\u001b[0m \u001b[0mcall\u001b[0m\u001b[0;34m.\u001b[0m\u001b[0mexecute\u001b[0m\u001b[0;34m(\u001b[0m\u001b[0mnum_retries\u001b[0m\u001b[0;34m=\u001b[0m\u001b[0mnum_retries\u001b[0m\u001b[0;34m)\u001b[0m\u001b[0;34m\u001b[0m\u001b[0;34m\u001b[0m\u001b[0m\n\u001b[1;32m    409\u001b[0m   \u001b[0;32mexcept\u001b[0m \u001b[0mgoogleapiclient\u001b[0m\u001b[0;34m.\u001b[0m\u001b[0merrors\u001b[0m\u001b[0;34m.\u001b[0m\u001b[0mHttpError\u001b[0m \u001b[0;32mas\u001b[0m \u001b[0me\u001b[0m\u001b[0;34m:\u001b[0m\u001b[0;34m\u001b[0m\u001b[0;34m\u001b[0m\u001b[0m\n\u001b[0;32m--> 410\u001b[0;31m     \u001b[0;32mraise\u001b[0m \u001b[0m_translate_cloud_exception\u001b[0m\u001b[0;34m(\u001b[0m\u001b[0me\u001b[0m\u001b[0;34m)\u001b[0m  \u001b[0;31m# pylint: disable=raise-missing-from\u001b[0m\u001b[0;34m\u001b[0m\u001b[0;34m\u001b[0m\u001b[0m\n\u001b[0m\u001b[1;32m    411\u001b[0m \u001b[0;34m\u001b[0m\u001b[0m\n\u001b[1;32m    412\u001b[0m \u001b[0;34m\u001b[0m\u001b[0m\n",
            "\u001b[0;31mEEException\u001b[0m: Collection query aborted after accumulating over 5000 elements."
          ]
        }
      ]
    },
    {
      "cell_type": "markdown",
      "source": [
        "As you can see above, our query returns an error message. This is because we are trying to get information on a large number of images/properties."
      ],
      "metadata": {
        "id": "ajJHVPmzkR_1"
      }
    },
    {
      "cell_type": "code",
      "source": [
        "# For example, the number of images in the collection:\n",
        "count = era5_land_hourly.size().getInfo()\n",
        "print(f'\\nNumber of images in collection: {count}')"
      ],
      "metadata": {
        "colab": {
          "base_uri": "https://localhost:8080/"
        },
        "id": "c38Ri1MekgAv",
        "outputId": "7c90aed5-e061-4980-9d9f-f53254783743"
      },
      "execution_count": 11,
      "outputs": [
        {
          "output_type": "stream",
          "name": "stdout",
          "text": [
            "\n",
            "Number of images in collection: 661367\n"
          ]
        }
      ]
    },
    {
      "cell_type": "code",
      "source": [
        "\n",
        "# Get the date range\n",
        "date_range = era5_land_hourly.reduceColumns(ee.Reducer.minMax(), ['system:time_start'])\n",
        "\n",
        "# Extract min and max dates\n",
        "min_date_ms = date_range.get('min').getInfo()\n",
        "max_date_ms = date_range.get('max').getInfo()\n",
        "\n",
        "# Convert milliseconds to ee.Date objects and then to human-readable format\n",
        "min_date = ee.Date(min_date_ms).format('YYYY-MM-dd').getInfo()\n",
        "max_date = ee.Date(max_date_ms).format('YYYY-MM-dd').getInfo()\n",
        "\n",
        "print(f\"Image Collection Date Range: From {min_date} to {max_date}\")\n",
        "\n"
      ],
      "metadata": {
        "colab": {
          "base_uri": "https://localhost:8080/"
        },
        "id": "63sTu1rfgoQE",
        "outputId": "21d7d0ad-9b03-4ea0-9cc0-f2c71cad36f4"
      },
      "execution_count": 8,
      "outputs": [
        {
          "output_type": "stream",
          "name": "stdout",
          "text": [
            "Image Collection Date Range: From 1950-01-01 to 2025-06-12\n"
          ]
        }
      ]
    },
    {
      "cell_type": "markdown",
      "source": [
        "As mentioned earlier, it is important to filter the data to your area of interest and date range prior to running any queries.\n",
        "\n",
        "There are three types of filtering methods.\n",
        "\n",
        "Let's first load in the AOI.\n",
        "\n",
        "For this excerise we will be using Woodland Caribou Provincial Park. The geojson can be found in the github and can be loaded directly using the url."
      ],
      "metadata": {
        "id": "jbX7RRsqpF4_"
      }
    },
    {
      "cell_type": "code",
      "source": [
        "woodland_fpath = \"https://raw.githubusercontent.com/JamesLabUofT/GEE_Workshop/main/docs/woodland_caribou_provincial_park.geojson\"\n",
        "\n",
        "aoi = gpd.read_file(woodland_fpath, engine=\"pyogrio\")"
      ],
      "metadata": {
        "id": "94BTh-1Q3tdF"
      },
      "execution_count": 8,
      "outputs": []
    },
    {
      "cell_type": "markdown",
      "source": [
        "Lets visualize the AOI"
      ],
      "metadata": {
        "id": "ojrAFVvcIxGB"
      }
    },
    {
      "cell_type": "code",
      "source": [
        "# Plot the AOI using geopandas built-in plotting function\n",
        "fig, ax = plt.subplots(1, 1, figsize=(10, 10))\n",
        "aoi.plot(ax=ax)\n",
        "# Add a basemap for context\n",
        "ctx.add_basemap(ax, crs=aoi.crs.to_epsg())\n",
        "plt.title(\"Area of Interest: Woodland Caribou Provincial Park\")\n",
        "plt.show()"
      ],
      "metadata": {
        "colab": {
          "base_uri": "https://localhost:8080/",
          "height": 909
        },
        "id": "C6w03gqxI2mD",
        "outputId": "5c2ed334-bd1e-49dd-a6d4-44022e0f43ce"
      },
      "execution_count": 34,
      "outputs": [
        {
          "output_type": "stream",
          "name": "stderr",
          "text": [
            "/usr/local/lib/python3.11/dist-packages/contextily/tile.py:645: UserWarning: The inferred zoom level of 26 is not valid for the current tile provider (valid zooms: 0 - 19).\n",
            "  warnings.warn(msg)\n"
          ]
        },
        {
          "output_type": "display_data",
          "data": {
            "text/plain": [
              "<Figure size 1000x1000 with 1 Axes>"
            ],
            "image/png": "[encoded data removed]"
          },
          "metadata": {}
        }
      ]
    },
    {
      "cell_type": "markdown",
      "source": [
        "Using the woodland caribou AOI we can clip the era5 land image collection to the AOI and specify date ranges.\n",
        "\n",
        "To begin, we always filter by the AOI first.This significantly reduces the size of the image collection you're working with, making subsequent filtering steps more efficient.\n",
        "\n",
        "Once you have images relevant to your AOI, you can then filter them by date or date range to select the specific images you need for your analysis."
      ],
      "metadata": {
        "id": "VbZ8Mx3uK8Sp"
      }
    },
    {
      "cell_type": "code",
      "source": [
        "# Assuming 'aoi' is already defined as an ee.Geometry object or feature collection\n",
        "# If aoi is a GeoDataFrame, convert it to an ee.Geometry\n",
        "if isinstance(aoi, gpd.GeoDataFrame):\n",
        "    # Ensure the GeoDataFrame is in a geographic projection (like EPSG:4326) for Earth Engine\n",
        "    # If not, reproject it before converting to Earth Engine object\n",
        "    if aoi.crs and aoi.crs.to_epsg() != 4326:\n",
        "        aoi = aoi.to_crs(epsg=4326)\n",
        "\n",
        "    # Convert the GeoDataFrame's geometry to an ee.Geometry object.\n",
        "    # Assuming we take the union of all geometries in the GeoDataFrame as the AOI\n",
        "    aoi_ee = ee.FeatureCollection(aoi.__geo_interface__).geometry()\n",
        "elif isinstance(aoi, ee.Geometry):\n",
        "    aoi_ee = aoi\n",
        "else:\n",
        "    raise TypeError(\"AOI must be a GeoDataFrame or an ee.Geometry\")\n",
        "\n",
        "\n",
        "# Filter by AOI and date range\n",
        "era5_land_hourly_filtered = era5_land_hourly \\\n",
        "    .filterBounds(aoi_ee) \\\n",
        "    .filterDate('2020-01-01', '2025-12-31')\n",
        "\n",
        "print(f\"Filtered collection size: {era5_land_hourly_filtered.size().getInfo()}\")\n",
        "\n",
        "\n"
      ],
      "metadata": {
        "colab": {
          "base_uri": "https://localhost:8080/"
        },
        "id": "5pKc_UpYLdAo",
        "outputId": "c6197bea-2ac8-475e-8fe0-108bb7ceb22f"
      },
      "execution_count": 9,
      "outputs": [
        {
          "output_type": "stream",
          "name": "stdout",
          "text": [
            "Filtered collection size: 47880\n"
          ]
        }
      ]
    },
    {
      "cell_type": "markdown",
      "source": [
        "Even now, we have 48755 observations, lets bring it down a bit.."
      ],
      "metadata": {
        "id": "VVB8PQAvV2JC"
      }
    },
    {
      "cell_type": "code",
      "source": [
        "era5_land_hourly_filtered = era5_land_hourly \\\n",
        "    .filterBounds(aoi_ee) \\\n",
        "    .filterDate('2024-10-31', '2024-12-31')\n",
        "\n",
        "print(f\"Filtered collection size: {era5_land_hourly_filtered.size().getInfo()}\")\n"
      ],
      "metadata": {
        "id": "OW8WXVDFVuXo",
        "outputId": "a7e6839e-70c1-4c89-9356-0abaf4af3faa",
        "colab": {
          "base_uri": "https://localhost:8080/"
        }
      },
      "execution_count": 12,
      "outputs": [
        {
          "output_type": "stream",
          "name": "stdout",
          "text": [
            "Filtered collection size: 1464\n"
          ]
        }
      ]
    },
    {
      "cell_type": "code",
      "source": [
        "# Get the information about the collection, including its properties\n",
        "collection_info = era5_land_hourly_filtered.getInfo()\n",
        "\n",
        "for prop, value in collection_info.get('properties', {}).items():\n",
        "    print(f'{prop}: {value}')"
      ],
      "metadata": {
        "id": "Te84CBNYf9mE"
      },
      "execution_count": null,
      "outputs": []
    },
    {
      "cell_type": "markdown",
      "source": [
        "Let's look at the band names (available data points)"
      ],
      "metadata": {
        "id": "fwr8iblHgzFk"
      }
    },
    {
      "cell_type": "code",
      "source": [
        "era5_land_hourly_filtered.getInfo()['features'][0]['bands']"
      ],
      "metadata": {
        "collapsed": true,
        "id": "vTb9RxnKg3op",
        "outputId": "79246e86-7e83-4b0a-83cf-b5bc1d4ced29",
        "colab": {
          "base_uri": "https://localhost:8080/"
        }
      },
      "execution_count": 14,
      "outputs": [
        {
          "output_type": "execute_result",
          "data": {
            "text/plain": [
              "[{'id': 'dewpoint_temperature_2m',\n",
              "  'data_type': {'type': 'PixelType', 'precision': 'double'},\n",
              "  'dimensions': [3601, 1801],\n",
              "  'crs': 'EPSG:4326',\n",
              "  'crs_transform': [0.1, 0, -360.05, 0, -0.1, 90.05]},\n",
              " {'id': 'temperature_2m',\n",
              "  'data_type': {'type': 'PixelType', 'precision': 'double'},\n",
              "  'dimensions': [3601, 1801],\n",
              "  'crs': 'EPSG:4326',\n",
              "  'crs_transform': [0.1, 0, -360.05, 0, -0.1, 90.05]},\n",
              " {'id': 'skin_temperature',\n",
              "  'data_type': {'type': 'PixelType', 'precision': 'double'},\n",
              "  'dimensions': [3601, 1801],\n",
              "  'crs': 'EPSG:4326',\n",
              "  'crs_transform': [0.1, 0, -360.05, 0, -0.1, 90.05]},\n",
              " {'id': 'soil_temperature_level_1',\n",
              "  'data_type': {'type': 'PixelType', 'precision': 'double'},\n",
              "  'dimensions': [3601, 1801],\n",
              "  'crs': 'EPSG:4326',\n",
              "  'crs_transform': [0.1, 0, -360.05, 0, -0.1, 90.05]},\n",
              " {'id': 'soil_temperature_level_2',\n",
              "  'data_type': {'type': 'PixelType', 'precision': 'double'},\n",
              "  'dimensions': [3601, 1801],\n",
              "  'crs': 'EPSG:4326',\n",
              "  'crs_transform': [0.1, 0, -360.05, 0, -0.1, 90.05]},\n",
              " {'id': 'soil_temperature_level_3',\n",
              "  'data_type': {'type': 'PixelType', 'precision': 'double'},\n",
              "  'dimensions': [3601, 1801],\n",
              "  'crs': 'EPSG:4326',\n",
              "  'crs_transform': [0.1, 0, -360.05, 0, -0.1, 90.05]},\n",
              " {'id': 'soil_temperature_level_4',\n",
              "  'data_type': {'type': 'PixelType', 'precision': 'double'},\n",
              "  'dimensions': [3601, 1801],\n",
              "  'crs': 'EPSG:4326',\n",
              "  'crs_transform': [0.1, 0, -360.05, 0, -0.1, 90.05]},\n",
              " {'id': 'lake_bottom_temperature',\n",
              "  'data_type': {'type': 'PixelType', 'precision': 'double'},\n",
              "  'dimensions': [3601, 1801],\n",
              "  'crs': 'EPSG:4326',\n",
              "  'crs_transform': [0.1, 0, -360.05, 0, -0.1, 90.05]},\n",
              " {'id': 'lake_ice_depth',\n",
              "  'data_type': {'type': 'PixelType', 'precision': 'float'},\n",
              "  'dimensions': [3601, 1801],\n",
              "  'crs': 'EPSG:4326',\n",
              "  'crs_transform': [0.09999999830410791,\n",
              "   0,\n",
              "   -180.04999999915205,\n",
              "   0,\n",
              "   -0.1,\n",
              "   90.05000762939453]},\n",
              " {'id': 'lake_ice_temperature',\n",
              "  'data_type': {'type': 'PixelType', 'precision': 'float'},\n",
              "  'dimensions': [3601, 1801],\n",
              "  'crs': 'EPSG:4326',\n",
              "  'crs_transform': [0.09999999830410791,\n",
              "   0,\n",
              "   -180.04999999915205,\n",
              "   0,\n",
              "   -0.1,\n",
              "   90.05000762939453]},\n",
              " {'id': 'lake_mix_layer_depth',\n",
              "  'data_type': {'type': 'PixelType', 'precision': 'double'},\n",
              "  'dimensions': [3601, 1801],\n",
              "  'crs': 'EPSG:4326',\n",
              "  'crs_transform': [0.1, 0, -360.05, 0, -0.1, 90.05]},\n",
              " {'id': 'lake_mix_layer_temperature',\n",
              "  'data_type': {'type': 'PixelType', 'precision': 'double'},\n",
              "  'dimensions': [3601, 1801],\n",
              "  'crs': 'EPSG:4326',\n",
              "  'crs_transform': [0.1, 0, -360.05, 0, -0.1, 90.05]},\n",
              " {'id': 'lake_shape_factor',\n",
              "  'data_type': {'type': 'PixelType', 'precision': 'float'},\n",
              "  'dimensions': [3601, 1801],\n",
              "  'crs': 'EPSG:4326',\n",
              "  'crs_transform': [0.09999999830410791,\n",
              "   0,\n",
              "   -180.04999999915205,\n",
              "   0,\n",
              "   -0.1,\n",
              "   90.05000762939453]},\n",
              " {'id': 'lake_total_layer_temperature',\n",
              "  'data_type': {'type': 'PixelType', 'precision': 'float'},\n",
              "  'dimensions': [3601, 1801],\n",
              "  'crs': 'EPSG:4326',\n",
              "  'crs_transform': [0.09999999830410791,\n",
              "   0,\n",
              "   -180.04999999915205,\n",
              "   0,\n",
              "   -0.1,\n",
              "   90.05000762939453]},\n",
              " {'id': 'snow_albedo',\n",
              "  'data_type': {'type': 'PixelType', 'precision': 'double'},\n",
              "  'dimensions': [3601, 1801],\n",
              "  'crs': 'EPSG:4326',\n",
              "  'crs_transform': [0.1, 0, -360.05, 0, -0.1, 90.05]},\n",
              " {'id': 'snow_cover',\n",
              "  'data_type': {'type': 'PixelType', 'precision': 'double'},\n",
              "  'dimensions': [3601, 1801],\n",
              "  'crs': 'EPSG:4326',\n",
              "  'crs_transform': [0.1, 0, -360.05, 0, -0.1, 90.05]},\n",
              " {'id': 'snow_density',\n",
              "  'data_type': {'type': 'PixelType', 'precision': 'double'},\n",
              "  'dimensions': [3601, 1801],\n",
              "  'crs': 'EPSG:4326',\n",
              "  'crs_transform': [0.1, 0, -360.05, 0, -0.1, 90.05]},\n",
              " {'id': 'snow_depth',\n",
              "  'data_type': {'type': 'PixelType', 'precision': 'double'},\n",
              "  'dimensions': [3601, 1801],\n",
              "  'crs': 'EPSG:4326',\n",
              "  'crs_transform': [0.1, 0, -360.05, 0, -0.1, 90.05]},\n",
              " {'id': 'snow_depth_water_equivalent',\n",
              "  'data_type': {'type': 'PixelType', 'precision': 'double'},\n",
              "  'dimensions': [3601, 1801],\n",
              "  'crs': 'EPSG:4326',\n",
              "  'crs_transform': [0.1, 0, -360.05, 0, -0.1, 90.05]},\n",
              " {'id': 'snowfall',\n",
              "  'data_type': {'type': 'PixelType', 'precision': 'double'},\n",
              "  'dimensions': [3601, 1801],\n",
              "  'crs': 'EPSG:4326',\n",
              "  'crs_transform': [0.1, 0, -360.05, 0, -0.1, 90.05]},\n",
              " {'id': 'snowmelt',\n",
              "  'data_type': {'type': 'PixelType', 'precision': 'double'},\n",
              "  'dimensions': [3601, 1801],\n",
              "  'crs': 'EPSG:4326',\n",
              "  'crs_transform': [0.1, 0, -360.05, 0, -0.1, 90.05]},\n",
              " {'id': 'temperature_of_snow_layer',\n",
              "  'data_type': {'type': 'PixelType', 'precision': 'double'},\n",
              "  'dimensions': [3601, 1801],\n",
              "  'crs': 'EPSG:4326',\n",
              "  'crs_transform': [0.1, 0, -360.05, 0, -0.1, 90.05]},\n",
              " {'id': 'skin_reservoir_content',\n",
              "  'data_type': {'type': 'PixelType', 'precision': 'double'},\n",
              "  'dimensions': [3601, 1801],\n",
              "  'crs': 'EPSG:4326',\n",
              "  'crs_transform': [0.1, 0, -360.05, 0, -0.1, 90.05]},\n",
              " {'id': 'volumetric_soil_water_layer_1',\n",
              "  'data_type': {'type': 'PixelType', 'precision': 'double'},\n",
              "  'dimensions': [3601, 1801],\n",
              "  'crs': 'EPSG:4326',\n",
              "  'crs_transform': [0.1, 0, -360.05, 0, -0.1, 90.05]},\n",
              " {'id': 'volumetric_soil_water_layer_2',\n",
              "  'data_type': {'type': 'PixelType', 'precision': 'double'},\n",
              "  'dimensions': [3601, 1801],\n",
              "  'crs': 'EPSG:4326',\n",
              "  'crs_transform': [0.1, 0, -360.05, 0, -0.1, 90.05]},\n",
              " {'id': 'volumetric_soil_water_layer_3',\n",
              "  'data_type': {'type': 'PixelType', 'precision': 'double'},\n",
              "  'dimensions': [3601, 1801],\n",
              "  'crs': 'EPSG:4326',\n",
              "  'crs_transform': [0.1, 0, -360.05, 0, -0.1, 90.05]},\n",
              " {'id': 'volumetric_soil_water_layer_4',\n",
              "  'data_type': {'type': 'PixelType', 'precision': 'double'},\n",
              "  'dimensions': [3601, 1801],\n",
              "  'crs': 'EPSG:4326',\n",
              "  'crs_transform': [0.1, 0, -360.05, 0, -0.1, 90.05]},\n",
              " {'id': 'forecast_albedo',\n",
              "  'data_type': {'type': 'PixelType', 'precision': 'double'},\n",
              "  'dimensions': [3601, 1801],\n",
              "  'crs': 'EPSG:4326',\n",
              "  'crs_transform': [0.1, 0, -360.05, 0, -0.1, 90.05]},\n",
              " {'id': 'surface_latent_heat_flux',\n",
              "  'data_type': {'type': 'PixelType', 'precision': 'double'},\n",
              "  'dimensions': [3601, 1801],\n",
              "  'crs': 'EPSG:4326',\n",
              "  'crs_transform': [0.1, 0, -360.05, 0, -0.1, 90.05]},\n",
              " {'id': 'surface_net_solar_radiation',\n",
              "  'data_type': {'type': 'PixelType', 'precision': 'double'},\n",
              "  'dimensions': [3601, 1801],\n",
              "  'crs': 'EPSG:4326',\n",
              "  'crs_transform': [0.1, 0, -360.05, 0, -0.1, 90.05]},\n",
              " {'id': 'surface_net_thermal_radiation',\n",
              "  'data_type': {'type': 'PixelType', 'precision': 'double'},\n",
              "  'dimensions': [3601, 1801],\n",
              "  'crs': 'EPSG:4326',\n",
              "  'crs_transform': [0.1, 0, -360.05, 0, -0.1, 90.05]},\n",
              " {'id': 'surface_sensible_heat_flux',\n",
              "  'data_type': {'type': 'PixelType', 'precision': 'double'},\n",
              "  'dimensions': [3601, 1801],\n",
              "  'crs': 'EPSG:4326',\n",
              "  'crs_transform': [0.1, 0, -360.05, 0, -0.1, 90.05]},\n",
              " {'id': 'surface_solar_radiation_downwards',\n",
              "  'data_type': {'type': 'PixelType', 'precision': 'double'},\n",
              "  'dimensions': [3601, 1801],\n",
              "  'crs': 'EPSG:4326',\n",
              "  'crs_transform': [0.1, 0, -360.05, 0, -0.1, 90.05]},\n",
              " {'id': 'surface_thermal_radiation_downwards',\n",
              "  'data_type': {'type': 'PixelType', 'precision': 'double'},\n",
              "  'dimensions': [3601, 1801],\n",
              "  'crs': 'EPSG:4326',\n",
              "  'crs_transform': [0.1, 0, -360.05, 0, -0.1, 90.05]},\n",
              " {'id': 'evaporation_from_bare_soil',\n",
              "  'data_type': {'type': 'PixelType', 'precision': 'double'},\n",
              "  'dimensions': [3601, 1801],\n",
              "  'crs': 'EPSG:4326',\n",
              "  'crs_transform': [0.1, 0, -360.05, 0, -0.1, 90.05]},\n",
              " {'id': 'evaporation_from_open_water_surfaces_excluding_oceans',\n",
              "  'data_type': {'type': 'PixelType', 'precision': 'double'},\n",
              "  'dimensions': [3601, 1801],\n",
              "  'crs': 'EPSG:4326',\n",
              "  'crs_transform': [0.1, 0, -360.05, 0, -0.1, 90.05]},\n",
              " {'id': 'evaporation_from_the_top_of_canopy',\n",
              "  'data_type': {'type': 'PixelType', 'precision': 'double'},\n",
              "  'dimensions': [3601, 1801],\n",
              "  'crs': 'EPSG:4326',\n",
              "  'crs_transform': [0.1, 0, -360.05, 0, -0.1, 90.05]},\n",
              " {'id': 'evaporation_from_vegetation_transpiration',\n",
              "  'data_type': {'type': 'PixelType', 'precision': 'double'},\n",
              "  'dimensions': [3601, 1801],\n",
              "  'crs': 'EPSG:4326',\n",
              "  'crs_transform': [0.1, 0, -360.05, 0, -0.1, 90.05]},\n",
              " {'id': 'potential_evaporation',\n",
              "  'data_type': {'type': 'PixelType', 'precision': 'double'},\n",
              "  'dimensions': [3601, 1801],\n",
              "  'crs': 'EPSG:4326',\n",
              "  'crs_transform': [0.1, 0, -360.05, 0, -0.1, 90.05]},\n",
              " {'id': 'runoff',\n",
              "  'data_type': {'type': 'PixelType', 'precision': 'double'},\n",
              "  'dimensions': [3601, 1801],\n",
              "  'crs': 'EPSG:4326',\n",
              "  'crs_transform': [0.1, 0, -360.05, 0, -0.1, 90.05]},\n",
              " {'id': 'snow_evaporation',\n",
              "  'data_type': {'type': 'PixelType', 'precision': 'double'},\n",
              "  'dimensions': [3601, 1801],\n",
              "  'crs': 'EPSG:4326',\n",
              "  'crs_transform': [0.1, 0, -360.05, 0, -0.1, 90.05]},\n",
              " {'id': 'sub_surface_runoff',\n",
              "  'data_type': {'type': 'PixelType', 'precision': 'double'},\n",
              "  'dimensions': [3601, 1801],\n",
              "  'crs': 'EPSG:4326',\n",
              "  'crs_transform': [0.1, 0, -360.05, 0, -0.1, 90.05]},\n",
              " {'id': 'surface_runoff',\n",
              "  'data_type': {'type': 'PixelType', 'precision': 'double'},\n",
              "  'dimensions': [3601, 1801],\n",
              "  'crs': 'EPSG:4326',\n",
              "  'crs_transform': [0.1, 0, -360.05, 0, -0.1, 90.05]},\n",
              " {'id': 'total_evaporation',\n",
              "  'data_type': {'type': 'PixelType', 'precision': 'double'},\n",
              "  'dimensions': [3601, 1801],\n",
              "  'crs': 'EPSG:4326',\n",
              "  'crs_transform': [0.1, 0, -360.05, 0, -0.1, 90.05]},\n",
              " {'id': 'u_component_of_wind_10m',\n",
              "  'data_type': {'type': 'PixelType', 'precision': 'double'},\n",
              "  'dimensions': [3601, 1801],\n",
              "  'crs': 'EPSG:4326',\n",
              "  'crs_transform': [0.1, 0, -360.05, 0, -0.1, 90.05]},\n",
              " {'id': 'v_component_of_wind_10m',\n",
              "  'data_type': {'type': 'PixelType', 'precision': 'double'},\n",
              "  'dimensions': [3601, 1801],\n",
              "  'crs': 'EPSG:4326',\n",
              "  'crs_transform': [0.1, 0, -360.05, 0, -0.1, 90.05]},\n",
              " {'id': 'surface_pressure',\n",
              "  'data_type': {'type': 'PixelType', 'precision': 'double'},\n",
              "  'dimensions': [3601, 1801],\n",
              "  'crs': 'EPSG:4326',\n",
              "  'crs_transform': [0.1, 0, -360.05, 0, -0.1, 90.05]},\n",
              " {'id': 'total_precipitation',\n",
              "  'data_type': {'type': 'PixelType', 'precision': 'double'},\n",
              "  'dimensions': [3601, 1801],\n",
              "  'crs': 'EPSG:4326',\n",
              "  'crs_transform': [0.1, 0, -360.05, 0, -0.1, 90.05]},\n",
              " {'id': 'leaf_area_index_high_vegetation',\n",
              "  'data_type': {'type': 'PixelType', 'precision': 'double'},\n",
              "  'dimensions': [3601, 1801],\n",
              "  'crs': 'EPSG:4326',\n",
              "  'crs_transform': [0.1, 0, -360.05, 0, -0.1, 90.05]},\n",
              " {'id': 'leaf_area_index_low_vegetation',\n",
              "  'data_type': {'type': 'PixelType', 'precision': 'double'},\n",
              "  'dimensions': [3601, 1801],\n",
              "  'crs': 'EPSG:4326',\n",
              "  'crs_transform': [0.1, 0, -360.05, 0, -0.1, 90.05]},\n",
              " {'id': 'snowfall_hourly',\n",
              "  'data_type': {'type': 'PixelType', 'precision': 'double'},\n",
              "  'dimensions': [3601, 1801],\n",
              "  'crs': 'EPSG:4326',\n",
              "  'crs_transform': [0.1, 0, -360.05, 0, -0.1, 90.05]},\n",
              " {'id': 'snowmelt_hourly',\n",
              "  'data_type': {'type': 'PixelType', 'precision': 'double'},\n",
              "  'dimensions': [3601, 1801],\n",
              "  'crs': 'EPSG:4326',\n",
              "  'crs_transform': [0.1, 0, -360.05, 0, -0.1, 90.05]},\n",
              " {'id': 'surface_latent_heat_flux_hourly',\n",
              "  'data_type': {'type': 'PixelType', 'precision': 'double'},\n",
              "  'dimensions': [3601, 1801],\n",
              "  'crs': 'EPSG:4326',\n",
              "  'crs_transform': [0.1, 0, -360.05, 0, -0.1, 90.05]},\n",
              " {'id': 'surface_net_solar_radiation_hourly',\n",
              "  'data_type': {'type': 'PixelType', 'precision': 'double'},\n",
              "  'dimensions': [3601, 1801],\n",
              "  'crs': 'EPSG:4326',\n",
              "  'crs_transform': [0.1, 0, -360.05, 0, -0.1, 90.05]},\n",
              " {'id': 'surface_net_thermal_radiation_hourly',\n",
              "  'data_type': {'type': 'PixelType', 'precision': 'double'},\n",
              "  'dimensions': [3601, 1801],\n",
              "  'crs': 'EPSG:4326',\n",
              "  'crs_transform': [0.1, 0, -360.05, 0, -0.1, 90.05]},\n",
              " {'id': 'surface_sensible_heat_flux_hourly',\n",
              "  'data_type': {'type': 'PixelType', 'precision': 'double'},\n",
              "  'dimensions': [3601, 1801],\n",
              "  'crs': 'EPSG:4326',\n",
              "  'crs_transform': [0.1, 0, -360.05, 0, -0.1, 90.05]},\n",
              " {'id': 'surface_solar_radiation_downwards_hourly',\n",
              "  'data_type': {'type': 'PixelType', 'precision': 'double'},\n",
              "  'dimensions': [3601, 1801],\n",
              "  'crs': 'EPSG:4326',\n",
              "  'crs_transform': [0.1, 0, -360.05, 0, -0.1, 90.05]},\n",
              " {'id': 'surface_thermal_radiation_downwards_hourly',\n",
              "  'data_type': {'type': 'PixelType', 'precision': 'double'},\n",
              "  'dimensions': [3601, 1801],\n",
              "  'crs': 'EPSG:4326',\n",
              "  'crs_transform': [0.1, 0, -360.05, 0, -0.1, 90.05]},\n",
              " {'id': 'evaporation_from_bare_soil_hourly',\n",
              "  'data_type': {'type': 'PixelType', 'precision': 'double'},\n",
              "  'dimensions': [3601, 1801],\n",
              "  'crs': 'EPSG:4326',\n",
              "  'crs_transform': [0.1, 0, -360.05, 0, -0.1, 90.05]},\n",
              " {'id': 'evaporation_from_open_water_surfaces_excluding_oceans_hourly',\n",
              "  'data_type': {'type': 'PixelType', 'precision': 'double'},\n",
              "  'dimensions': [3601, 1801],\n",
              "  'crs': 'EPSG:4326',\n",
              "  'crs_transform': [0.1, 0, -360.05, 0, -0.1, 90.05]},\n",
              " {'id': 'evaporation_from_the_top_of_canopy_hourly',\n",
              "  'data_type': {'type': 'PixelType', 'precision': 'double'},\n",
              "  'dimensions': [3601, 1801],\n",
              "  'crs': 'EPSG:4326',\n",
              "  'crs_transform': [0.1, 0, -360.05, 0, -0.1, 90.05]},\n",
              " {'id': 'evaporation_from_vegetation_transpiration_hourly',\n",
              "  'data_type': {'type': 'PixelType', 'precision': 'double'},\n",
              "  'dimensions': [3601, 1801],\n",
              "  'crs': 'EPSG:4326',\n",
              "  'crs_transform': [0.1, 0, -360.05, 0, -0.1, 90.05]},\n",
              " {'id': 'potential_evaporation_hourly',\n",
              "  'data_type': {'type': 'PixelType', 'precision': 'double'},\n",
              "  'dimensions': [3601, 1801],\n",
              "  'crs': 'EPSG:4326',\n",
              "  'crs_transform': [0.1, 0, -360.05, 0, -0.1, 90.05]},\n",
              " {'id': 'runoff_hourly',\n",
              "  'data_type': {'type': 'PixelType', 'precision': 'double'},\n",
              "  'dimensions': [3601, 1801],\n",
              "  'crs': 'EPSG:4326',\n",
              "  'crs_transform': [0.1, 0, -360.05, 0, -0.1, 90.05]},\n",
              " {'id': 'snow_evaporation_hourly',\n",
              "  'data_type': {'type': 'PixelType', 'precision': 'double'},\n",
              "  'dimensions': [3601, 1801],\n",
              "  'crs': 'EPSG:4326',\n",
              "  'crs_transform': [0.1, 0, -360.05, 0, -0.1, 90.05]},\n",
              " {'id': 'sub_surface_runoff_hourly',\n",
              "  'data_type': {'type': 'PixelType', 'precision': 'double'},\n",
              "  'dimensions': [3601, 1801],\n",
              "  'crs': 'EPSG:4326',\n",
              "  'crs_transform': [0.1, 0, -360.05, 0, -0.1, 90.05]},\n",
              " {'id': 'surface_runoff_hourly',\n",
              "  'data_type': {'type': 'PixelType', 'precision': 'double'},\n",
              "  'dimensions': [3601, 1801],\n",
              "  'crs': 'EPSG:4326',\n",
              "  'crs_transform': [0.1, 0, -360.05, 0, -0.1, 90.05]},\n",
              " {'id': 'total_evaporation_hourly',\n",
              "  'data_type': {'type': 'PixelType', 'precision': 'double'},\n",
              "  'dimensions': [3601, 1801],\n",
              "  'crs': 'EPSG:4326',\n",
              "  'crs_transform': [0.1, 0, -360.05, 0, -0.1, 90.05]},\n",
              " {'id': 'total_precipitation_hourly',\n",
              "  'data_type': {'type': 'PixelType', 'precision': 'double'},\n",
              "  'dimensions': [3601, 1801],\n",
              "  'crs': 'EPSG:4326',\n",
              "  'crs_transform': [0.1, 0, -360.05, 0, -0.1, 90.05]}]"
            ]
          },
          "metadata": {},
          "execution_count": 14
        }
      ]
    },
    {
      "cell_type": "markdown",
      "source": [
        "## Custom Function To Extract FWI Data"
      ],
      "metadata": {
        "id": "zgd5fAmWfqGh"
      }
    },
    {
      "cell_type": "code",
      "source": [
        "def extract_era5_land_data(feature_collection, year):\n",
        "    \"\"\"This function takes a feature collection and a year as YYYY and returns:\n",
        "       a pandas dataframe with a row for date, t, rh,ws, ppt.\n",
        "       start date and end date are set in the function to April 30 - August 31 of each year.\n",
        "       This can be adjusted in the function under #Define the date range\n",
        "\n",
        "    \"\"\"\n",
        "    # Define the date range\n",
        "    start_date = f'{year}-04-30'\n",
        "    end_date = f'{year}-08-31'\n",
        "\n",
        "    # Load the ERA5-Land hourly dataset\n",
        "    era5_land = ee.ImageCollection('ECMWF/ERA5_LAND/HOURLY')\n",
        "\n",
        "    # Filter the dataset by date range and time (13:00)\n",
        "    era5_filtered = era5_land.filterDate(start_date, end_date).filter(ee.Filter.eq('hour', 13))\n",
        "\n",
        "    # Define the bands to extract\n",
        "    bands = ['temperature_2m', 'total_precipitation', 'u_component_of_wind_10m',\n",
        "             'v_component_of_wind_10m', 'dewpoint_temperature_2m']\n",
        "\n",
        "    # Select the bands\n",
        "    era5_selected = era5_filtered.select(bands)\n",
        "\n",
        "    # Calculate relative humidity and wind speed\n",
        "    def calculate_additional_bands(image):\n",
        "        temp = image.select('temperature_2m')\n",
        "        dewpoint = image.select('dewpoint_temperature_2m')\n",
        "        u_wind = image.select('u_component_of_wind_10m')\n",
        "        v_wind = image.select('v_component_of_wind_10m')\n",
        "\n",
        "        e_temp = temp.expression(\n",
        "            '6.112 * exp((17.67 * temp) / (temp + 243.5))',\n",
        "            {'temp': temp}\n",
        "        )\n",
        "\n",
        "        e_dew = dewpoint.expression(\n",
        "            '6.112 * exp((17.67 * dewpoint) / (dewpoint + 243.5))',\n",
        "            {'dewpoint': dewpoint}\n",
        "        )\n",
        "\n",
        "        rh = e_dew.divide(e_temp).multiply(100).rename('relative_humidity_2m')\n",
        "\n",
        "        wind_speed = u_wind.pow(2).add(v_wind.pow(2)).sqrt().rename('wind_speed_10m')\n",
        "\n",
        "        return image.addBands([rh, wind_speed])\n",
        "\n",
        "    # Apply the relative humidity calculation\n",
        "    era5_with_rh = era5_selected.map(calculate_additional_bands)\n",
        "\n",
        "    # Function to reduce each image to a dictionary of values\n",
        "    def reduce_image(image, feature):\n",
        "        reduced = image.reduceRegion(\n",
        "            reducer=ee.Reducer.mode(),\n",
        "            geometry=feature.geometry(),\n",
        "            scale=1000,\n",
        "            maxPixels=1e9\n",
        "        )\n",
        "        return ee.Feature(None, reduced).set('date', image.date().format('YYYY-MM-dd')).copyProperties(feature, ['Fire_ID', 'defoltd', 'id'])\n",
        "\n",
        "    # Function to process each feature in the collection\n",
        "    def process_feature(feature):\n",
        "        era5_reduced = era5_with_rh.map(lambda image: reduce_image(image, feature))\n",
        "        return era5_reduced\n",
        "\n",
        "    # Apply the processing function to each feature in the collection\n",
        "    processed_collection = feature_collection.map(process_feature).flatten()\n",
        "\n",
        "    # Convert the collection to a list of dictionaries\n",
        "    data_list = processed_collection.getInfo()['features']\n",
        "\n",
        "    # Extract properties from each feature\n",
        "    data_dicts = [feature['properties'] for feature in data_list]\n",
        "\n",
        "    # Create a DataFrame\n",
        "    df = pd.DataFrame(data_dicts)\n",
        "\n",
        "    df = df[['date', 'temperature_2m', 'relative_humidity_2m', 'wind_speed_10m',\n",
        "             'total_precipitation', 'Fire_ID', 'defoltd', 'id']]\n",
        "\n",
        "    def kelvin_to_celcius(x):\n",
        "        return x - 273.15\n",
        "\n",
        "    df['temperature_2m'] = df['temperature_2m'].apply(kelvin_to_celcius)\n",
        "\n",
        "    return df"
      ],
      "metadata": {
        "id": "TQUWrySEea4y"
      },
      "execution_count": null,
      "outputs": []
    }
  ]
}